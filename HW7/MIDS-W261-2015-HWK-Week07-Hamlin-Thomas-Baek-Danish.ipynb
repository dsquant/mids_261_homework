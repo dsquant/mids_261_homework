{
 "cells": [
  {
   "cell_type": "markdown",
   "metadata": {
    "collapsed": true
   },
   "source": [
    "#DATASCI W261: Machine Learning at Scale\n",
    "\n",
    "**Nick Hamlin** (nickhamlin@gmail.com)  \n",
    "**Tigi Thomas** (tgthomas@berkeley.edu)  \n",
    "**Rock Baek** (rockb1017@gmail.com)  \n",
    "**Hussein Danish** (husseindanish@gmail.com)  \n",
    "  \n",
    "Time of ORIGINAL Submission: 9:00 AM EST, Thursday, March 10, 2016  \n",
    "Time of Resubmission: 10:20 AM EST, Saturday, March 12, 2016  \n",
    "W261-3, Spring 2016  \n",
    "Week 7 Homework\n",
    "\n",
    "###Submission Notes:\n",
    "- For each problem, we've included a summary of the question as posed in the instructions.  In many cases, we have not included the full text to keep the final submission as uncluttered as possible.  For reference, we've included a link to the original instructions in the \"Useful Reference\" below.\n",
    "- Some aspects of this notebook don't always render nicely into PDF form.  In these situations, please reference [the complete rendered notebook on Github](https://github.com/nickhamlin/mids_261_homework/blob/master/HW7/MIDS-W261-2015-HWK-Week07-Hamlin-Thomas-Baek-Danish.ipynb)\n",
    "\n",
    "\n",
    "###Useful References and Notebook Setup:\n",
    "- **[Original Assignment Instructions](https://www.dropbox.com/s/26ejqhkzqdidzwj/HW7-Questions.txt?dl=0)**\n"
   ]
  },
  {
   "cell_type": "code",
   "execution_count": 62,
   "metadata": {
    "collapsed": false
   },
   "outputs": [
    {
     "name": "stdout",
     "output_type": "stream",
     "text": [
      "The autoreload extension is already loaded. To reload it, use:\n",
      "  %reload_ext autoreload\n"
     ]
    }
   ],
   "source": [
    "#Use this to make sure we reload the MrJob code when we make changes\n",
    "%load_ext autoreload\n",
    "%autoreload 2\n",
    "#Render matplotlib charts in notebook\n",
    "%matplotlib inline\n",
    "\n",
    "#Import some modules we know we'll use frequently\n",
    "import numpy as np\n",
    "import pylab as plt"
   ]
  },
  {
   "cell_type": "code",
   "execution_count": 69,
   "metadata": {
    "collapsed": false
   },
   "outputs": [
    {
     "name": "stdout",
     "output_type": "stream",
     "text": [
      "creating new scratch bucket mrjob-a9a7d2100079455f\n",
      "using s3://mrjob-a9a7d2100079455f/tmp/ as our scratch dir on S3\n",
      "Creating persistent job flow to run several jobs in...\n",
      "creating tmp directory /var/folders/rz/drh189k95919thyy3gs3tq400000gn/T/no_script.nicholashamlin.20160312.024137.341853\n",
      "writing master bootstrap script to /var/folders/rz/drh189k95919thyy3gs3tq400000gn/T/no_script.nicholashamlin.20160312.024137.341853/b.py\n",
      "creating S3 bucket 'mrjob-a9a7d2100079455f' to use as scratch space\n",
      "Copying non-input files into s3://mrjob-a9a7d2100079455f/tmp/no_script.nicholashamlin.20160312.024137.341853/files/\n",
      "Waiting 5.0s for S3 eventual consistency\n",
      "Creating Elastic MapReduce job flow\n",
      "Can't access IAM API, trying default instance profile: EMR_EC2_DefaultRole\n",
      "Can't access IAM API, trying default service role: EMR_DefaultRole\n",
      "Job flow created with ID: j-2VQKH4YTSZQSY\n",
      "j-2VQKH4YTSZQSY\n"
     ]
    }
   ],
   "source": [
    "#Use this line of code to kick off a persistent cluster\n",
    "!python -m mrjob.tools.emr.create_job_flow '--conf-path' 'mrjob.conf'"
   ]
  },
  {
   "cell_type": "markdown",
   "metadata": {
    "collapsed": true
   },
   "source": [
    "## HW 7.0\n",
    "\n",
    "### HW 7.0 - Problem Statement\n",
    "In this part of your assignment you will develop the base of your code for the week.\n",
    "\n",
    "Write MRJob classes to find shortest path graph distances, \n",
    "as described in the lectures. In addition to finding the distances, \n",
    "your code should also output a distance-minimizing path between the source and target.\n",
    "Work locally for this part of the assignment, and use \n",
    "both of the undirected and directed toy networks.\n",
    "\n",
    "To proof you code's function, run the following jobs\n",
    "\n",
    "- shortest path in the undirected network from node 1 to node 4\n",
    "Solution: 1,5,4 \n",
    "\n",
    "- shortest path in the directed network from node 1 to node 5\n",
    "Solution: 1,2,4,5\n",
    "\n",
    "and report your output---make sure it is correct!\n",
    "\n",
    "### HW 7.0 - MR job definition\n",
    "For brevity, we've combined the initialization step and the main job into a single unit of code.  During the first pass, we check to make sure each node has been properly initialized and, if not, initialize it.  "
   ]
  },
  {
   "cell_type": "code",
   "execution_count": 337,
   "metadata": {
    "collapsed": false
   },
   "outputs": [
    {
     "name": "stdout",
     "output_type": "stream",
     "text": [
      "Overwriting MRbfs.py\n"
     ]
    }
   ],
   "source": [
    "%%writefile MRbfs.py\n",
    "from __future__ import division\n",
    "from mrjob.job import MRJob\n",
    "from mrjob.job import MRStep\n",
    "import re\n",
    "import ast\n",
    "\n",
    "WORD_RE = re.compile(r\"[\\w']+\")\n",
    " \n",
    "class MRbfs(MRJob):\n",
    "\n",
    "        \n",
    "    def configure_options(self):\n",
    "        super(MRbfs, self).configure_options()\n",
    "        self.add_passthrough_option('--start', default='1', type=str)\n",
    "        self.add_passthrough_option('--end', default='4', type=str)\n",
    "        self.add_passthrough_option('--statuspath', default='', type=str)\n",
    "        self.add_passthrough_option('--iteration', default='1', type=str)\n",
    "        self.add_passthrough_option('--jobtype', default='local', type=str)\n",
    "\n",
    "        \n",
    "    def mapper(self, node, line):\n",
    "        if self.options.iteration=='1':\n",
    "            line = line.strip('\\n')\n",
    "            data = line.split(\"\\t\")\n",
    "            status = 'U' #everything is unvisited initially\n",
    "\n",
    "            # This is the first inialization (from original graph file)\n",
    "            # there are only 2 elements, the node and adjacency list\n",
    "            if(len(data) == 2): \n",
    "                nid = data[0]\n",
    "                N = ast.literal_eval(data[1])\n",
    "\n",
    "                # if our node is the start node , initialize the start\n",
    "                # distance at source = 0.0\n",
    "                if nid == self.options.start:\n",
    "                    ds = 0.0\n",
    "                    status = 'V'\n",
    "                    path=[nid]\n",
    "                else: \n",
    "                    # if this is not the start node, intialize distance to inf and path to empty list\n",
    "                    ds = float(\"inf\")\n",
    "                    path=[]\n",
    "\n",
    "                # yield the root node , (distance, graph structure, status, \"Visited\", and path (as a list))\n",
    "                yield  nid, (ds, N, status,path)\n",
    "\n",
    "                # nor each of the nodes in the adjacency list, \n",
    "                # we expand frontier with starting distance.\n",
    "                for m,d in N.iteritems():\n",
    "                    #new distance is going to be from root node  + dist              \n",
    "                    newdist = d+ds\n",
    "                    new_path=path[:]\n",
    "                    new_path.append(m)\n",
    "                    if newdist < float(\"inf\"):\n",
    "                        status = 'Q'\n",
    "\n",
    "                    yield m, (newdist, None, status,new_path)\n",
    "                \n",
    "        # from Iteration 1 onwards we'll land here...more data items to track\n",
    "        else:\n",
    "            if self.options.jobtype=='local':\n",
    "                inf=float(\"inf\") #THIS IS A TERRIBLE HACKJOB that lets us deal with string/inf eval weirdness\n",
    "                line = line.strip('\\n')\n",
    "                nid,data=eval(line)\n",
    "            \n",
    "            if self.options.jobtype=='emr':\n",
    "                Infinity=float('inf') #SEE HACKJOB ABOVE\n",
    "                line = line.strip('\\n')\n",
    "                nid,data=line.split('\\t')\n",
    "                nid=eval(nid)\n",
    "                data=eval(data)\n",
    "            \n",
    "            \n",
    "            dist=data[0]\n",
    "            N = data[1] # adjacency list - graph to use for next iter\n",
    "            status = data[2] #status - U, Q, V\n",
    "            path=data[3] #list of previously visited nodes\n",
    "            \n",
    "              \n",
    "            #If a node is in the frontier, expand it\n",
    "            if status=='Q':\n",
    "                #Emit original node\n",
    "                yield  nid, (dist, N, 'V',path)\n",
    "                \n",
    "                #Emit linked nodes\n",
    "                for m,d in N.iteritems():\n",
    "                    newdist=d+dist\n",
    "                    new_path=path[:]\n",
    "                    new_path.append(m)\n",
    "                    yield m, (newdist, None, 'Q', new_path)\n",
    "            \n",
    "            #If it's not in the frontier, pass it through unchanged\n",
    "            else:        \n",
    "                yield  nid, (dist, N, status,path)\n",
    "                    \n",
    "                    \n",
    "    def reducer_init(self):\n",
    "        \"\"\"We originally used these values for playing with\n",
    "        alternative implementations of the stopping condition, but\n",
    "        they're not really needed in the final version\"\"\"\n",
    "        self.finished=0\n",
    "        self.shortest_path=[]\n",
    "        self.min_dist=0\n",
    "            \n",
    "    def reducer(self, node, distances):\n",
    "        adjList = {} #adjacency list - to be compiled below\n",
    "        sdist = float(\"inf\") #this is the shortest distance we've seen to the node so far\n",
    "        stati = [] #list of all statuses we've encountered for this node\n",
    "        spath=[] #shortest path we've found to the node so far\n",
    "        for dist in distances:\n",
    "            node_dist,list_of_links,temp_status,path=dist[:]\n",
    "\n",
    "            # Extract the original graph structure from the node that has it\n",
    "            if list_of_links:\n",
    "                adjList = list_of_links\n",
    "            \n",
    "            stati.append(temp_status)\n",
    "            \n",
    "            #If we find a record of a visited node, we can move on\n",
    "            if temp_status == 'V':\n",
    "                sdist=node_dist\n",
    "                spath = path\n",
    "                break\n",
    "                       \n",
    "            # If we find a shorter distance to a node, update our knowledge of it\n",
    "            if node_dist < sdist:\n",
    "                sdist = node_dist\n",
    "                spath=path\n",
    "                if node not in spath:\n",
    "                    spath.append(node)\n",
    "            \n",
    "        #Check the current state of the node\n",
    "        if 'V' in stati:\n",
    "            status='V'\n",
    "            #Have we hit our destination node?\n",
    "            if node==self.options.end :\n",
    "                self.shortest_path=spath\n",
    "                self.finished=1\n",
    "                self.min_dist=sdist\n",
    "        elif 'Q' in stati:\n",
    "            status='Q'\n",
    "        else:\n",
    "            status='U'\n",
    "            \n",
    "        yield node, (sdist, adjList, status, spath)\n",
    "        \n",
    "    def steps(self):\n",
    "        return [MRStep( \n",
    "                        mapper=self.mapper\n",
    "                        ,reducer_init=self.reducer_init\n",
    "                        ,reducer=self.reducer\n",
    "                      )]\n",
    "    \n",
    "if __name__ == '__main__':\n",
    "    MRbfs.run()"
   ]
  },
  {
   "cell_type": "markdown",
   "metadata": {},
   "source": [
    "### HW 7.0 - Undirected Toy Test"
   ]
  },
  {
   "cell_type": "code",
   "execution_count": 6,
   "metadata": {
    "collapsed": false
   },
   "outputs": [
    {
     "name": "stdout",
     "output_type": "stream",
     "text": [
      "Iteration : 1\n",
      "Iteration : 2\n",
      "Iteration : 3\n",
      "DONE\n",
      "Shortest path from 1 to 4 is 2 steps long:\n",
      "The path is:  ['1', '2', '4']\n"
     ]
    }
   ],
   "source": [
    "## HW7 - Undirected Toy Example, running locally\n",
    "%reload_ext autoreload\n",
    "%autoreload 2\n",
    "from MRbfs import MRbfs\n",
    "from __future__ import division\n",
    "                                       \n",
    "\n",
    "iterate = 1\n",
    "stop = False\n",
    "last_total_dist = float(\"inf\")\n",
    "start_node = ''\n",
    "end_node = ''\n",
    "end_sdist = float(\"inf\")\n",
    "path = {}\n",
    "\n",
    "\n",
    "#### TEST VERSION #####\n",
    "input_dir_prefix='undirected_toy'\n",
    "start_node='1'\n",
    "end_node='4'\n",
    "\n",
    "\n",
    "#### RUN THE JOBS #####\n",
    "#The second condition is insurance to make sure we stop after a finite number of cycles...just in case\n",
    "\n",
    "while(not stop and iterate <= 20):\n",
    "    \n",
    "    output_directory=input_dir_prefix+'Output{0}.txt'.format(str(iterate))\n",
    "    if iterate==1:\n",
    "        input_directory=input_dir_prefix+'.txt'\n",
    "    else:\n",
    "        input_directory=input_dir_prefix+'Output{0}.txt'.format(str(iterate-1))\n",
    "\n",
    "    #LOCAL VERSION - IN WHICH WE WRITE RESULTS TO A FILE\n",
    "    mr_job = MRbfs(args=[input_directory, \n",
    "                         #'--file=start_end.txt',\n",
    "                         '--no-strict-protocols',\n",
    "                        '--start',start_node,\n",
    "                        '--end',end_node,\n",
    "                        #'--statuspath',status_path,\n",
    "                        '--iteration',str(iterate)])\n",
    "    \n",
    "    \n",
    "    with mr_job.make_runner() as runner: \n",
    "        runner.run()\n",
    "        print \"Iteration : {0}\".format(iterate)\n",
    "        \n",
    "        #Stream output locally\n",
    "        with open(output_directory, 'w+') as f:\n",
    "            for line in runner.stream_output():\n",
    "                nid,distances =  mr_job.parse_output_line(line)\n",
    "                dist,adjlist,status,path  = distances\n",
    "                f.write(str(mr_job.parse_output_line(line))+'\\n')\n",
    "                if nid==end_node and status=='V':\n",
    "                    print \"DONE\"\n",
    "                    print \"Shortest path from {0} to {1} is {2} steps long:\".format(start_node,end_node,str(len(path)-1))\n",
    "                    print \"The path is: \",path\n",
    "                    stop=True \n",
    "                if nid==end_node:\n",
    "                    break\n",
    "\n",
    "        #just in case this thing does not stop..\n",
    "        iterate += 1   \n"
   ]
  },
  {
   "cell_type": "markdown",
   "metadata": {},
   "source": [
    "### HW 7.0 - Directed Toy Test"
   ]
  },
  {
   "cell_type": "code",
   "execution_count": 5,
   "metadata": {
    "collapsed": false
   },
   "outputs": [
    {
     "name": "stdout",
     "output_type": "stream",
     "text": [
      "Iteration : 1\n",
      "Iteration : 2\n",
      "Iteration : 3\n",
      "Iteration : 4\n",
      "DONE\n",
      "Shortest path from 1 to 5 is 3 steps long:\n",
      "The path is:  ['1', '2', '4', '5']\n"
     ]
    }
   ],
   "source": [
    "## HW7 - Directed Toy Example, running locally\n",
    "%reload_ext autoreload\n",
    "%autoreload 2\n",
    "from MRbfs import MRbfs\n",
    "from __future__ import division\n",
    "                                       \n",
    "\n",
    "iterate = 1\n",
    "stop = False\n",
    "last_total_dist = float(\"inf\")\n",
    "start_node = ''\n",
    "end_node = ''\n",
    "end_sdist = float(\"inf\")\n",
    "path = {}\n",
    "\n",
    "\n",
    "#### TEST VERSION #####\n",
    "input_dir_prefix='directed_toy'\n",
    "start_node='1'\n",
    "end_node='5'\n",
    "\n",
    "#### RUN THE JOBS #####\n",
    "#The second condition is insurance to make sure we stop after a finite number of cycles...just in case\n",
    "\n",
    "while(not stop and iterate <= 20):\n",
    "    \n",
    "    output_directory=input_dir_prefix+'Output{0}.txt'.format(str(iterate))\n",
    "    if iterate==1:\n",
    "        input_directory=input_dir_prefix+'.txt'\n",
    "    else:\n",
    "        input_directory=input_dir_prefix+'Output{0}.txt'.format(str(iterate-1))\n",
    "\n",
    "    #LOCAL VERSION - IN WHICH WE WRITE RESULTS TO A FILE\n",
    "    mr_job = MRbfs(args=[input_directory, \n",
    "                         #'--file=start_end.txt',\n",
    "                         '--no-strict-protocols',\n",
    "                        '--start',start_node,\n",
    "                        '--end',end_node,\n",
    "                        #'--statuspath',status_path,\n",
    "                        '--iteration',str(iterate)])\n",
    "    \n",
    "    \n",
    "    with mr_job.make_runner() as runner: \n",
    "        runner.run()\n",
    "        print \"Iteration : {0}\".format(iterate)\n",
    "        \n",
    "        #Stream output locally\n",
    "        with open(output_directory, 'w+') as f:\n",
    "            for line in runner.stream_output():\n",
    "                nid,distances =  mr_job.parse_output_line(line)\n",
    "                dist,adjlist,status,path  = distances\n",
    "                f.write(str(mr_job.parse_output_line(line))+'\\n')\n",
    "                if nid==end_node and status=='V':\n",
    "                    print \"DONE\"\n",
    "                    print \"Shortest path from {0} to {1} is {2} steps long:\".format(start_node,end_node,str(len(path)-1))\n",
    "                    print \"The path is: \",path\n",
    "                    stop=True \n",
    "                if nid==end_node:\n",
    "                    break\n",
    "\n",
    "        #just in case this thing does not stop..\n",
    "        iterate += 1   \n"
   ]
  },
  {
   "cell_type": "markdown",
   "metadata": {},
   "source": [
    "##HW7.1 \n",
    "\n",
    "### HW 7.1 Problem Statement\n",
    "\n",
    "Using MRJob, explore the synonyms network data.\n",
    "Consider plotting the degree distribution (does it follow a power law?),\n",
    "and determine some of the key features, like:\n",
    "\n",
    "number of nodes, \n",
    "number links,\n",
    "or the average degree (i.e., the average number of links per node),\n",
    "etc...\n",
    "\n",
    "As you develop your code, please be sure to run it locally first (though on the whole dataset). \n",
    "Once you have gotten you code to run locally, deploy it on AWS as a systems test\n",
    "in preparation for our next dataset (which will require AWS).\n",
    "\n",
    "### HW 7.1 Calculating Summary Statistics\n",
    "\n",
    "Here, we take a simple pairs approach to count nodes and edges:"
   ]
  },
  {
   "cell_type": "code",
   "execution_count": 22,
   "metadata": {
    "collapsed": false
   },
   "outputs": [
    {
     "name": "stdout",
     "output_type": "stream",
     "text": [
      "Overwriting mrexplorenltk.py\n"
     ]
    }
   ],
   "source": [
    "%%writefile mrexplorenltk.py\n",
    "\n",
    "from mrjob.job import MRJob\n",
    "from mrjob.job import MRStep\n",
    "import csv\n",
    "from operator import itemgetter\n",
    "import re\n",
    "import ast\n",
    "\n",
    "class mrExploreNLTKTotals(MRJob):\n",
    "            \n",
    "    def mapper(self, _, line):\n",
    "        \"\"\"Emit keyless records (since we don't want to group our results)\n",
    "        Values are (1,node_degree)\"\"\"\n",
    "        line = line.strip('\\n')\n",
    "        data = line.split(\"\\t\")\n",
    "        nid = data[0]\n",
    "        N = eval(data[1])\n",
    "        node_degree = len(N)\n",
    "        yield _,(1,node_degree)\n",
    "\n",
    "        \n",
    "    def reducer(self, nid, line):\n",
    "        \"\"\"Aggregate node counts and degree counts\"\"\"\n",
    "        nodes=0\n",
    "        edges=0\n",
    "        for record in line:\n",
    "            nodes+=record[0]\n",
    "            edges+=record[1]    \n",
    "        yield None, (nodes,edges)\n",
    "    \n",
    "    def steps(self):\n",
    "        return [MRStep(  mapper=self.mapper\n",
    "                    ,reducer=self.reducer\n",
    "                )\n",
    "            ]\n",
    "                \n",
    "if __name__ == '__main__':\n",
    "    mrExploreNLTKTotals.run()"
   ]
  },
  {
   "cell_type": "code",
   "execution_count": 68,
   "metadata": {
    "collapsed": false
   },
   "outputs": [
    {
     "name": "stdout",
     "output_type": "stream",
     "text": [
      "Total Nodes = 8271\n",
      "Total Edges = 61134\n",
      "Average Edges/Node = 7.39136742836\n"
     ]
    }
   ],
   "source": [
    "#HW 7.1 - Calculating summary stats on NLTK data locally\n",
    "%reload_ext autoreload\n",
    "%autoreload 2\n",
    "from __future__ import division\n",
    "from mrexplorenltk import mrExploreNLTKTotals\n",
    "\n",
    "mr_job = mrExploreNLTKTotals(args=['synNet.txt','--no-strict-protocols'])\n",
    "nodes=0\n",
    "edges=0\n",
    "with mr_job.make_runner() as runner:\n",
    "    runner.run()\n",
    "    for line in runner.stream_output():\n",
    "        #This performs the same function as the reducer, which is needed to calculate the\n",
    "        #final totals across a larger cluster.  It's not really important for local use, \n",
    "        #but we'll need it for EMR\n",
    "        _,count =  mr_job.parse_output_line(line)\n",
    "        nodes+=count[0]\n",
    "        edges+=count[1]\n",
    "\n",
    "print \"Total Nodes = {}\".format(nodes)   \n",
    "print \"Total Edges = {}\".format(edges)   \n",
    "print \"Average Edges/Node = {}\".format(edges/nodes)\n",
    "                "
   ]
  },
  {
   "cell_type": "markdown",
   "metadata": {},
   "source": [
    "### HW 7.1 - Plotting the degree distribution\n",
    "\n",
    "This second (very simple job) returns counts of nodes bucketed by how many degrees they have so that the distribution can be easily visualized."
   ]
  },
  {
   "cell_type": "code",
   "execution_count": 76,
   "metadata": {
    "collapsed": false
   },
   "outputs": [
    {
     "name": "stdout",
     "output_type": "stream",
     "text": [
      "Overwriting mrexplorenltkdist.py\n"
     ]
    }
   ],
   "source": [
    "%%writefile mrexplorenltkdist.py\n",
    "\n",
    "from mrjob.job import MRJob\n",
    "from mrjob.job import MRStep\n",
    "import csv\n",
    "from operator import itemgetter\n",
    "import re\n",
    "import ast\n",
    "\n",
    "class mrExploreNLTKDist(MRJob):\n",
    "            \n",
    "    def mapper(self, _, line):\n",
    "        \"\"\"Emit one record per node:\n",
    "        Key: The node's degree (with padded zeros)\n",
    "        Value: 1\n",
    "        \"\"\"\n",
    "        line = line.strip('\\n')\n",
    "        data = line.split(\"\\t\")\n",
    "        nid = data[0]\n",
    "        N = eval(data[1])\n",
    "        if N:\n",
    "            node_degree = len(N)\n",
    "        else:\n",
    "            node_degree=0\n",
    "        #Padding the degrees with leading zeros gives us results in order nicely\n",
    "        yield '{0:010d}'.format(node_degree), 1\n",
    "\n",
    "    def reducer(self, degree, count):\n",
    "        \"\"\"Aggregate pairs returned by the mapper\"\"\"\n",
    "        total_nodes=sum([i for i in count])  \n",
    "        yield degree, total_nodes\n",
    "    \n",
    "    def steps(self):\n",
    "        return [MRStep(  mapper=self.mapper\n",
    "                    ,reducer=self.reducer\n",
    "                )\n",
    "            ]\n",
    "                \n",
    "if __name__ == '__main__':\n",
    "    mrExploreNLTKDist.run()"
   ]
  },
  {
   "cell_type": "code",
   "execution_count": 77,
   "metadata": {
    "collapsed": false
   },
   "outputs": [
    {
     "name": "stdout",
     "output_type": "stream",
     "text": [
      "Done\n"
     ]
    }
   ],
   "source": [
    "#HW 7.1 - Calculating degree distribution on NLTK data locally\n",
    "%reload_ext autoreload\n",
    "%autoreload 2\n",
    "from __future__ import division\n",
    "from mrexplorenltkdist import mrExploreNLTKDist\n",
    "\n",
    "input_dir_prefix='synNet'\n",
    "\n",
    "mr_job = mrExploreNLTKDist(args=['{0}.txt'.format(input_dir_prefix),'--no-strict-protocols'])\n",
    "nodes=0\n",
    "edges=0\n",
    "with open ('{0}_degree_distribution.txt'.format(input_dir_prefix),'w') as f:\n",
    "    with mr_job.make_runner() as runner:\n",
    "        runner.run()\n",
    "        for line in runner.stream_output():\n",
    "            #Write results to a file so we can plot them more easily\n",
    "            f.writelines(line)\n",
    "\n",
    "print \"Done\""
   ]
  },
  {
   "cell_type": "code",
   "execution_count": 78,
   "metadata": {
    "collapsed": false
   },
   "outputs": [
    {
     "data": {
      "image/png": "[encoded data removed]",
      "text/plain": [
       "<matplotlib.figure.Figure at 0x107c1b390>"
      ]
     },
     "metadata": {},
     "output_type": "display_data"
    }
   ],
   "source": [
    "# HW 7.1 - Plot the results of the distribution\n",
    "x=[]\n",
    "y=[]\n",
    "with open ('{0}_degree_distribution.txt'.format(input_dir_prefix),'r') as f:\n",
    "    for line in f.readlines():\n",
    "        data=line.strip('\\n').split('\\t')\n",
    "        degree=int(eval(data[0]))\n",
    "        count=int(data[1])\n",
    "        x.append(degree)\n",
    "        y.append(count)\n",
    "\n",
    "plt.bar(x,y)\n",
    "plt.xlabel('Degree')\n",
    "plt.ylabel('Frequency')\n",
    "plt.title('Degree Distribution')\n",
    "plt.show()"
   ]
  },
  {
   "cell_type": "markdown",
   "metadata": {
    "collapsed": false
   },
   "source": [
    "As we'd expect, the distribution of degree does follow a power law; there are a handful of pages that are widely linked and lots of pages that have very few links.\n",
    "\n",
    "### HW 7.1 - Testing on EMR with the same dataset\n",
    "The only changes here are to the job parameters, but we've rerun everything to ensure that it will work properly in the cloud for 7.3 below."
   ]
  },
  {
   "cell_type": "code",
   "execution_count": 82,
   "metadata": {
    "collapsed": false
   },
   "outputs": [
    {
     "name": "stdout",
     "output_type": "stream",
     "text": [
      "Total Nodes = 8271\n",
      "Total Edges = 61134\n",
      "Average Edges/Node = 7.39136742836\n"
     ]
    }
   ],
   "source": [
    "#HW 7.1 - Calculating summary stats on NLTK data in EMR\n",
    "%reload_ext autoreload\n",
    "%autoreload 2\n",
    "from __future__ import division\n",
    "from mrexplorenltk import mrExploreNLTKTotals\n",
    "\n",
    "input_dir_prefix='synNet'\n",
    "input_directory='s3://hamlin-mids-261/'+input_dir_prefix+'.txt'\n",
    "cluster='j-2VQKH4YTSZQSY'\n",
    "\n",
    "#EMR VERSION\n",
    "mr_job = mrExploreNLTKTotals(args=['-r', 'emr',\n",
    "                     input_directory,\n",
    "                     '--no-strict-protocols',\n",
    "                     '--output-dir','s3://hamlin-mids-261/'+input_dir_prefix+'EDAOutput',\n",
    "                     '--no-output',\n",
    "                     '--emr-job-flow-id', cluster,\n",
    "                    ])\n",
    "\n",
    "nodes=0\n",
    "edges=0\n",
    "with mr_job.make_runner() as runner:\n",
    "    runner.run()\n",
    "    for line in runner.stream_output():\n",
    "        _,count =  mr_job.parse_output_line(line)\n",
    "        nodes+=count[0]\n",
    "        edges+=count[1]\n",
    "\n",
    "print \"Total Nodes = {}\".format(nodes)   \n",
    "print \"Total Edges = {}\".format(edges)   \n",
    "print \"Average Edges/Node = {}\".format(edges/nodes)\n",
    "                "
   ]
  },
  {
   "cell_type": "code",
   "execution_count": 80,
   "metadata": {
    "collapsed": false
   },
   "outputs": [
    {
     "name": "stdout",
     "output_type": "stream",
     "text": [
      "Done\n"
     ]
    }
   ],
   "source": [
    "# HW 7.1 - Calculating degree distribution of NLTK data in EMR\n",
    "%reload_ext autoreload\n",
    "%autoreload 2\n",
    "from __future__ import division\n",
    "from mrexplorenltkdist import mrExploreNLTKDist\n",
    "\n",
    "input_dir_prefix='synNet'\n",
    "input_directory='s3://hamlin-mids-261/'+input_dir_prefix+'.txt'\n",
    "cluster='j-2VQKH4YTSZQSY'\n",
    "\n",
    "#EMR VERSION\n",
    "mr_job = mrExploreNLTKDist(args=['-r', 'emr',\n",
    "                     input_directory,\n",
    "                     '--no-strict-protocols',\n",
    "                     '--output-dir','s3://hamlin-mids-261/'+input_dir_prefix+'DistOutput',\n",
    "                     '--no-output',\n",
    "                     '--emr-job-flow-id', cluster,\n",
    "                    ])\n",
    "\n",
    "with open ('{0}_degree_distribution_EMR.txt'.format(input_dir_prefix),'w') as f:\n",
    "    with mr_job.make_runner() as runner:\n",
    "        runner.run()\n",
    "        for line in runner.stream_output():\n",
    "            #Write results to a file so we can plot them more easily\n",
    "            f.writelines(line)\n",
    "\n",
    "print \"Done\""
   ]
  },
  {
   "cell_type": "code",
   "execution_count": 81,
   "metadata": {
    "collapsed": false
   },
   "outputs": [
    {
     "data": {
      "image/png": "[encoded data removed]",
      "text/plain": [
       "<matplotlib.figure.Figure at 0x107433c10>"
      ]
     },
     "metadata": {},
     "output_type": "display_data"
    }
   ],
   "source": [
    "# HW 7.1 - Plot the results of the EMR-generated distribution\n",
    "x=[]\n",
    "y=[]\n",
    "with open ('{0}_degree_distribution.txt'.format(input_dir_prefix),'r') as f:\n",
    "    for line in f.readlines():\n",
    "        data=line.strip('\\n').split('\\t')\n",
    "        degree=int(eval(data[0]))\n",
    "        count=int(data[1])\n",
    "        x.append(degree)\n",
    "        y.append(count)\n",
    "\n",
    "plt.bar(x,y)\n",
    "plt.xlabel('Degree')\n",
    "plt.ylabel('Frequency')\n",
    "plt.title('Degree Distribution')\n",
    "plt.show()"
   ]
  },
  {
   "cell_type": "markdown",
   "metadata": {},
   "source": [
    "##HW7.2\n",
    "\n",
    "### HW 7.2 Problem Statement\n",
    "\n",
    "Write (reuse your code from 7.0) an MRJob class to find shortest path graph distances, \n",
    "and apply it to the NLTK synonyms network dataset. \n",
    "\n",
    "Proof your code's function by running the job:\n",
    "\n",
    "- shortest path starting at \"walk\" (index=7827) and ending at \"make\" (index=536),\n",
    "\n",
    "and showing you code's output. Once again, your output should include the path and the distance.\n",
    "\n",
    "As you develop your code, please be sure to run it locally first (though on the whole dataset). \n",
    "Once you have gotten you code to run locally, deploy it on AWS as a systems test\n",
    "in preparation for our next dataset (which will require AWS).\n",
    "\n",
    "### HW 7.2 Implementation"
   ]
  },
  {
   "cell_type": "code",
   "execution_count": 339,
   "metadata": {
    "collapsed": false
   },
   "outputs": [
    {
     "name": "stdout",
     "output_type": "stream",
     "text": [
      "Iteration : 1\n",
      "Iteration : 2\n",
      "Iteration : 3\n",
      "Iteration : 4\n",
      "DONE\n",
      "Shortest path from 7827 to 536 is 3 steps long:\n",
      "The path is:  ['7827', '1426', '1668', '536']\n"
     ]
    }
   ],
   "source": [
    "## HW7 - NLTK Example, running locally \n",
    "%reload_ext autoreload\n",
    "%autoreload 2\n",
    "from MRbfs import MRbfs\n",
    "from __future__ import division\n",
    "                                       \n",
    "\n",
    "iterate = 1\n",
    "stop = False\n",
    "last_total_dist = float(\"inf\")\n",
    "start_node = ''\n",
    "end_node = ''\n",
    "end_sdist = float(\"inf\")\n",
    "path = {}\n",
    "\n",
    "#### NLTK VERSION #####\n",
    "input_dir_prefix='synNet'\n",
    "start_node='7827'\n",
    "end_node='536'\n",
    "\n",
    "\n",
    "#### RUN THE JOBS #####\n",
    "#The second condition is insurance to make sure we stop after a finite number of cycles...just in case\n",
    "while(not stop and iterate <= 20):\n",
    "    \n",
    "    output_directory=input_dir_prefix+'Output{0}.txt'.format(str(iterate))\n",
    "    if iterate==1:\n",
    "        input_directory=input_dir_prefix+'.txt'\n",
    "    else:\n",
    "        input_directory=input_dir_prefix+'Output{0}.txt'.format(str(iterate-1))\n",
    "\n",
    "    #LOCAL VERSION - IN WHICH WE WRITE RESULTS TO A FILE\n",
    "    mr_job = MRbfs(args=[input_directory, \n",
    "                         '--no-strict-protocols',\n",
    "                        '--start',start_node,\n",
    "                        '--end',end_node,\n",
    "                        '--iteration',str(iterate)])\n",
    "    \n",
    "    \n",
    "    with mr_job.make_runner() as runner: \n",
    "        runner.run()\n",
    "        print \"Iteration : {0}\".format(iterate)\n",
    "        \n",
    "        #Stream output locally\n",
    "        with open(output_directory, 'w+') as f:\n",
    "            for line in runner.stream_output():\n",
    "                nid,distances =  mr_job.parse_output_line(line)\n",
    "                dist,adjlist,status,path  = distances\n",
    "                f.write(str(mr_job.parse_output_line(line))+'\\n')\n",
    "                if nid==end_node and status=='V':\n",
    "                    print \"DONE\"\n",
    "                    print \"Shortest path from {0} to {1} is {2} steps long:\".format(start_node,end_node,str(len(path)-1))\n",
    "                    print \"The path is: \",path\n",
    "                    stop=True\n",
    "                if nid==end_node:\n",
    "                    break\n",
    "\n",
    "        #just in case this thing does not stop..\n",
    "        iterate += 1   \n"
   ]
  },
  {
   "cell_type": "code",
   "execution_count": 344,
   "metadata": {
    "collapsed": false
   },
   "outputs": [
    {
     "name": "stdout",
     "output_type": "stream",
     "text": [
      "Iteration : 1\n",
      "Iteration : 2\n",
      "Iteration : 3\n",
      "Iteration : 4\n",
      "DONE\n",
      "Shortest path from 7827 to 536 is 3 steps long:\n",
      "The path is:  ['7827', '1426', '1688', '536']\n"
     ]
    }
   ],
   "source": [
    "# NLTK example, running in EMR\n",
    "%reload_ext autoreload\n",
    "%autoreload 2\n",
    "from MRbfs import MRbfs\n",
    "from __future__ import division\n",
    "\n",
    "iterate = 1\n",
    "stop = False\n",
    "\n",
    "#PUT CLUSTER HERE!!!!!\n",
    "cluster='j-2MM2A2KMPDLBH'\n",
    "\n",
    "#### NLTK VERSION #####\n",
    "input_dir_prefix='synNet'\n",
    "start_node='7827'\n",
    "end_node='536'\n",
    "\n",
    "#### RUN THE JOBS #####\n",
    "#The second condition is insurance to make sure we stop after a finite number of cycles...just in case\n",
    "while(not stop and iterate <= 10):\n",
    "\n",
    "    if iterate==1:\n",
    "        input_directory='s3://hamlin-mids-261/'+input_dir_prefix+'.txt'\n",
    "    else:\n",
    "        input_directory='s3://hamlin-mids-261/'+input_dir_prefix+'Output{0}/'.format(str(iterate-1))\n",
    "    \n",
    "    #EMR VERSION\n",
    "    mr_job = MRbfs(args=['-r', \n",
    "                         'emr',\n",
    "                         input_directory,\n",
    "                         '--start',start_node,\n",
    "                         '--end',end_node,\n",
    "                         '--no-strict-protocols',\n",
    "                         '--output-dir','s3://hamlin-mids-261/'+input_dir_prefix+'Output{0}'.format(str(iterate)),\n",
    "                         '--no-output',\n",
    "                         '--jobtype','emr',\n",
    "                         '--emr-job-flow-id', cluster,\n",
    "                         '--iteration',str(iterate)\n",
    "                        ])\n",
    "\n",
    " \n",
    "    with mr_job.make_runner() as runner: \n",
    "        runner.run()\n",
    "        print \"Iteration : {0}\".format(iterate)\n",
    "        for line in runner.stream_output():\n",
    "            nid,distances =  mr_job.parse_output_line(line)\n",
    "            dist,adjlist,status,path  = distances\n",
    "            if nid==end_node and status=='V':\n",
    "                print \"DONE\"\n",
    "                print \"Shortest path from {0} to {1} is {2} steps long:\".format(start_node,end_node,str(len(path)-1))\n",
    "                print \"The path is: \",path\n",
    "                stop=True\n",
    "            if nid==end_node:\n",
    "                break\n",
    "            \n",
    "        #just in case this thing does not stop..\n",
    "        iterate += 1   \n"
   ]
  },
  {
   "cell_type": "markdown",
   "metadata": {
    "collapsed": true
   },
   "source": [
    "##HW7.3 \n",
    "\n",
    "### HW 7.3 Problem Statement\n",
    "Using MRJob, explore the Wikipedia network data on the AWS cloud. Reuse your code from HW 7.1---does is scale well? \n",
    "Be cautioned that Wikipedia is a directed network, where links are not symmetric. \n",
    "So, even though a node may be linked to, it will not appear as a primary record itself if it has no out-links. \n",
    "This means that you may have to ADJUST your code (depending on its design). \n",
    "To be sure of your code's functionality in this context, run a systems test on the directed_toy.txt network.\n",
    "\n",
    "### HW 7.3 Implementation\n",
    "The directed toy systems test is shown above in the results for 7.1, so for we have not repeated it here.  Running our EDA code on the full dataset just requires updating the input data, so very little needs to change here."
   ]
  },
  {
   "cell_type": "code",
   "execution_count": 83,
   "metadata": {
    "collapsed": false
   },
   "outputs": [
    {
     "name": "stdout",
     "output_type": "stream",
     "text": [
      "Total Nodes = 5781290\n",
      "Total Edges = 142114057\n",
      "Average Edges/Node = 24.5817208616\n"
     ]
    }
   ],
   "source": [
    "# HW 7.3 - Calculating summary stats on full Wikipedia dataset\n",
    "%reload_ext autoreload\n",
    "%autoreload 2\n",
    "from __future__ import division\n",
    "from mrexplorenltk import mrExploreNLTKTotals\n",
    "\n",
    "input_dir_prefix='all-pages-indexed-out'\n",
    "input_directory='s3://hamlin-mids-261/'+input_dir_prefix+'.txt'\n",
    "cluster='j-2VQKH4YTSZQSY'\n",
    "\n",
    "\n",
    "#EMR VERSION\n",
    "mr_job = mrExploreNLTKTotals(args=['-r', 'emr',\n",
    "                     input_directory,\n",
    "                     '--no-strict-protocols',\n",
    "                     '--output-dir','s3://hamlin-mids-261/WikiEDAOutput',\n",
    "                     '--no-output',\n",
    "                     '--emr-job-flow-id', cluster,\n",
    "                    ])\n",
    "\n",
    "nodes=0\n",
    "edges=0\n",
    "with mr_job.make_runner() as runner:\n",
    "    runner.run()\n",
    "    for line in runner.stream_output():\n",
    "        _,count =  mr_job.parse_output_line(line)\n",
    "        nodes+=count[0]\n",
    "        edges+=count[1]\n",
    "\n",
    "print \"Total Nodes = {}\".format(nodes)   \n",
    "print \"Total Edges = {}\".format(edges)   \n",
    "print \"Average Edges/Node = {}\".format(edges/nodes)\n",
    "                "
   ]
  },
  {
   "cell_type": "code",
   "execution_count": 84,
   "metadata": {
    "collapsed": false
   },
   "outputs": [
    {
     "name": "stdout",
     "output_type": "stream",
     "text": [
      "Done\n"
     ]
    }
   ],
   "source": [
    "# HW 7.3 - Calculating degree distribution on full Wikipedia dataset\n",
    "%reload_ext autoreload\n",
    "%autoreload 2\n",
    "from __future__ import division\n",
    "from mrexplorenltkdist import mrExploreNLTKDist\n",
    "\n",
    "\n",
    "input_dir_prefix='all-pages-indexed-out'\n",
    "input_directory='s3://hamlin-mids-261/'+input_dir_prefix+'.txt'\n",
    "cluster='j-2VQKH4YTSZQSY'\n",
    "\n",
    "#EMR VERSION\n",
    "mr_job = mrExploreNLTKDist(args=['-r', 'emr',\n",
    "                     input_directory,\n",
    "                     '--no-strict-protocols',\n",
    "                     '--output-dir','s3://hamlin-mids-261/WikiDistOutput',\n",
    "                     '--no-output',\n",
    "                     '--emr-job-flow-id', cluster,\n",
    "                    ])\n",
    "\n",
    "with open ('{0}_degree_distribution_EMR.txt'.format(input_dir_prefix),'w') as f:\n",
    "    with mr_job.make_runner() as runner:\n",
    "        runner.run()\n",
    "        for line in runner.stream_output():\n",
    "            #Write results to a file so we can plot them more easily\n",
    "            f.writelines(line)\n",
    "\n",
    "print \"Done\""
   ]
  },
  {
   "cell_type": "code",
   "execution_count": 85,
   "metadata": {
    "collapsed": false
   },
   "outputs": [
    {
     "data": {
      "image/png": "[encoded data removed]",
      "text/plain": [
       "<matplotlib.figure.Figure at 0x107433c50>"
      ]
     },
     "metadata": {},
     "output_type": "display_data"
    }
   ],
   "source": [
    "# HW 7.3 - Plot the results of the distribution\n",
    "x=[]\n",
    "y=[]\n",
    "with open ('{0}_degree_distribution_EMR.txt'.format(input_dir_prefix),'r') as f:\n",
    "    for line in f.readlines():\n",
    "        data=line.strip('\\n').split('\\t')\n",
    "        degree=int(eval(data[0]))\n",
    "        count=int(data[1])\n",
    "        x.append(degree)\n",
    "        y.append(count)\n",
    "        #print degree,count\n",
    "\n",
    "plt.bar(x,y)\n",
    "plt.xlabel('Degree')\n",
    "plt.ylabel('Frequency')\n",
    "plt.title('Degree Distribution')\n",
    "plt.show()"
   ]
  },
  {
   "cell_type": "markdown",
   "metadata": {},
   "source": [
    "Here, we see the general shape of the plot looks similar to what we saw in 7.1, but with an even more extreme power law curve.  This is because we're dramatically increasing the size of the data, which means that the most linked pages will have even more links and there will be fewer of them relative to the rest of the population.\n",
    "\n",
    "Initially our implementation in 7.1 did not scale particularly well and kept crashing our notebook.  However, once we refactored the EDA process into two separate jobs we were able to optimize both of them independently. This version scaled much better, generating the results shown above in just a few minutes."
   ]
  },
  {
   "cell_type": "markdown",
   "metadata": {
    "collapsed": true
   },
   "source": [
    "##HW 7.4\n",
    "\n",
    "### HW 7.4 - Problem Statement\n",
    "\n",
    "Using MRJob, find shortest path graph distances in the Wikipedia network on the AWS cloud.\n",
    "Reuse your code from 7.2, but once again be warned of Wikipedia being a directed network.\n",
    "To be sure of your code's functionality in this context, run a systems test on the directed_toy.txt network.\n",
    "\n",
    "When running your code on the Wikipedia network, proof its function by running the job:\n",
    "\n",
    "- shortest path from \"Ireland\" (index=6176135) to \"University of California, Berkeley\" (index=13466359),\n",
    "\n",
    "and show your code's output.\n",
    "\n",
    "### HW 7.4 - Running the directed toy example on EMR"
   ]
  },
  {
   "cell_type": "code",
   "execution_count": 326,
   "metadata": {
    "collapsed": false
   },
   "outputs": [
    {
     "name": "stdout",
     "output_type": "stream",
     "text": [
      "Iteration : 1\n",
      "1 V ['1']\n",
      "2 Q ['1', '2']\n",
      "3 U []\n",
      "4 U []\n",
      "5 U []\n",
      "6 Q ['1', '6']\n",
      "\n",
      "Iteration : 2\n",
      "1 V ['1']\n",
      "2 V ['1', '2']\n",
      "3 Q ['1', '2', '3']\n",
      "4 Q ['1', '2', '4']\n",
      "5 U []\n",
      "6 V ['1', '6']\n",
      "\n",
      "Iteration : 3\n",
      "1 V ['1']\n",
      "2 V ['1', '2']\n",
      "3 V ['1', '2', '3']\n",
      "4 Q ['1', '2', '4']\n",
      "5 Q ['1', '2', '4', '5']\n",
      "6 V ['1', '6']\n",
      "\n",
      "Iteration : 4\n",
      "1 V ['1']\n",
      "2 Q ['1', '2']\n",
      "3 V ['1', '2', '3']\n",
      "4 V ['1', '2', '4']\n",
      "5 Q ['1', '2', '4', '5']\n",
      "6 V ['1', '6']\n",
      "\n",
      "Iteration : 5\n",
      "1 V ['1']\n",
      "2 Q ['1', '2']\n",
      "3 Q ['1', '2', '3']\n",
      "4 Q ['1', '2', '4']\n",
      "5 V ['1', '2', '4', '5']\n",
      "DONE\n",
      "Shortest path from 1 to 5 is 3 steps long:\n",
      "The path is:  ['1', '2', '4', '5']\n",
      "6 V ['1', '6']\n",
      "\n"
     ]
    }
   ],
   "source": [
    "# HW 7.4 - Directed toy example with FULL output, running on EMR\n",
    "%reload_ext autoreload\n",
    "%autoreload 2\n",
    "from MRbfs import MRbfs\n",
    "from __future__ import division\n",
    "                              \n",
    "iterate = 1\n",
    "stop = False\n",
    "\n",
    "#PUT CLUSTER HERE!!!!!\n",
    "cluster='j-3AH5RMM6FM1X7'\n",
    "\n",
    "#### TEST VERSION #####\n",
    "input_dir_prefix='testgraph'\n",
    "start_node='1'\n",
    "end_node='5'\n",
    "\n",
    "#### RUN THE JOBS #####\n",
    "#The second condition is insurance to make sure we stop after a finite number of cycles...just in case\n",
    "while(not stop and iterate <= 10):\n",
    "    \n",
    "    if iterate==1:\n",
    "        input_directory='s3://hamlin-mids-261/'+input_dir_prefix+'.txt'\n",
    "    else:\n",
    "        input_directory='s3://hamlin-mids-261/'+input_dir_prefix+'Output{0}/'.format(str(iterate-1))\n",
    "    \n",
    "    #EMR VERSION\n",
    "    mr_job = MRbfs(args=['-r', \n",
    "                         'emr',\n",
    "                         input_directory,\n",
    "                         '--start',start_node,\n",
    "                         '--end',end_node,\n",
    "                         '--no-strict-protocols',\n",
    "                         '--output-dir','s3://hamlin-mids-261/'+input_dir_prefix+'Output{0}'.format(str(iterate)),\n",
    "                         '--no-output',\n",
    "                         '--jobtype','emr',\n",
    "                         '--emr-job-flow-id', cluster,\n",
    "                         '--iteration',str(iterate)\n",
    "                        ])\n",
    "    \n",
    "    with mr_job.make_runner() as runner: \n",
    "        runner.run()\n",
    "        print \"Iteration : {0}\".format(iterate)\n",
    "        for line in runner.stream_output():\n",
    "            nid,distances =  mr_job.parse_output_line(line)\n",
    "            dist,adjlist,status,path  = distances\n",
    "            print nid, status, path\n",
    "            if nid==end_node and status=='V':\n",
    "                print \"DONE\"\n",
    "                print \"Shortest path from {0} to {1} is {2} steps long:\".format(start_node,end_node,str(len(path)-1))\n",
    "                print \"The path is: \",path\n",
    "                stop=True \n",
    "        print \"\"\n",
    "            \n",
    "        #just in case this thing does not stop..\n",
    "        iterate += 1   \n"
   ]
  },
  {
   "cell_type": "markdown",
   "metadata": {},
   "source": [
    "Having confirmed that this works in the cloud, now let's run it on the entire dataset\n",
    "\n",
    "### HW 7.4  - Full-scale Implementation"
   ]
  },
  {
   "cell_type": "code",
   "execution_count": 93,
   "metadata": {
    "collapsed": false
   },
   "outputs": [],
   "source": [
    "# HW 7.4 - Load index into memory so we can look things up\n",
    "word_dict={}\n",
    "node_dict={}\n",
    "with open('./wikipedia/indices.txt') as f:\n",
    "    for line in f.readlines():\n",
    "        word,node_id,_,_=line.strip().split('\\t')\n",
    "        node_dict[node_id]=word #Enables us to find words by ID\n",
    "        word_dict[word]=node_id #Enables us to find IDs by word"
   ]
  },
  {
   "cell_type": "code",
   "execution_count": 106,
   "metadata": {
    "collapsed": false,
    "scrolled": false
   },
   "outputs": [
    {
     "name": "stdout",
     "output_type": "stream",
     "text": [
      "Iteration : 1\n",
      "Iteration : 2\n",
      "Iteration : 3\n",
      "DONE\n",
      "Shortest path from Ireland to University of California, Berkeley is 2 steps long:\n",
      "The path is: \n",
      "Ireland (6176135) ->\n",
      "Seamus Heaney (11607791) ->\n",
      "University of California, Berkeley (13466359)\n"
     ]
    }
   ],
   "source": [
    "# HW 7.4 - Full Wikipedia data, running in EMR\n",
    "%reload_ext autoreload\n",
    "%autoreload 2\n",
    "from MRbfs import MRbfs\n",
    "from __future__ import division\n",
    "\n",
    "iterate = 1\n",
    "stop = False\n",
    "\n",
    "#PUT CLUSTER HERE!!!!!\n",
    "cluster='j-2VQKH4YTSZQSY'\n",
    "\n",
    "#### WIKIPEDIA VERSION #####\n",
    "input_dir_prefix='wiki'\n",
    "start_node='6176135'\n",
    "end_node='13466359'\n",
    "\n",
    "\n",
    "#### RUN THE JOBS #####\n",
    "#The second condition is insurance to make sure we stop after a finite number of cycles...just in case\n",
    "while(not stop and iterate <= 10):\n",
    "    \n",
    "    if iterate==1:\n",
    "        input_directory='s3://hamlin-mids-261/all-pages-indexed-out.txt'\n",
    "    else:\n",
    "        input_directory='s3://hamlin-mids-261/'+input_dir_prefix+'Output{0}/'.format(str(iterate-1))\n",
    "    \n",
    "    #EMR VERSION\n",
    "    mr_job = MRbfs(args=['-r', \n",
    "                         'emr',\n",
    "                         input_directory,\n",
    "                         '--start',start_node,\n",
    "                         '--end',end_node,\n",
    "                         '--no-strict-protocols',\n",
    "                         '--output-dir','s3://hamlin-mids-261/'+input_dir_prefix+'Output{0}'.format(str(iterate)),\n",
    "                         '--no-output',\n",
    "                         '--jobtype','emr',\n",
    "                         #'--pool-emr-job-flows',#\n",
    "                         #'--max-hours-idle', '1',#\n",
    "                         #'--num-ec2-instances', '4',#\n",
    "                         #'--ec2-instance-type', 'm3.xlarge',#\n",
    "                         '--emr-job-flow-id', cluster,\n",
    "                         '--iteration',str(iterate)\n",
    "                        ])\n",
    "\n",
    " \n",
    "    with mr_job.make_runner() as runner: \n",
    "        runner.run()\n",
    "        print \"Iteration : {0}\".format(iterate)\n",
    "        for line in runner.stream_output():\n",
    "            nid,distances =  mr_job.parse_output_line(line)\n",
    "            dist,adjlist,status,path  = distances\n",
    "            \n",
    "            #If we've hit our stopping condition, print results and finish up\n",
    "            if nid==end_node and status=='V':\n",
    "                word_path=[node_dict[word]+' ('+word+')' for word in path]\n",
    "                print \"DONE\"\n",
    "                print \"Shortest path from {0} to {1} is {2} steps long:\".format(node_dict[start_node],node_dict[end_node],str(len(path)-1))\n",
    "                print \"The path is: \\n\",' ->\\n'.join(word_path)\n",
    "                stop=True\n",
    "            if nid==end_node:\n",
    "                break\n",
    "        #Keep track of which iteration we're on\n",
    "        iterate += 1   \n"
   ]
  },
  {
   "cell_type": "markdown",
   "metadata": {},
   "source": [
    "Sure enough, we find only two steps are required to traverse from \"Ireland\" (index=6176135) to \"University of California, Berkeley\" (index=13466359).  One of the big performance quirks we noticed is the need to stream data from the S3 bucket on the west coast to our EMR cluster on the east coast.  After realizing how long this was taking in the initial transfer, we found it to be more efficient to simply reupload the dataset to a bucket in the east to minimize the delay.\n",
    "\n",
    "Now let's try running on another path, just to see what happens:"
   ]
  },
  {
   "cell_type": "code",
   "execution_count": 110,
   "metadata": {
    "collapsed": false
   },
   "outputs": [
    {
     "name": "stdout",
     "output_type": "stream",
     "text": [
      "12621471\n",
      "10274977\n"
     ]
    }
   ],
   "source": [
    "# HW 7.4- Lookup ID numbers for some random pages that sound interesting\n",
    "print word_dict['Teenage Mutant Ninja Turtles']\n",
    "print word_dict['Pi'] #March 14 is coming up..."
   ]
  },
  {
   "cell_type": "code",
   "execution_count": 111,
   "metadata": {
    "collapsed": false,
    "scrolled": false
   },
   "outputs": [
    {
     "name": "stdout",
     "output_type": "stream",
     "text": [
      "Iteration : 1\n",
      "Iteration : 2\n",
      "Iteration : 3\n",
      "Iteration : 4\n",
      "DONE\n",
      "Shortest path from Teenage Mutant Ninja Turtles to Pi is 3 steps long:\n",
      "The path is: \n",
      "Teenage Mutant Ninja Turtles (12621471) ->\n",
      "Palladium Books (9937936) ->\n",
      "Ancient Egypt (1110099) ->\n",
      "Pi (10274977)\n"
     ]
    }
   ],
   "source": [
    "# HW 7.4 - Full Wikipedia data, running in EMR\n",
    "%reload_ext autoreload\n",
    "%autoreload 2\n",
    "from MRbfs import MRbfs\n",
    "from __future__ import division\n",
    "\n",
    "iterate = 1\n",
    "stop = False\n",
    "\n",
    "#PUT CLUSTER HERE!!!!!\n",
    "cluster='j-2VQKH4YTSZQSY'\n",
    "\n",
    "#### WIKIPEDIA VERSION #####\n",
    "input_dir_prefix='wiki'\n",
    "start_node='12621471'\n",
    "end_node='10274977'\n",
    "\n",
    "\n",
    "#### RUN THE JOBS #####\n",
    "#The second condition is insurance to make sure we stop after a finite number of cycles...just in case\n",
    "while(not stop and iterate <= 10):\n",
    "    \n",
    "    if iterate==1:\n",
    "        input_directory='s3://hamlin-mids-261/all-pages-indexed-out.txt'\n",
    "    else:\n",
    "        input_directory='s3://hamlin-mids-261/'+input_dir_prefix+'Output{0}/'.format(str(iterate-1))\n",
    "    \n",
    "    #EMR VERSION\n",
    "    mr_job = MRbfs(args=['-r', \n",
    "                         'emr',\n",
    "                         input_directory,\n",
    "                         '--start',start_node,\n",
    "                         '--end',end_node,\n",
    "                         '--no-strict-protocols',\n",
    "                         '--output-dir','s3://hamlin-mids-261/'+input_dir_prefix+'Output{0}'.format(str(iterate)),\n",
    "                         '--no-output',\n",
    "                         '--jobtype','emr',\n",
    "                         #'--pool-emr-job-flows',#\n",
    "                         #'--max-hours-idle', '1',#\n",
    "                         #'--num-ec2-instances', '4',#\n",
    "                         #'--ec2-instance-type', 'm3.xlarge',#\n",
    "                         '--emr-job-flow-id', cluster,\n",
    "                         '--iteration',str(iterate)\n",
    "                        ])\n",
    "\n",
    " \n",
    "    with mr_job.make_runner() as runner: \n",
    "        runner.run()\n",
    "        print \"Iteration : {0}\".format(iterate)\n",
    "        for line in runner.stream_output():\n",
    "            nid,distances =  mr_job.parse_output_line(line)\n",
    "            dist,adjlist,status,path  = distances\n",
    "            #print nid, status, path\n",
    "            if nid==end_node and status=='V':\n",
    "                word_path=[node_dict[word]+' ('+word+')' for word in path]\n",
    "                print \"DONE\"\n",
    "                print \"Shortest path from {0} to {1} is {2} steps long:\".format(node_dict[start_node],node_dict[end_node],str(len(path)-1))\n",
    "                print \"The path is: \\n\",' ->\\n'.join(word_path)\n",
    "                stop=True\n",
    "            if nid==end_node:\n",
    "                break\n",
    "            \n",
    "        #just in case this thing does not stop..\n",
    "        iterate += 1   \n"
   ]
  },
  {
   "cell_type": "markdown",
   "metadata": {
    "collapsed": true
   },
   "source": [
    "##HW 7.5\n",
    "\n",
    "### HW 7.5 Problem Statement\n",
    "Suppose you wanted to find the largest network distance from a single source,i.e., a node that is the furthest (but still reachable) from a single source. How would you implement this task? How is this different from finding the shortest path graph distances? Is this task more difficult to implement than the shortest path distance? As you respond, please comment on program structure, runtimes, iterations, general system requirements, etc...\n",
    "\n",
    "### HW 7.5 Response\n",
    "We'd find the largest path using a similar, but not exactly the same, approach that we're using here to find the shortest path.  The key difference is that we know in advance that we'll need to thoroughly traverse the entire graph to know that we've found the longest path.  In our shortest path implementation, we stop when we've found the shortest path to the node we're interested in.  This meant that the task isn't necessarily more \"difficult\" from a logical perspective, but it may be more computationally intensive as it would likely require more iterations to arrive at a conclusion.  Since we know we'll need to run several more iterations (and can't take advantage of the \"six-degrees-of-separation\" effect that we can when we look for the shortest path), optimizing both our mapreduce implementation and our cluster infrastructure for rapid turnover is even more important when searching for the longest path.  It shouldn't matter whether we use a depth first search or a breadth first search, since we'll still need to visit every node regardless.\n",
    "\n",
    "\n",
    "##HW 7.5.1: \n",
    "Can we utilize combiners in the HW 7 to perform the shortest path implementation?\n",
    "\n",
    "**We could probably use combiners to handle some of the logic that's currently addressed in the reducer around deciding what state a node is in.  This might entail minimizing network throughput by using the combiner to decide not to emit records to the reducer nodes that have already been visited or to do some precalculation of the shortest path to a given node based only on the records available to that particular mapper.  These \"subtotals\" could then be reconciled in the reducer.**\n",
    "\n",
    "Does order inversion help with the HW 7 shortest path implementation?\n",
    "\n",
    "**We might be able to use order inversion to simplify some of the logic in the reducer by guaranteeing, for example, that the reducer would always receive the original record of a node before records corresponding to expanded links.  That said, while this might make the code easier to understand, it may not lead to a significant boost in performance.**\n",
    "\n"
   ]
  },
  {
   "cell_type": "markdown",
   "metadata": {
    "collapsed": true
   },
   "source": [
    "##End of Submission"
   ]
  }
 ],
 "metadata": {
  "kernelspec": {
   "display_name": "Python 2",
   "language": "python",
   "name": "python2"
  },
  "language_info": {
   "codemirror_mode": {
    "name": "ipython",
    "version": 2
   },
   "file_extension": ".py",
   "mimetype": "text/x-python",
   "name": "python",
   "nbconvert_exporter": "python",
   "pygments_lexer": "ipython2",
   "version": "2.7.11"
  }
 },
 "nbformat": 4,
 "nbformat_minor": 0
}
