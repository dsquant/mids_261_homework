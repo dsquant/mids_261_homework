{
 "cells": [
  {
   "cell_type": "markdown",
   "metadata": {},
   "source": [
    "#DATASCI W261: Machine Learning at Scale"
   ]
  },
  {
   "cell_type": "markdown",
   "metadata": {},
   "source": [
    "**Nick Hamlin** (nickhamlin@gmail.com)  \n",
    "**Tigi Thomas** (tgthomas@berkeley.edu)  \n",
    "**Rock Baek** (rockb1017@gmail.com)  \n",
    "**Hussein Danish** (husseindanish@gmail.com)  \n",
    "  \n",
    "Time of Submission: 9:23 PM EST, Wednesday, Feb 17, 2016  \n",
    "W261-3, Spring 2016  \n",
    "Week 5 Homework"
   ]
  },
  {
   "cell_type": "markdown",
   "metadata": {},
   "source": [
    "###Submission Notes:\n",
    "- For each problem, we've included a summary of the question as posed in the instructions.  In many cases, we have not included the full text to keep the final submission as uncluttered as possible.  For reference, we've included a link to the original instructions in the \"Useful Reference\" below.\n",
    "- Problem statements are listed in *italics*, while our responses are shown in plain text. \n",
    "- We've included the full output of the mapreduce jobs in our responses so that counter results are shown.  However, these don't always render nicely into PDF form.  In these situations, please reference [the complete rendered notebook on Github](https://github.com/nickhamlin/mids_261_homework/blob/master/HW4/MIDS-W261-2015-HWK-Week04-Hamlin-Thomas-Baek-Danish.ipynb)"
   ]
  },
  {
   "cell_type": "markdown",
   "metadata": {},
   "source": [
    "###Useful References:\n",
    "- **[Original Assignment Instructions](https://www.dropbox.com/sh/0cv65h44zylqwe3/AADyEEBMPGezLplMmNwAFIkba/hw5-Questions.txt?dl=0)**"
   ]
  },
  {
   "cell_type": "code",
   "execution_count": 1,
   "metadata": {
    "collapsed": false
   },
   "outputs": [],
   "source": [
    "#Use this to make sure we reload the MrJob code when we make changes\n",
    "%load_ext autoreload\n",
    "%autoreload 2"
   ]
  },
  {
   "cell_type": "markdown",
   "metadata": {},
   "source": [
    "##HW5.0.  \n",
    "*What is a data warehouse? What is a Star schema? When is it used?*\n",
    "\n",
    "##HW 5.1\n",
    "*In the database world What is 3NF? Does machine learning use data in 3NF? If so why?*\n",
    "\n",
    "*In what form does ML consume data?*\n",
    "\n",
    "*Why would one use log files that are denormalized?*\n"
   ]
  },
  {
   "cell_type": "markdown",
   "metadata": {},
   "source": [
    "## HW 5.2\n",
    "\n",
    "###Problem Statement\n",
    "Using MRJob, implement a hashside join (memory-backed map-side) for left, \n",
    "right and inner joins. Run your code on the  data used in HW 4.4: (Recall HW 4.4: Find the most frequent visitor of each page using mrjob and the output of 4.2  (i.e., transfromed log file). In this output please include the webpage URL, webpageID and Visitor ID.)\n",
    ":\n",
    "\n",
    "Justify which table you chose as the Left table in this hashside join.\n",
    "\n",
    "Please report the number of rows resulting from:\n",
    "\n",
    "(1) Left joining Table Left with Table Right  \n",
    "(2) Right joining Table Left with Table Right  \n",
    "(3) Inner joining Table Left with Table Right  \n",
    "\n",
    "### Generating source data\n",
    "We'll start by running a slightly modified version of the code from HW4 to generate our two sets of source data"
   ]
  },
  {
   "cell_type": "code",
   "execution_count": 3,
   "metadata": {
    "collapsed": false
   },
   "outputs": [
    {
     "name": "stdout",
     "output_type": "stream",
     "text": [
      "Writing convert_msdata.py\n"
     ]
    }
   ],
   "source": [
    "%%writefile convert_msdata.py\n",
    "#HW 4.2 - Attach customer IDs to page view records\n",
    "\n",
    "from csv import reader\n",
    "with open('anonymous-msweb.data','rb') as f:\n",
    "    data=f.readlines()\n",
    "    \n",
    "for i in reader(data):\n",
    "    if i[0]=='C':\n",
    "        visitor_id=i[1] #Store visitor id\n",
    "        continue\n",
    "    if i[0]=='V':\n",
    "        print i[0]+','+i[1]+','+i[2]+',C,'+visitor_id #Append visitor_id to each pageview"
   ]
  },
  {
   "cell_type": "code",
   "execution_count": 4,
   "metadata": {
    "collapsed": false
   },
   "outputs": [
    {
     "name": "stdout",
     "output_type": "stream",
     "text": [
      "Writing create_urls.py\n"
     ]
    }
   ],
   "source": [
    "%%writefile create_urls.py\n",
    "#HW 4.2 - Extract URLs (not explicitly required, but for later use in 4.4)\n",
    "\n",
    "#Save only results from 'A' rows into their own file for easy URL access in the future\n",
    "from csv import reader\n",
    "with open('anonymous-msweb.data','rb') as f:\n",
    "    data=f.readlines()\n",
    "    \n",
    "for i in reader(data):\n",
    "    if i[0]=='A':\n",
    "        print i[1]+','+i[3]+','+i[4]"
   ]
  },
  {
   "cell_type": "code",
   "execution_count": 6,
   "metadata": {
    "collapsed": false
   },
   "outputs": [
    {
     "name": "stdout",
     "output_type": "stream",
     "text": [
      "Writing freq_visitor.py\n"
     ]
    }
   ],
   "source": [
    "%%writefile freq_visitor.py\n",
    "# HW 4.4 - MRJob Code\n",
    "\n",
    "import csv\n",
    "from collections import Counter\n",
    "from operator import itemgetter\n",
    "\n",
    "from mrjob.job import MRJob\n",
    "from mrjob.step import MRStep\n",
    "\n",
    "\n",
    "def csv_readline(line):\n",
    "    \"\"\"Given a string CSV line, return a list of strings.\"\"\"\n",
    "    for row in csv.reader([line]):\n",
    "        return row\n",
    "\n",
    "class FreqVisitor(MRJob):\n",
    "\n",
    "    def mapper_extract_views(self, line_no, line):\n",
    "        \"\"\"Extracts the page that was visited and the visitor id\"\"\"\n",
    "        cell = csv_readline(line)\n",
    "        #Ignore any irrelevant messy data, though hopefully we don't have any since we preprocessed the file\n",
    "        if cell[0] == 'V': \n",
    "            yield cell[1],cell[4]\n",
    "    \n",
    "    def reducer_load_urls(self):\n",
    "        \"\"\"Load file of page URLs into reducer memory\"\"\"\n",
    "        with open('ms_urls.txt','rb') as f:\n",
    "            urls=csv.reader(f.readlines())\n",
    "        self.url_dict={}\n",
    "        for i in urls:\n",
    "            #Saving the URLs into a dictionary will make it easy to access them later\n",
    "            self.url_dict[int(i[0])]=i[2]\n",
    "\n",
    "    def reducer_sum_views_by_visitor(self, vroots, visitor):\n",
    "        \"\"\"Summarizes visitor counts for each page, \n",
    "        yields one record per page with the visitor responsible for  \n",
    "        the most views on that page\"\"\"\n",
    "        visitors=Counter()\n",
    "        for i in visitor:\n",
    "            visitors[i]+=1 #Aggregate page views for all visitors\n",
    "        output= max(visitors.iteritems(), key=itemgetter(1))[0] #Find visitor responsible for the most page views\n",
    "        yield (str(vroots)),(output,visitors[output],self.url_dict[int(vroots)])\n",
    "   \n",
    "    def steps(self):\n",
    "        return [MRStep(mapper=self.mapper_extract_views,\n",
    "                        reducer_init=self.reducer_load_urls,\n",
    "                        reducer=self.reducer_sum_views_by_visitor)]\n",
    "        \n",
    "if __name__ == '__main__':\n",
    "    FreqVisitor.run()"
   ]
  },
  {
   "cell_type": "code",
   "execution_count": null,
   "metadata": {
    "collapsed": false
   },
   "outputs": [],
   "source": [
    "#Make files executable, convert data, and view some example results to check that everything worked\n",
    "#!chmod +x convert_msdata.py create_urls.py\n",
    "!python convert_msdata.py > clean_msdata.txt\n",
    "!cat clean_msdata.txt | head -10\n",
    "!python create_urls.py > ms_urls.txt"
   ]
  },
  {
   "cell_type": "code",
   "execution_count": 8,
   "metadata": {
    "collapsed": false
   },
   "outputs": [
    {
     "name": "stdout",
     "output_type": "stream",
     "text": [
      "Writing freq_visitor_driver.py\n"
     ]
    }
   ],
   "source": [
    "%%writefile freq_visitor_driver.py\n",
    "#HW 4.4 - Driver Function\n",
    "from freq_visitor import FreqVisitor\n",
    "import csv\n",
    "\n",
    "mr_job = FreqVisitor(args=['clean_msdata.txt','--file','ms_urls.txt'])\n",
    "with mr_job.make_runner() as runner:\n",
    "    runner.run()\n",
    "    for line in runner.stream_output():\n",
    "        output=mr_job.parse_output_line(line)\n",
    "        print str(output[0])+'\\t'+str(output[1][0])+'\\t'+str(output[1][1])+'\\t'+str(output[1][2])"
   ]
  },
  {
   "cell_type": "code",
   "execution_count": null,
   "metadata": {
    "collapsed": false
   },
   "outputs": [],
   "source": [
    "#Make files executable, convert data, and view some example results to check that everything worked\n",
    "!chmod +x freq_visitor_driver.py\n",
    "!python freq_visitor_driver.py > freq_visitor_data.txt"
   ]
  },
  {
   "cell_type": "markdown",
   "metadata": {},
   "source": [
    "### HW 5.2 - Setting up the joins\n",
    "Using MRJob, implement a hashside join (memory-backed map-side) for left, \n",
    "\n",
    "*Justify which table you chose as the Left table in this hashside join.*\n",
    "\n",
    "Since we're doing a memory-backed map-side join, we want to load the smaller of the two datasets into memory.  Therefore, we'll choose the list of most frequent visitors per page that we generated in 4.4 as our left table and the list of URLs as our right table that we'll load during the mapper_init step.\n",
    "\n",
    "Please report the number of rows resulting from:\n",
    "\n",
    "###(1) Left joining Table Left with Table Right   "
   ]
  },
  {
   "cell_type": "code",
   "execution_count": 106,
   "metadata": {
    "collapsed": false
   },
   "outputs": [
    {
     "name": "stdout",
     "output_type": "stream",
     "text": [
      "Overwriting left_join.py\n"
     ]
    }
   ],
   "source": [
    "%%writefile left_join.py\n",
    "# HW 5.2A - Left join MRJob Code\n",
    "import csv\n",
    "\n",
    "from mrjob.job import MRJob\n",
    "from mrjob.step import MRStep\n",
    "\n",
    "class LeftJoin(MRJob):\n",
    "    \n",
    "    def mapper_init(self):\n",
    "        \"\"\"Load file of page URLs into reducer memory\"\"\"\n",
    "        with open('ms_urls.txt','rb') as f:\n",
    "            urls=csv.reader(f.readlines())\n",
    "        self.url_dict={}\n",
    "        for i in urls:\n",
    "            #Saving the URLs into a dictionary will make it easy to access them later\n",
    "            self.url_dict[int(i[0])]=i[2]\n",
    "        \n",
    "\n",
    "    def mapper(self, _, line):\n",
    "        \"\"\"Extracts the page that was visited and the visitor id\"\"\"\n",
    "        line=line.strip().split('\\t')\n",
    "        page=line[0]\n",
    "        visitor=line[1]\n",
    "        #This is the \"Left Join\" logic that ensures that a row will be returned for\n",
    "        #every row in the \n",
    "        try:\n",
    "            url=self.url_dict[int(page)]\n",
    "        except KeyError:\n",
    "            url='NONE'\n",
    "        yield page,(visitor,url)\n",
    "   \n",
    "    def steps(self):\n",
    "        return [MRStep(\n",
    "                mapper_init=self.mapper_init,\n",
    "                mapper=self.mapper,\n",
    "                )]\n",
    "        \n",
    "if __name__ == '__main__':\n",
    "    LeftJoin.run()"
   ]
  },
  {
   "cell_type": "code",
   "execution_count": 111,
   "metadata": {
    "collapsed": false
   },
   "outputs": [
    {
     "name": "stderr",
     "output_type": "stream",
     "text": [
      "WARNING:mrjob.runner:\n",
      "WARNING:mrjob.runner:PLEASE NOTE: Starting in mrjob v0.5.0, protocols will be strict by default. It's recommended you run your job with --strict-protocols or set up mrjob.conf as described at https://pythonhosted.org/mrjob/whats-new.html#ready-for-strict-protocols\n",
      "WARNING:mrjob.runner:\n"
     ]
    },
    {
     "name": "stdout",
     "output_type": "stream",
     "text": [
      "Page | Visitor ID | URL\n",
      "Left Join returned 285 results\n"
     ]
    }
   ],
   "source": [
    "#HW 5.2 - Left Join Driver Function\n",
    "from left_join import LeftJoin\n",
    "import csv\n",
    "\n",
    "mr_job = LeftJoin(args=['freq_visitor_data.txt','--file','ms_urls.txt'])\n",
    "number_of_rows=0\n",
    "with mr_job.make_runner() as runner:\n",
    "    runner.run()\n",
    "    #print 'Page | Visitor ID | URL'\n",
    "    for line in runner.stream_output():\n",
    "        output=mr_job.parse_output_line(line)\n",
    "        number_of_rows+=1\n",
    "        #print output[0], output[1][0], output[1][1]\n",
    "        \n",
    "print \"Left Join returned {0} results\".format(str(number_of_rows))\n",
    "\n"
   ]
  },
  {
   "cell_type": "markdown",
   "metadata": {},
   "source": [
    "###(2) Right joining Table Left with Table Right  "
   ]
  },
  {
   "cell_type": "code",
   "execution_count": 128,
   "metadata": {
    "collapsed": false
   },
   "outputs": [
    {
     "name": "stdout",
     "output_type": "stream",
     "text": [
      "Overwriting right_join.py\n"
     ]
    }
   ],
   "source": [
    "%%writefile right_join.py\n",
    "# HW 5.2A - Left join MRJob Code\n",
    "import csv\n",
    "\n",
    "from mrjob.job import MRJob\n",
    "from mrjob.step import MRStep\n",
    "\n",
    "class RightJoin(MRJob):\n",
    "    \n",
    "    def mapper_init(self):\n",
    "        \"\"\"Load file of page URLs into memory\"\"\"\n",
    "        with open('ms_urls.txt','rb') as f:\n",
    "            urls=csv.reader(f.readlines())\n",
    "        self.url_dict={}\n",
    "        for i in urls:\n",
    "            #Saving the URLs into a dictionary will make it easy to access them later\n",
    "            #the second term here is a flag to see if we've emitted a record yet\n",
    "            self.url_dict[int(i[0])]=[i[2],0] \n",
    "        \n",
    "\n",
    "    def mapper(self, _, line):\n",
    "        \"\"\"Extracts the page that was visited and the visitor id\"\"\"\n",
    "        line=line.strip().split('\\t')\n",
    "        page=line[0]\n",
    "        visitor=line[1]\n",
    "        #This is the \"Inner Join\" logic that emits a row for every record appearing in both \n",
    "        #tables\n",
    "        try:\n",
    "            url=self.url_dict[int(page)][0]\n",
    "            self.url_dict[int(page)][1]=1 #set flag to indicate we've emitted the record\n",
    "            yield page,(visitor,url)\n",
    "        except KeyError:\n",
    "            pass\n",
    "        \n",
    "    \n",
    "    def mapper_final(self):\n",
    "        \"\"\"emit any records in the right table we haven't seen yet\"\"\"\n",
    "        for i in self.url_dict.iteritems():\n",
    "            if i[1][1]==0:\n",
    "                page=i[0]\n",
    "                url=i[1][0]\n",
    "                yield page,('NONE',url)\n",
    "   \n",
    "    def steps(self):\n",
    "        return [MRStep(\n",
    "                mapper_init=self.mapper_init,\n",
    "                mapper=self.mapper,\n",
    "                mapper_final=self.mapper_final\n",
    "                )]\n",
    "        \n",
    "if __name__ == '__main__':\n",
    "    RightJoin.run()"
   ]
  },
  {
   "cell_type": "code",
   "execution_count": 129,
   "metadata": {
    "collapsed": false
   },
   "outputs": [
    {
     "name": "stderr",
     "output_type": "stream",
     "text": [
      "WARNING:mrjob.runner:\n",
      "WARNING:mrjob.runner:PLEASE NOTE: Starting in mrjob v0.5.0, protocols will be strict by default. It's recommended you run your job with --strict-protocols or set up mrjob.conf as described at https://pythonhosted.org/mrjob/whats-new.html#ready-for-strict-protocols\n",
      "WARNING:mrjob.runner:\n"
     ]
    },
    {
     "name": "stdout",
     "output_type": "stream",
     "text": [
      "Right Join returned 294 results\n"
     ]
    }
   ],
   "source": [
    "#HW 5.2 - Right Join Driver Function\n",
    "from right_join import RightJoin\n",
    "import csv\n",
    "\n",
    "mr_job = RightJoin(args=['freq_visitor_data.txt','--file','ms_urls.txt'])\n",
    "number_of_rows=0\n",
    "with mr_job.make_runner() as runner:\n",
    "    runner.run()\n",
    "    #print 'Page | Visitor ID | URL'\n",
    "    for line in runner.stream_output():\n",
    "        output=mr_job.parse_output_line(line)\n",
    "        number_of_rows+=1\n",
    "        #print output[0], output[1][0], output[1][1]\n",
    "        \n",
    "print \"Right Join returned {0} results\".format(str(number_of_rows))\n",
    "\n"
   ]
  },
  {
   "cell_type": "markdown",
   "metadata": {},
   "source": [
    "###(3) Inner joining Table Left with Table Right "
   ]
  },
  {
   "cell_type": "code",
   "execution_count": 113,
   "metadata": {
    "collapsed": false
   },
   "outputs": [
    {
     "name": "stdout",
     "output_type": "stream",
     "text": [
      "Overwriting inner_join.py\n"
     ]
    }
   ],
   "source": [
    "%%writefile inner_join.py\n",
    "# HW 5.2A - Inner join MRJob Code\n",
    "import csv\n",
    "\n",
    "from mrjob.job import MRJob\n",
    "from mrjob.step import MRStep\n",
    "\n",
    "class InnerJoin(MRJob):\n",
    "    \n",
    "    def mapper_init(self):\n",
    "        \"\"\"Load file of page URLs into memory\"\"\"\n",
    "        with open('ms_urls.txt','rb') as f:\n",
    "            urls=csv.reader(f.readlines())\n",
    "        self.url_dict={}\n",
    "        for i in urls:\n",
    "            #Saving the URLs into a dictionary will make it easy to access them later\n",
    "            #the second term here is a flag to see if we've emitted a record yet\n",
    "            self.url_dict[int(i[0])]=[i[2],0] \n",
    "        \n",
    "\n",
    "    def mapper(self, _, line):\n",
    "        \"\"\"Extracts the page that was visited and the visitor id\"\"\"\n",
    "        line=line.strip().split('\\t')\n",
    "        page=line[0]\n",
    "        visitor=line[1]\n",
    "        #This is the \"Inner Join\" logic that emits a row for every record appearing in both \n",
    "        #tables\n",
    "        try:\n",
    "            url=self.url_dict[int(page)][0]\n",
    "            self.url_dict[int(page)][1]=1 #set flag to indicate we've emitted the record\n",
    "            yield page,(visitor,url)\n",
    "        except KeyError:\n",
    "            #Skip records that don't appear in both tables\n",
    "            pass\n",
    "        \n",
    "   \n",
    "    def steps(self):\n",
    "        return [MRStep(\n",
    "                mapper_init=self.mapper_init,\n",
    "                mapper=self.mapper\n",
    "            )]\n",
    "        \n",
    "if __name__ == '__main__':\n",
    "    InnerJoin.run()"
   ]
  },
  {
   "cell_type": "code",
   "execution_count": 114,
   "metadata": {
    "collapsed": false
   },
   "outputs": [
    {
     "name": "stderr",
     "output_type": "stream",
     "text": [
      "WARNING:mrjob.runner:\n",
      "WARNING:mrjob.runner:PLEASE NOTE: Starting in mrjob v0.5.0, protocols will be strict by default. It's recommended you run your job with --strict-protocols or set up mrjob.conf as described at https://pythonhosted.org/mrjob/whats-new.html#ready-for-strict-protocols\n",
      "WARNING:mrjob.runner:\n"
     ]
    },
    {
     "name": "stdout",
     "output_type": "stream",
     "text": [
      "Inner Join returned 285 results\n"
     ]
    }
   ],
   "source": [
    "#HW 5.2 - Inner Join Driver Function\n",
    "from inner_join import InnerJoin\n",
    "import csv\n",
    "\n",
    "mr_job = InnerJoin(args=['freq_visitor_data.txt','--file','ms_urls.txt'])\n",
    "number_of_rows=0\n",
    "with mr_job.make_runner() as runner:\n",
    "    runner.run()\n",
    "    #print 'Page | Visitor ID | URL'\n",
    "    for line in runner.stream_output():\n",
    "        output=mr_job.parse_output_line(line)\n",
    "        number_of_rows+=1\n",
    "        #print output[0], output[1][0], output[1][1]\n",
    "        \n",
    "print \"Inner Join returned {0} results\".format(str(number_of_rows))\n",
    "\n"
   ]
  },
  {
   "cell_type": "markdown",
   "metadata": {},
   "source": [
    "## HW 5.3\n",
    "For the remainder of this assignment you will work with two datasets:\n",
    "\n",
    "-1: unit/systems test data set: SYSTEMS TEST DATASET\n",
    "Three terms, A,B,C and their corresponding strip-docs of co-occurring terms\n",
    "\n",
    "DocA {X:20, Y:30, Z:5}\n",
    "DocB {X:100, Y:20}\n",
    "DocC {M:5, N:20, Z:5}\n",
    "\n",
    "\n",
    "-2: A large subset of the Google n-grams dataset\n",
    "\n",
    "https://aws.amazon.com/datasets/google-books-ngrams/\n",
    "\n",
    "which we have placed in a bucket/folder on Dropbox on s3:\n",
    "\n",
    "   https://www.dropbox.com/sh/tmqpc4o0xswhkvz/AACUifrl6wrMrlK6a3X3lZ9Ea?dl=0 \n",
    "\n",
    "   s3://filtered-5grams/\n",
    "\n",
    "For each HW 5.3 -5.5 Please unit test and system test your code with with SYSTEMS TEST DATASET and show the results. \n",
    "Please compute the expected answer by hand and show your hand calculations. Then show the results you get with you system.\n",
    "Final show your results on the Google n-grams dataset\n",
    "\n",
    "\n",
    "In particular, this bucket contains (~200) files (10Meg each) in the format:\n",
    "\n",
    "\t(ngram) \\t (count) \\t (pages_count) \\t (books_count)\n",
    "\n",
    "Do some EDA on this dataset using mrjob, e.g., \n",
    "\n",
    "- Longest 5-gram (number of characters)\n",
    "- Top 10 most frequent words (count), i.e., unigrams\n",
    "- Most/Least densely appearing words (count/pages_count) sorted in decreasing order of relative frequency (Hint: save to PART-000* and take the head -n 1000)\n",
    "- Distribution of 5-gram sizes (counts) sorted in decreasing order of relative frequency. (Hint: save to PART-000* and take the head -n 1000)\n",
    "- OPTIONAL Question: Plot the log-log plot of the frequency distributuion of unigrams. Does it follow power law distribution?\n",
    "\n",
    "For more background see:\n",
    "- https://en.wikipedia.org/wiki/Log%E2%80%93log_plot  \n",
    "- https://en.wikipedia.org/wiki/Power_law  \n"
   ]
  },
  {
   "cell_type": "markdown",
   "metadata": {},
   "source": [
    "### Longest N-Gram (by number of characters)"
   ]
  },
  {
   "cell_type": "code",
   "execution_count": 2,
   "metadata": {
    "collapsed": false
   },
   "outputs": [
    {
     "name": "stdout",
     "output_type": "stream",
     "text": [
      "Overwriting longest_ngram.py\n"
     ]
    }
   ],
   "source": [
    "%%writefile longest_ngram.py\n",
    "#HW 5.3 - MRJob Definition\n",
    "import csv\n",
    "\n",
    "from mrjob.job import MRJob\n",
    "from mrjob.step import MRStep\n",
    "\n",
    "class LongestNgram(MRJob):\n",
    "\n",
    "    def mapper(self, _, line):\n",
    "        \"\"\" \"\"\"\n",
    "        line=line.strip().split('\\t')\n",
    "        ngram=line[0]\n",
    "        yield None,(len(ngram),ngram)\n",
    "        \n",
    "    def reducer(self, _, ngram_and_length):\n",
    "        \"\"\" \"\"\"\n",
    "        yield None, max(ngram_and_length)\n",
    "        \n",
    "    def steps(self):\n",
    "        return [\n",
    "            MRStep(mapper=self.mapper\n",
    "                   ,combiner=self.reducer\n",
    "                    ,reducer=self.reducer\n",
    "                  )        \n",
    "        ]\n",
    "        \n",
    "if __name__ == '__main__':\n",
    "    LongestNgram.run()"
   ]
  },
  {
   "cell_type": "code",
   "execution_count": 3,
   "metadata": {
    "collapsed": false
   },
   "outputs": [
    {
     "name": "stderr",
     "output_type": "stream",
     "text": [
      "WARNING:mrjob.runner:\n",
      "WARNING:mrjob.runner:PLEASE NOTE: Starting in mrjob v0.5.0, protocols will be strict by default. It's recommended you run your job with --strict-protocols or set up mrjob.conf as described at https://pythonhosted.org/mrjob/whats-new.html#ready-for-strict-protocols\n",
      "WARNING:mrjob.runner:\n"
     ]
    },
    {
     "name": "stdout",
     "output_type": "stream",
     "text": [
      "(None, [34, 'A HANDBOOK ON THEODOLITE SURVEYING'])\n"
     ]
    }
   ],
   "source": [
    "#HW 4.3 - Driver Function\n",
    "from longest_ngram import LongestNgram\n",
    "#import csv\n",
    "\n",
    "mr_job = LongestNgram(args=['testngrams.txt'])\n",
    "with mr_job.make_runner() as runner:\n",
    "    runner.run()\n",
    "    for line in runner.stream_output():\n",
    "        print mr_job.parse_output_line(line)\n"
   ]
  },
  {
   "cell_type": "code",
   "execution_count": null,
   "metadata": {
    "collapsed": false,
    "scrolled": true
   },
   "outputs": [],
   "source": [
    "! python ./longest_ngram.py \\\n",
    "    -r emr s3://filtered-5grams  \\\n",
    "    --conf-path ./mrjob.conf \\\n",
    "    --output-dir=s3://hamlin-mids-261/longest_ngram \\\n",
    "    --no-output \\\n",
    "    --no-strict-protocol"
   ]
  },
  {
   "cell_type": "markdown",
   "metadata": {},
   "source": [
    "### Top 10 Most Frequent Words"
   ]
  },
  {
   "cell_type": "code",
   "execution_count": 189,
   "metadata": {
    "collapsed": false
   },
   "outputs": [
    {
     "name": "stdout",
     "output_type": "stream",
     "text": [
      "Overwriting most_freq_words.py\n"
     ]
    }
   ],
   "source": [
    "%%writefile most_freq_words.py\n",
    "#HW 5.3 - MRJob Definition\n",
    "import csv\n",
    "import re\n",
    "\n",
    "from mrjob.job import MRJob\n",
    "from mrjob.step import MRStep\n",
    "\n",
    "class MostFreqWords(MRJob):\n",
    "    \n",
    "    #SORT_VALUES=True\n",
    "    \n",
    "#     def jobconf(self):\n",
    "#         orig_jobconf = super(MostFreqWords, self).jobconf()        \n",
    "#         custom_jobconf = {  #key value pairs\n",
    "#             'mapred.output.key.comparator.class': 'org.apache.hadoop.mapred.lib.KeyFieldBasedComparator',\n",
    "#             'mapred.text.key.comparator.options': '-k2,2nr',\n",
    "#             #'mapred.partition.keypartitioner.options':'-k1,1',\n",
    "#             'mapred.reduce.tasks': '1',\n",
    "#         }\n",
    "#         combined_jobconf = orig_jobconf\n",
    "#         combined_jobconf.update(custom_jobconf)\n",
    "#         self.jobconf = combined_jobconf\n",
    "#         return combined_jobconf\n",
    "            \n",
    "    def mapper(self, _, line):\n",
    "        counts = {}\n",
    "        line.strip()\n",
    "        [ngram,count,pages,books] = re.split(\"\\t\",line)\n",
    "        count = int(count)\n",
    "        words = re.split(\" \",ngram)\n",
    "        for word in words:\n",
    "            counts.setdefault(word.lower(),0)\n",
    "            counts[word.lower()] += count\n",
    "        for word in counts.keys():\n",
    "            yield word,counts[word]\n",
    "    \n",
    "    def combiner(self,word,count):\n",
    "        yield word,sum(count)\n",
    "            \n",
    "    def reducer(self,word,count):\n",
    "        yield word,sum(count)\n",
    "        \n",
    "#     def mapper_id(self,word,count):\n",
    "#         yield word,count  \n",
    "        \n",
    "#     def reducer_init(self):\n",
    "#         pass\n",
    "        \n",
    "    def steps(self):\n",
    "        return [\n",
    "            MRStep(mapper=self.mapper\n",
    "                   ,combiner=self.combiner\n",
    "                    ,reducer=self.reducer\n",
    "                  )\n",
    "#             ,MRStep(#mapper=self.mapper_id\n",
    "#                     reducer_init=self.reducer_init\n",
    "#                     #reducer=self.mapper_id\n",
    "#                   )   \n",
    "        ]\n",
    "        \n",
    "if __name__ == '__main__':\n",
    "    MostFreqWords.run()"
   ]
  },
  {
   "cell_type": "code",
   "execution_count": 187,
   "metadata": {
    "collapsed": false
   },
   "outputs": [
    {
     "data": {
      "text/plain": [
       "'/Users/nicholashamlin/Documents/Grad School/261 - Machine Learning at Scale/mids_261_homework/HW5'"
      ]
     },
     "execution_count": 187,
     "metadata": {},
     "output_type": "execute_result"
    }
   ],
   "source": [
    "os.getcwd()\n",
    "#os.chdir('..')"
   ]
  },
  {
   "cell_type": "code",
   "execution_count": 190,
   "metadata": {
    "collapsed": false,
    "scrolled": true
   },
   "outputs": [
    {
     "name": "stderr",
     "output_type": "stream",
     "text": [
      "WARNING:mrjob.runner:\n",
      "WARNING:mrjob.runner:PLEASE NOTE: Starting in mrjob v0.5.0, protocols will be strict by default. It's recommended you run your job with --strict-protocols or set up mrjob.conf as described at https://pythonhosted.org/mrjob/whats-new.html#ready-for-strict-protocols\n",
      "WARNING:mrjob.runner:\n"
     ]
    },
    {
     "name": "stdout",
     "output_type": "stream",
     "text": [
      "('a', 32811)\n",
      "('aerial', 61)\n",
      "('all', 376)\n",
      "(\"america's\", 98)\n",
      "('american', 172)\n",
      "('and', 579)\n",
      "('apology', 110)\n",
      "('arithmetic', 79)\n",
      "('at', 51)\n",
      "('bibliographical', 56)\n",
      "('bibliography', 145)\n",
      "('bill', 59)\n",
      "('biography', 92)\n",
      "('by', 156)\n",
      "('case', 604)\n",
      "(\"cat's\", 86)\n",
      "('censorship', 98)\n",
      "(\"child's\", 1099)\n",
      "('christmas', 1099)\n",
      "('circumstantial', 62)\n",
      "('city', 62)\n",
      "('collection', 239)\n",
      "('commentary', 110)\n",
      "('comparative', 68)\n",
      "('comparison', 72)\n",
      "('conceptual', 140)\n",
      "('concise', 145)\n",
      "('continuation', 52)\n",
      "('cradle', 86)\n",
      "('critical', 197)\n",
      "('critique', 42)\n",
      "('defence', 398)\n",
      "('dirty', 180)\n",
      "('discovery', 253)\n",
      "('establishing', 59)\n",
      "('eurobond', 59)\n",
      "('fairy', 123)\n",
      "('female', 447)\n",
      "('festschrift', 549)\n",
      "('for', 627)\n",
      "('forms', 116)\n",
      "('framework', 140)\n",
      "('funny', 180)\n",
      "('further', 51)\n",
      "('game', 86)\n",
      "('general', 92)\n",
      "('george', 92)\n",
      "('government', 102)\n",
      "('guide', 140)\n",
      "('handbook', 61)\n",
      "('her', 51)\n",
      "('his', 110)\n",
      "('historical', 558)\n",
      "('history', 25718)\n",
      "('honour', 549)\n",
      "('in', 2348)\n",
      "('instruction', 284)\n",
      "('joint', 94)\n",
      "('journey', 59)\n",
      "('juvenile', 68)\n",
      "('key', 135)\n",
      "('lakota', 51)\n",
      "('letters', 52)\n",
      "('life', 298)\n",
      "('limited', 55)\n",
      "('literature', 558)\n",
      "('little', 180)\n",
      "('longitudinal', 58)\n",
      "('look', 51)\n",
      "('lovely', 113)\n",
      "('man', 376)\n",
      "('manipulation', 131)\n",
      "('manual', 973)\n",
      "('mathematical', 85)\n",
      "('model', 85)\n",
      "('modern', 169)\n",
      "('narrative', 62)\n",
      "('navigation', 61)\n",
      "('of', 29443)\n",
      "('on', 302)\n",
      "('postwar', 172)\n",
      "('properties', 72)\n",
      "('railroads', 125)\n",
      "('real', 253)\n",
      "('religious', 59)\n",
      "('report', 94)\n",
      "('review', 197)\n",
      "('royal', 153)\n",
      "('sea', 62)\n",
      "('seasons', 376)\n",
      "('short', 245)\n",
      "('southeast', 169)\n",
      "('spain', 59)\n",
      "('spend', 113)\n",
      "('study', 786)\n",
      "('surveying', 61)\n",
      "('tales', 123)\n",
      "('tells', 51)\n",
      "('the', 26578)\n",
      "('theodolite', 61)\n",
      "('through', 59)\n",
      "('times', 191)\n",
      "('to', 346)\n",
      "('travel', 130)\n",
      "('united', 24792)\n",
      "('wales', 1099)\n",
      "('war', 180)\n",
      "('way', 113)\n",
      "('white', 152)\n",
      "('woman', 51)\n"
     ]
    }
   ],
   "source": [
    "#HW 4.3 - Driver Function\n",
    "from most_freq_words import MostFreqWords\n",
    "\n",
    "mr_job = MostFreqWords(args=['testngrams.txt'])# ,'-r','hadoop','--hadoop-home',\"/Users/nicholashamlin/hadoop-2.6.3\"])\n",
    "with mr_job.make_runner() as runner:\n",
    "    runner.run()\n",
    "    for line in runner.stream_output():\n",
    "        print mr_job.parse_output_line(line)"
   ]
  },
  {
   "cell_type": "code",
   "execution_count": 28,
   "metadata": {
    "collapsed": false,
    "scrolled": true
   },
   "outputs": [
    {
     "name": "stdout",
     "output_type": "stream",
     "text": [
      "creating new scratch bucket mrjob-46dd62fe4baf7a13\n",
      "using s3://mrjob-46dd62fe4baf7a13/tmp/ as our scratch dir on S3\n",
      "creating tmp directory /var/folders/rz/drh189k95919thyy3gs3tq400000gn/T/most_freq_words.nicholashamlin.20160214.182523.935641\n",
      "writing master bootstrap script to /var/folders/rz/drh189k95919thyy3gs3tq400000gn/T/most_freq_words.nicholashamlin.20160214.182523.935641/b.py\n",
      "creating S3 bucket 'mrjob-46dd62fe4baf7a13' to use as scratch space\n",
      "Copying non-input files into s3://mrjob-46dd62fe4baf7a13/tmp/most_freq_words.nicholashamlin.20160214.182523.935641/files/\n",
      "Waiting 5.0s for S3 eventual consistency\n",
      "Creating Elastic MapReduce job flow\n",
      "Job flow created with ID: j-293AF6MIHM0DD\n",
      "Created new job flow j-293AF6MIHM0DD\n",
      "Job launched 30.4s ago, status STARTING: Provisioning Amazon EC2 capacity\n",
      "Job launched 60.7s ago, status STARTING: Provisioning Amazon EC2 capacity\n",
      "Job launched 91.5s ago, status STARTING: Provisioning Amazon EC2 capacity\n",
      "Job launched 121.8s ago, status STARTING: Provisioning Amazon EC2 capacity\n",
      "Job launched 152.7s ago, status STARTING: Provisioning Amazon EC2 capacity\n",
      "Job launched 183.5s ago, status BOOTSTRAPPING: Running bootstrap actions\n",
      "Job launched 213.8s ago, status BOOTSTRAPPING: Running bootstrap actions\n",
      "Job launched 244.7s ago, status BOOTSTRAPPING: Running bootstrap actions\n",
      "Job launched 275.1s ago, status BOOTSTRAPPING: Running bootstrap actions\n",
      "Job launched 305.8s ago, status RUNNING: Running step (most_freq_words.nicholashamlin.20160214.182523.935641: Step 1 of 1)\n",
      "Opening ssh tunnel to Hadoop job tracker\n",
      "Connect to job tracker at: http://localhost:40708/jobtracker.jsp\n",
      "Job launched 337.1s ago, status RUNNING: Running step (most_freq_words.nicholashamlin.20160214.182523.935641: Step 1 of 1)\n",
      "Unable to load progress from job tracker\n",
      "Job launched 368.1s ago, status RUNNING: Running step (most_freq_words.nicholashamlin.20160214.182523.935641: Step 1 of 1)\n",
      "Job launched 398.4s ago, status RUNNING: Running step (most_freq_words.nicholashamlin.20160214.182523.935641: Step 1 of 1)\n",
      "Oops, ssh subprocess exited with return code 255, restarting...\n",
      "Opening ssh tunnel to Hadoop job tracker\n",
      "Connect to job tracker at: http://localhost:40708/jobtracker.jsp\n",
      "Job launched 430.2s ago, status RUNNING: Running step (most_freq_words.nicholashamlin.20160214.182523.935641: Step 1 of 1)\n",
      "Unable to load progress from job tracker\n",
      "Job completed.\n",
      "Running time was 125.0s (not counting time spent waiting for the EC2 instances)\n",
      "Fetching counters from S3...\n",
      "Waiting 5.0s for S3 eventual consistency\n",
      "Counters from step 1:\n",
      "  File Input Format Counters :\n",
      "    Bytes Read: 4675\n",
      "  File Output Format Counters :\n",
      "    Bytes Written: 2478\n",
      "  FileSystemCounters:\n",
      "    FILE_BYTES_READ: 2109\n",
      "    FILE_BYTES_WRITTEN: 136944\n",
      "    HDFS_BYTES_READ: 352\n",
      "    S3_BYTES_READ: 4675\n",
      "    S3_BYTES_WRITTEN: 2478\n",
      "  Job Counters :\n",
      "    Launched map tasks: 4\n",
      "    Launched reduce tasks: 1\n",
      "    Rack-local map tasks: 4\n",
      "    SLOTS_MILLIS_MAPS: 74634\n",
      "    SLOTS_MILLIS_REDUCES: 35979\n",
      "    Total time spent by all maps waiting after reserving slots (ms): 0\n",
      "    Total time spent by all reduces waiting after reserving slots (ms): 0\n",
      "  Map-Reduce Framework:\n",
      "    CPU time spent (ms): 4000\n",
      "    Combine input records: 0\n",
      "    Combine output records: 0\n",
      "    Map input bytes: 1867\n",
      "    Map input records: 50\n",
      "    Map output bytes: 2723\n",
      "    Map output materialized bytes: 2401\n",
      "    Map output records: 249\n",
      "    Physical memory (bytes) snapshot: 853176320\n",
      "    Reduce input groups: 117\n",
      "    Reduce input records: 249\n",
      "    Reduce output records: 117\n",
      "    Reduce shuffle bytes: 2401\n",
      "    SPLIT_RAW_BYTES: 352\n",
      "    Spilled Records: 498\n",
      "    Total committed heap usage (bytes): 606814208\n",
      "    Virtual memory (bytes) snapshot: 3215872000\n",
      "removing tmp directory /var/folders/rz/drh189k95919thyy3gs3tq400000gn/T/most_freq_words.nicholashamlin.20160214.182523.935641\n",
      "Removing all files in s3://mrjob-46dd62fe4baf7a13/tmp/most_freq_words.nicholashamlin.20160214.182523.935641/\n",
      "Removing all files in s3://mrjob-46dd62fe4baf7a13/tmp/logs/j-293AF6MIHM0DD/\n",
      "Killing our SSH tunnel (pid 1632)\n",
      "Terminating job flow: j-293AF6MIHM0DD\n"
     ]
    }
   ],
   "source": [
    " python ./most_freq_words.py \\\n",
    "    -r emr s3://filtered-5grams  \\\n",
    "    --conf-path ./mrjob.conf \\\n",
    "    --output-dir=s3://hamlin-mids-261/most_freq_words \\\n",
    "    --no-output \\\n",
    "    --no-strict-protocol"
   ]
  },
  {
   "cell_type": "markdown",
   "metadata": {},
   "source": [
    "### Most/Least densely appearing words (count/pages_count) sorted in decreasing order of relative frequency (Hint: save to PART-000* and take the head -n 1000)"
   ]
  },
  {
   "cell_type": "code",
   "execution_count": 193,
   "metadata": {
    "collapsed": false
   },
   "outputs": [
    {
     "name": "stdout",
     "output_type": "stream",
     "text": [
      "Overwriting word_density.py\n"
     ]
    }
   ],
   "source": [
    "%%writefile word_density.py\n",
    "#HW 5.3 - MRJob Definition\n",
    "from __future__ import division\n",
    "import csv\n",
    "\n",
    "from mrjob.job import MRJob\n",
    "from mrjob.step import MRStep\n",
    "\n",
    "class WordDensity(MRJob):\n",
    "\n",
    "    def mapper(self, _, line):\n",
    "        \"\"\" \"\"\"\n",
    "        line=line.strip().split('\\t')\n",
    "        ngram=line[0]\n",
    "        count=line[1]\n",
    "        page_count=line[2]\n",
    "        for word in ngram.split(' '):\n",
    "            yield word,(count,page_count)\n",
    "            \n",
    "    def combiner(self,word,count):\n",
    "        word_count=0\n",
    "        page_count=0\n",
    "        for record in count:\n",
    "            word_count+=int(record[0])\n",
    "            page_count+=int(record[1])\n",
    "        yield word,(word_count,page_count)\n",
    "                    \n",
    "    def reducer(self,word,count):\n",
    "        word_count=0\n",
    "        page_count=0\n",
    "        for record in count:\n",
    "            word_count+=int(record[0])\n",
    "            page_count+=int(record[1])\n",
    "        yield word,word_count/page_count\n",
    "        \n",
    "    def steps(self):\n",
    "        return [\n",
    "            MRStep(mapper=self.mapper\n",
    "                   ,combiner=self.combiner\n",
    "                    ,reducer=self.reducer\n",
    "                  )        \n",
    "        ]\n",
    "        \n",
    "if __name__ == '__main__':\n",
    "    WordDensity.run()"
   ]
  },
  {
   "cell_type": "code",
   "execution_count": 194,
   "metadata": {
    "collapsed": true
   },
   "outputs": [],
   "source": [
    "!chmod +x word_density.py"
   ]
  },
  {
   "cell_type": "code",
   "execution_count": 192,
   "metadata": {
    "collapsed": false,
    "scrolled": true
   },
   "outputs": [
    {
     "name": "stderr",
     "output_type": "stream",
     "text": [
      "WARNING:mrjob.runner:\n",
      "WARNING:mrjob.runner:PLEASE NOTE: Starting in mrjob v0.5.0, protocols will be strict by default. It's recommended you run your job with --strict-protocols or set up mrjob.conf as described at https://pythonhosted.org/mrjob/whats-new.html#ready-for-strict-protocols\n",
      "WARNING:mrjob.runner:\n"
     ]
    },
    {
     "name": "stdout",
     "output_type": "stream",
     "text": [
      "('A', 1.0588044078925982)\n",
      "('ALL', 1.0301369863013699)\n",
      "('AT', 1.02)\n",
      "('Aerial', 1.0)\n",
      "(\"America's\", 1.0)\n",
      "('American', 1.0058479532163742)\n",
      "('Apology', 1.0)\n",
      "('Arithmetic', 1.0)\n",
      "('BILL', 1.0)\n",
      "('Bibliographical', 1.0)\n",
      "('Bibliography', 1.013986013986014)\n",
      "('Biography', 1.0222222222222221)\n",
      "('Case', 1.0)\n",
      "(\"Cat's\", 1.0)\n",
      "('Censorship', 1.0)\n",
      "(\"Child's\", 1.0358152686145146)\n",
      "('Christmas', 1.0358152686145146)\n",
      "('Circumstantial', 1.0)\n",
      "('City', 1.0333333333333334)\n",
      "('Collection', 1.0863636363636364)\n",
      "('Commentary', 1.0)\n",
      "('Comparative', 1.0625)\n",
      "('Comparison', 1.0)\n",
      "('Conceptual', 1.0)\n",
      "('Concise', 1.013986013986014)\n",
      "('Continuation', 1.0196078431372548)\n",
      "('Cradle', 1.0)\n",
      "('Critical', 1.0154639175257731)\n",
      "('Critique', 1.0)\n",
      "('Defence', 1.028423772609819)\n",
      "('Dirty', 1.1688311688311688)\n",
      "('Discovery', 1.0079681274900398)\n",
      "('ESTABLISHING', 1.0)\n",
      "('Eurobond', 1.0172413793103448)\n",
      "('FOR', 1.0441767068273093)\n",
      "('FURTHER', 1.02)\n",
      "('Fairy', 1.0512820512820513)\n",
      "('Female', 1.0)\n",
      "('Festschrift', 1.0166666666666666)\n",
      "('Forms', 1.1262135922330097)\n",
      "('Framework', 1.0)\n",
      "('Funny', 1.1688311688311688)\n",
      "('Game', 1.0)\n",
      "('General', 1.0222222222222221)\n",
      "('George', 1.0222222222222221)\n",
      "('Government', 1.0)\n",
      "('Guide', 1.0)\n",
      "('HANDBOOK', 1.0)\n",
      "('HISTORY', 1.0)\n",
      "('Her', 1.0)\n",
      "('Historical', 1.0017953321364452)\n",
      "('History', 1.069374791039786)\n",
      "('Honour', 1.0166666666666666)\n",
      "('IN', 1.0)\n",
      "('Instruction', 1.0)\n",
      "('Joint', 1.0561797752808988)\n",
      "('Journey', 1.0172413793103448)\n",
      "('Juvenile', 1.0625)\n",
      "('Key', 1.0)\n",
      "('LOOK', 1.02)\n",
      "('Lakota', 1.0)\n",
      "('Letters', 1.0196078431372548)\n",
      "('Life', 1.0)\n",
      "('Limited', 1.0)\n",
      "('Literature', 1.0017953321364452)\n",
      "('Little', 1.1688311688311688)\n",
      "('Longitudinal', 1.0)\n",
      "('Lovely', 1.0)\n",
      "('MAN', 1.0301369863013699)\n",
      "('MATHEMATICAL', 1.1486486486486487)\n",
      "('MODEL', 1.1486486486486487)\n",
      "('Manipulation', 1.0)\n",
      "('Manual', 1.0010288065843622)\n",
      "('Modern', 1.0)\n",
      "('Narrative', 1.0)\n",
      "('Navigation', 1.0)\n",
      "('OF', 1.0)\n",
      "('ON', 1.0)\n",
      "('Postwar', 1.0058479532163742)\n",
      "('Properties', 1.0)\n",
      "('RELIGIOUS', 1.0)\n",
      "('Railroads', 1.016260162601626)\n",
      "('Real', 1.0079681274900398)\n",
      "('Report', 1.0561797752808988)\n",
      "('Review', 1.0154639175257731)\n",
      "('Royal', 1.0)\n",
      "('SEASONS', 1.0301369863013699)\n",
      "('SURVEYING', 1.0)\n",
      "('Sea', 1.0333333333333334)\n",
      "('Short', 1.047008547008547)\n",
      "('Southeast', 1.0)\n",
      "('Spain', 1.0172413793103448)\n",
      "('Spend', 1.0)\n",
      "('Study', 1.0051150895140666)\n",
      "('THE', 1.096774193548387)\n",
      "('THEODOLITE', 1.0)\n",
      "('TRAVEL', 1.0)\n",
      "('Tales', 1.0512820512820513)\n",
      "('Tells', 1.0)\n",
      "('Through', 1.0172413793103448)\n",
      "('Times', 1.0)\n",
      "('United', 1.0715767634854771)\n",
      "('Wales', 1.0358152686145146)\n",
      "('War', 1.1688311688311688)\n",
      "('Way', 1.0)\n",
      "('White', 1.0)\n",
      "('Woman', 1.0)\n",
      "('a', 1.0127118644067796)\n",
      "('and', 1.0052083333333333)\n",
      "('by', 1.0469798657718121)\n",
      "('for', 1.0)\n",
      "('his', 1.0)\n",
      "('in', 1.0230627306273063)\n",
      "('of', 1.0624886730218566)\n",
      "('on', 1.0)\n",
      "('the', 1.067845892900412)\n",
      "('to', 1.0)\n"
     ]
    }
   ],
   "source": [
    "#HW 4.3 - Driver Function\n",
    "from word_density import WordDensity\n",
    "\n",
    "mr_job = WordDensity(args=['testngrams.txt'])\n",
    "with mr_job.make_runner() as runner:\n",
    "    runner.run()\n",
    "    for line in runner.stream_output():\n",
    "        print mr_job.parse_output_line(line)\n"
   ]
  },
  {
   "cell_type": "code",
   "execution_count": 28,
   "metadata": {
    "collapsed": false,
    "scrolled": true
   },
   "outputs": [
    {
     "name": "stdout",
     "output_type": "stream",
     "text": [
      "creating new scratch bucket mrjob-46dd62fe4baf7a13\n",
      "using s3://mrjob-46dd62fe4baf7a13/tmp/ as our scratch dir on S3\n",
      "creating tmp directory /var/folders/rz/drh189k95919thyy3gs3tq400000gn/T/most_freq_words.nicholashamlin.20160214.182523.935641\n",
      "writing master bootstrap script to /var/folders/rz/drh189k95919thyy3gs3tq400000gn/T/most_freq_words.nicholashamlin.20160214.182523.935641/b.py\n",
      "creating S3 bucket 'mrjob-46dd62fe4baf7a13' to use as scratch space\n",
      "Copying non-input files into s3://mrjob-46dd62fe4baf7a13/tmp/most_freq_words.nicholashamlin.20160214.182523.935641/files/\n",
      "Waiting 5.0s for S3 eventual consistency\n",
      "Creating Elastic MapReduce job flow\n",
      "Job flow created with ID: j-293AF6MIHM0DD\n",
      "Created new job flow j-293AF6MIHM0DD\n",
      "Job launched 30.4s ago, status STARTING: Provisioning Amazon EC2 capacity\n",
      "Job launched 60.7s ago, status STARTING: Provisioning Amazon EC2 capacity\n",
      "Job launched 91.5s ago, status STARTING: Provisioning Amazon EC2 capacity\n",
      "Job launched 121.8s ago, status STARTING: Provisioning Amazon EC2 capacity\n",
      "Job launched 152.7s ago, status STARTING: Provisioning Amazon EC2 capacity\n",
      "Job launched 183.5s ago, status BOOTSTRAPPING: Running bootstrap actions\n",
      "Job launched 213.8s ago, status BOOTSTRAPPING: Running bootstrap actions\n",
      "Job launched 244.7s ago, status BOOTSTRAPPING: Running bootstrap actions\n",
      "Job launched 275.1s ago, status BOOTSTRAPPING: Running bootstrap actions\n",
      "Job launched 305.8s ago, status RUNNING: Running step (most_freq_words.nicholashamlin.20160214.182523.935641: Step 1 of 1)\n",
      "Opening ssh tunnel to Hadoop job tracker\n",
      "Connect to job tracker at: http://localhost:40708/jobtracker.jsp\n",
      "Job launched 337.1s ago, status RUNNING: Running step (most_freq_words.nicholashamlin.20160214.182523.935641: Step 1 of 1)\n",
      "Unable to load progress from job tracker\n",
      "Job launched 368.1s ago, status RUNNING: Running step (most_freq_words.nicholashamlin.20160214.182523.935641: Step 1 of 1)\n",
      "Job launched 398.4s ago, status RUNNING: Running step (most_freq_words.nicholashamlin.20160214.182523.935641: Step 1 of 1)\n",
      "Oops, ssh subprocess exited with return code 255, restarting...\n",
      "Opening ssh tunnel to Hadoop job tracker\n",
      "Connect to job tracker at: http://localhost:40708/jobtracker.jsp\n",
      "Job launched 430.2s ago, status RUNNING: Running step (most_freq_words.nicholashamlin.20160214.182523.935641: Step 1 of 1)\n",
      "Unable to load progress from job tracker\n",
      "Job completed.\n",
      "Running time was 125.0s (not counting time spent waiting for the EC2 instances)\n",
      "Fetching counters from S3...\n",
      "Waiting 5.0s for S3 eventual consistency\n",
      "Counters from step 1:\n",
      "  File Input Format Counters :\n",
      "    Bytes Read: 4675\n",
      "  File Output Format Counters :\n",
      "    Bytes Written: 2478\n",
      "  FileSystemCounters:\n",
      "    FILE_BYTES_READ: 2109\n",
      "    FILE_BYTES_WRITTEN: 136944\n",
      "    HDFS_BYTES_READ: 352\n",
      "    S3_BYTES_READ: 4675\n",
      "    S3_BYTES_WRITTEN: 2478\n",
      "  Job Counters :\n",
      "    Launched map tasks: 4\n",
      "    Launched reduce tasks: 1\n",
      "    Rack-local map tasks: 4\n",
      "    SLOTS_MILLIS_MAPS: 74634\n",
      "    SLOTS_MILLIS_REDUCES: 35979\n",
      "    Total time spent by all maps waiting after reserving slots (ms): 0\n",
      "    Total time spent by all reduces waiting after reserving slots (ms): 0\n",
      "  Map-Reduce Framework:\n",
      "    CPU time spent (ms): 4000\n",
      "    Combine input records: 0\n",
      "    Combine output records: 0\n",
      "    Map input bytes: 1867\n",
      "    Map input records: 50\n",
      "    Map output bytes: 2723\n",
      "    Map output materialized bytes: 2401\n",
      "    Map output records: 249\n",
      "    Physical memory (bytes) snapshot: 853176320\n",
      "    Reduce input groups: 117\n",
      "    Reduce input records: 249\n",
      "    Reduce output records: 117\n",
      "    Reduce shuffle bytes: 2401\n",
      "    SPLIT_RAW_BYTES: 352\n",
      "    Spilled Records: 498\n",
      "    Total committed heap usage (bytes): 606814208\n",
      "    Virtual memory (bytes) snapshot: 3215872000\n",
      "removing tmp directory /var/folders/rz/drh189k95919thyy3gs3tq400000gn/T/most_freq_words.nicholashamlin.20160214.182523.935641\n",
      "Removing all files in s3://mrjob-46dd62fe4baf7a13/tmp/most_freq_words.nicholashamlin.20160214.182523.935641/\n",
      "Removing all files in s3://mrjob-46dd62fe4baf7a13/tmp/logs/j-293AF6MIHM0DD/\n",
      "Killing our SSH tunnel (pid 1632)\n",
      "Terminating job flow: j-293AF6MIHM0DD\n"
     ]
    }
   ],
   "source": [
    " python ./word_density.py \\\n",
    "    -r emr s3://filtered-5grams  \\\n",
    "    --conf-path ./mrjob.conf \\\n",
    "    --output-dir=s3://hamlin-mids-261/word_density \\\n",
    "    --no-output \\\n",
    "    --no-strict-protocol"
   ]
  },
  {
   "cell_type": "markdown",
   "metadata": {},
   "source": [
    "### - Distribution of 5-gram sizes (character length) sorted in decreasing order of relative frequency.  E.g., count (using the count field) up how many times a 5-gram of 50 characters shows up. Plot the data graphically.\n"
   ]
  },
  {
   "cell_type": "code",
   "execution_count": 130,
   "metadata": {
    "collapsed": false
   },
   "outputs": [
    {
     "name": "stdout",
     "output_type": "stream",
     "text": [
      "Overwriting ngram_distribution.py\n"
     ]
    }
   ],
   "source": [
    "%%writefile ngram_distribution.py\n",
    "#HW 5.3 - MRJob Definition\n",
    "from __future__ import division\n",
    "import csv\n",
    "\n",
    "from mrjob.job import MRJob\n",
    "from mrjob.step import MRStep\n",
    "\n",
    "class NgramDistribution(MRJob):\n",
    "    \n",
    "    def mapper_init(self):\n",
    "        self.count=0\n",
    "\n",
    "    def mapper(self, _, line):\n",
    "        \"\"\" \"\"\"\n",
    "        line=line.strip().split('\\t')\n",
    "        ngram=line[0] #The text of the ngram\n",
    "        size=len(ngram)\n",
    "        ngram_count=int(line[1]) #The count of the ngram\n",
    "        self.count+=ngram_count #Add the count to the running total of counts\n",
    "        yield size,ngram_count #Yield the ngram and its count\n",
    "    \n",
    "    def mapper_final(self):\n",
    "        yield '*count',self.count #Yield the total for order-inversion\n",
    "        \n",
    "    def reducer_init(self):\n",
    "        self.total_count=None\n",
    "            \n",
    "    def reducer(self,ngram,ngram_count):\n",
    "        total=sum(ngram_count) #\n",
    "        overall_total=None\n",
    "        if ngram=='*count':\n",
    "            overall_total=total\n",
    "            self.total_count=total\n",
    "        else:\n",
    "            yield ngram,(total)#, total/self.total_count)\n",
    "        \n",
    "    def steps(self):\n",
    "        return [\n",
    "            MRStep(\n",
    "                mapper_init=self.mapper_init,\n",
    "                mapper=self.mapper\n",
    "                ,mapper_final=self.mapper_final\n",
    "                #,combiner=self.reducer\n",
    "                ,reducer_init=self.reducer_init\n",
    "                ,reducer=self.reducer\n",
    "                  )        \n",
    "        ]\n",
    "        \n",
    "if __name__ == '__main__':\n",
    "    NgramDistribution.run()"
   ]
  },
  {
   "cell_type": "code",
   "execution_count": 131,
   "metadata": {
    "collapsed": false,
    "scrolled": true
   },
   "outputs": [
    {
     "name": "stderr",
     "output_type": "stream",
     "text": [
      "WARNING:mrjob.runner:\n",
      "WARNING:mrjob.runner:PLEASE NOTE: Starting in mrjob v0.5.0, protocols will be strict by default. It's recommended you run your job with --strict-protocols or set up mrjob.conf as described at https://pythonhosted.org/mrjob/whats-new.html#ready-for-strict-protocols\n",
      "WARNING:mrjob.runner:\n"
     ]
    },
    {
     "name": "stdout",
     "output_type": "stream",
     "text": [
      "(17, 62)\n",
      "(19, 191)\n",
      "(20, 58)\n",
      "(21, 634)\n",
      "(22, 1255)\n",
      "(23, 25376)\n",
      "(24, 347)\n",
      "(25, 184)\n",
      "(26, 994)\n",
      "(27, 233)\n",
      "(28, 1373)\n",
      "(29, 630)\n",
      "(30, 280)\n",
      "(31, 215)\n",
      "(33, 679)\n",
      "(34, 61)\n"
     ]
    }
   ],
   "source": [
    "#HW 4.3 - Driver Function\n",
    "from ngram_distribution import NgramDistribution\n",
    "\n",
    "mr_job = NgramDistribution(args=['testngrams.txt'])\n",
    "with mr_job.make_runner() as runner:\n",
    "    runner.run()\n",
    "    for line in runner.stream_output():\n",
    "        print mr_job.parse_output_line(line)\n"
   ]
  },
  {
   "cell_type": "code",
   "execution_count": null,
   "metadata": {
    "collapsed": false,
    "scrolled": true
   },
   "outputs": [],
   "source": [
    " python ./ngram_distribution.py \\\n",
    "    -r emr s3://filtered-5grams  \\\n",
    "    --conf-path ./mrjob.conf \\\n",
    "    --output-dir=s3://hamlin-mids-261/ngram_distribution \\\n",
    "    --no-output \\\n",
    "    --no-strict-protocol    "
   ]
  },
  {
   "cell_type": "code",
   "execution_count": 135,
   "metadata": {
    "collapsed": false
   },
   "outputs": [
    {
     "name": "stdout",
     "output_type": "stream",
     "text": [
      "download: s3://hamlin-mids-261/ngram_distribution/_SUCCESS to ngram_distribution_output/_SUCCESS\n",
      "download: s3://hamlin-mids-261/ngram_distribution/part-00003 to ngram_distribution_output/part-00003\n",
      "download: s3://hamlin-mids-261/ngram_distribution/part-00005 to ngram_distribution_output/part-00005\n",
      "download: s3://hamlin-mids-261/ngram_distribution/part-00006 to ngram_distribution_output/part-00006\n",
      "download: s3://hamlin-mids-261/ngram_distribution/part-00000 to ngram_distribution_output/part-00000\n",
      "download: s3://hamlin-mids-261/ngram_distribution/part-00001 to ngram_distribution_output/part-00001\n",
      "download: s3://hamlin-mids-261/ngram_distribution/part-00004 to ngram_distribution_output/part-00004\n",
      "download: s3://hamlin-mids-261/ngram_distribution/part-00002 to ngram_distribution_output/part-00002\n"
     ]
    }
   ],
   "source": [
    "#! mkdir ./ngram_distribution_output\n",
    "#! aws s3 cp --recursive s3://hamlin-mids-261/ngram_distribution ./ngram_distribution_output "
   ]
  },
  {
   "cell_type": "code",
   "execution_count": 182,
   "metadata": {
    "collapsed": false
   },
   "outputs": [
    {
     "data": {
      "image/png": "[encoded data removed]",
      "text/plain": [
       "<matplotlib.figure.Figure at 0x108c3ded0>"
      ]
     },
     "metadata": {},
     "output_type": "display_data"
    }
   ],
   "source": [
    "%matplotlib inline\n",
    "import os\n",
    "import numpy as np\n",
    "import matplotlib.pyplot as plt\n",
    "\n",
    "\n",
    "lengths=[]\n",
    "totals=[]\n",
    "#os.chdir('./ngram_distribution_output')\n",
    "for i in os.listdir(os.getcwd()):\n",
    "    if i.startswith('part'):\n",
    "        with open(i) as f:\n",
    "            for line in f.readlines():\n",
    "                [length,total]=line.strip().split('\\t')\n",
    "                lengths.append(int(length))\n",
    "                totals.append(int(total))\n",
    "                \n",
    "fig, chart = plt.subplots()\n",
    "chart.bar(lengths,totals)\n",
    "chart.set_ylabel('Count')\n",
    "chart.set_xlabel('N-gram length (in characters)')\n",
    "chart.set_title('Distribution of n-gram lengths')\n",
    "\n",
    "fig = plt.gcf()"
   ]
  },
  {
   "cell_type": "markdown",
   "metadata": {},
   "source": [
    "## HW 5.4\n",
    "\n",
    "###Problem Statement\n",
    "In this part of the assignment we will focus on developing methods\n",
    "for detecting synonyms, using the Google 5-grams dataset. To accomplish\n",
    "this you must script two main tasks using MRJob:\n",
    "\n",
    "(1) Build stripes for the most frequent 10,000 words using cooccurence informationa based on\n",
    "the words ranked from 1001,-10,000 as a basis/vocabulary (drop stopword-like terms),\n",
    "and output to a file in your bucket on s3 (bigram analysis, though the words are non-contiguous).\n",
    "\n",
    "(2) Using two (symmetric) comparison methods of your choice \n",
    "(e.g., correlations, distances, similarities), pairwise compare \n",
    "all stripes (vectors), and output to a file in your bucket on s3.\n",
    "\n",
    "==Design notes for (1)==  \n",
    "For this task you will be able to modify the pattern we used in HW 3.2\n",
    "(feel free to use the solution as reference). To total the word counts \n",
    "across the 5-grams, output the support from the mappers using the total \n",
    "order inversion pattern:\n",
    "\n",
    "<*word,count>\n",
    "\n",
    "to ensure that the support arrives before the cooccurrences.\n",
    "\n",
    "In addition to ensuring the determination of the total word counts,\n",
    "the mapper must also output co-occurrence counts for the pairs of\n",
    "words inside of each 5-gram. Treat these words as a basket,\n",
    "as we have in HW 3, but count all stripes or pairs in both orders,\n",
    "i.e., count both orderings: (word1,word2), and (word2,word1), to preserve\n",
    "symmetry in our output for (2).\n",
    "\n",
    "==Design notes for (2)==  \n",
    "For this task you will have to determine a method of comparison.\n",
    "Here are a few that you might consider:\n",
    "\n",
    "- Jaccard\n",
    "- Cosine similarity\n",
    "- Spearman correlation\n",
    "- Euclidean distance\n",
    "- Taxicab (Manhattan) distance\n",
    "- Shortest path graph distance (a graph, because our data is symmetric!)\n",
    "- Pearson correlation\n",
    "- Kendall correlation\n",
    "...\n",
    "\n",
    "However, be cautioned that some comparison methods are more difficult to\n",
    "parallelize than others, and do not perform more associations than is necessary, \n",
    "since your choice of association will be symmetric.\n",
    "\n",
    "Please use the inverted index (discussed in live session #5) based pattern to compute the pairwise (term-by-term) similarity matrix. "
   ]
  },
  {
   "cell_type": "code",
   "execution_count": 91,
   "metadata": {
    "collapsed": true
   },
   "outputs": [],
   "source": [
    "word_dict={}\n",
    "with open('testwords.txt','rb') as f:\n",
    "    for row in f.readlines():\n",
    "        line=row.strip().split('\\t')\n",
    "        word_dict[line[0]]=line[1] "
   ]
  },
  {
   "cell_type": "code",
   "execution_count": 121,
   "metadata": {
    "collapsed": false
   },
   "outputs": [
    {
     "data": {
      "text/plain": [
       "30"
      ]
     },
     "execution_count": 121,
     "metadata": {},
     "output_type": "execute_result"
    }
   ],
   "source": [
    "test={'DocA':{'X':20, 'Y':30, 'Z':5},'DocB':{'X':100, 'Y':20},'DocC':{'M':5, 'N':20, 'Z':5}}\n",
    "test['DocA']['Y']"
   ]
  },
  {
   "cell_type": "code",
   "execution_count": 126,
   "metadata": {
    "collapsed": false
   },
   "outputs": [
    {
     "name": "stdout",
     "output_type": "stream",
     "text": [
      "Overwriting stripes.py\n"
     ]
    }
   ],
   "source": [
    "%%writefile stripes.py\n",
    "#HW 5.3 - MRJob Definition\n",
    "from __future__ import division\n",
    "from itertools import combination\n",
    "import csv\n",
    "\n",
    "from mrjob.job import MRJob\n",
    "from mrjob.step import MRStep\n",
    "\n",
    "class Stripes(MRJob):\n",
    "    \n",
    "    def mapper_init(self):\n",
    "        \"\"\"Load file of words into memory\"\"\"\n",
    "        self.word_dict={}\n",
    "        with open('testwords.txt','rb') as f:\n",
    "            for row in f.readlines():\n",
    "                line=row.strip().split('\\t')\n",
    "                self.word_dict[line[0][1:-1]]=line[1]\n",
    "        print self.word_dict\n",
    "\n",
    "    def mapper(self, _, line):\n",
    "        \"\"\" \"\"\"\n",
    "        line=line.strip().split('\\t')\n",
    "        ngram=line[0]\n",
    "        print ngram\n",
    "        words=ngram.split(\" \")\n",
    "        for word in words:\n",
    "            #We only care about words in the file\n",
    "            if word.lower() in self.word_dict.keys():\n",
    "                \n",
    "                yield word.lower(),self.word_dict[word.lower()] #Yield the ngram and its count\n",
    "    \n",
    "    def mapper_final(self):\n",
    "        yield '*count',self.count #Yield the total for order-inversion\n",
    "        \n",
    "    def reducer_init(self):\n",
    "        self.total_count=None\n",
    "            \n",
    "    def reducer(self,ngram,ngram_count):\n",
    "        total=sum(ngram_count) #\n",
    "        overall_total=None\n",
    "        if ngram=='*count':\n",
    "            overall_total=total\n",
    "            self.total_count=total\n",
    "        else:\n",
    "            yield ngram,(total, total/self.total_count)\n",
    "        \n",
    "    def steps(self):\n",
    "        return [\n",
    "            MRStep(\n",
    "                mapper_init=self.mapper_init,\n",
    "                mapper=self.mapper\n",
    "                #,mapper_final=self.mapper_final\n",
    "                #,combiner=self.reducer\n",
    "                #,reducer_init=self.reducer_init\n",
    "                #,reducer=self.reducer\n",
    "                  )        \n",
    "        ]\n",
    "        \n",
    "if __name__ == '__main__':\n",
    "    Stripes.run()"
   ]
  },
  {
   "cell_type": "code",
   "execution_count": 127,
   "metadata": {
    "collapsed": false,
    "scrolled": true
   },
   "outputs": [
    {
     "name": "stderr",
     "output_type": "stream",
     "text": [
      "WARNING:mrjob.runner:\n",
      "WARNING:mrjob.runner:PLEASE NOTE: Starting in mrjob v0.5.0, protocols will be strict by default. It's recommended you run your job with --strict-protocols or set up mrjob.conf as described at https://pythonhosted.org/mrjob/whats-new.html#ready-for-strict-protocols\n",
      "WARNING:mrjob.runner:\n"
     ]
    },
    {
     "name": "stdout",
     "output_type": "stream",
     "text": [
      "{'case': '447', 'a': '253', 'all': '376', 'instruction': '284', 'for': '376', 'honour': '549', 'study': '447', 'in': '284', 'manual': '284', 'theodolite': '61', 'female': '447', 'of': '253', 'real': '253', 'seasons': '376', 'the': '253', 'discovery': '253', 'man': '376'}\n",
      "A BILL FOR ESTABLISHING RELIGIOUS\n",
      "A Biography of General George\n",
      "A Case Study in Government\n",
      "A Case Study of Female\n",
      "A Case Study of Limited\n",
      "A Child's Christmas in Wales\n",
      "A Circumstantial Narrative of the\n",
      "A City by the Sea\n",
      "A Collection of Fairy Tales\n",
      "A Collection of Forms of\n",
      "A Commentary on his Apology\n",
      "A Comparative Study of Juvenile\n",
      "A Comparison of the Properties\n",
      "A Conceptual Framework and the\n",
      "A Conceptual Framework for Life\n",
      "A Concise Bibliography of the\n",
      "A Continuation of the Letters\n",
      "A Critical Review and a\n",
      "A Critique and a Guide\n",
      "A Defence of the Royal\n",
      "A Defence of the Short\n",
      "A Discovery of the Real\n",
      "A FURTHER LOOK AT THE\n",
      "A Festschrift in Honour of\n",
      "A Funny Dirty Little War\n",
      "A Game of Cat's Cradle\n",
      "A Guide to America's Censorship\n",
      "A HANDBOOK ON THEODOLITE SURVEYING\n",
      "A HISTORY OF TRAVEL IN\n",
      "A History of Aerial Navigation\n",
      "A History of Modern Southeast\n",
      "A History of Postwar American\n",
      "A History of Railroads in\n",
      "A History of and for\n",
      "A History of the Eurobond\n",
      "A History of the United\n",
      "A History of the White\n",
      "A Joint Report by the\n",
      "A Journey Through Spain in\n",
      "A Key to Bibliographical Study\n",
      "A Key to the Arithmetic\n",
      "A Lakota Woman Tells Her\n",
      "A Life and Times of\n",
      "A Longitudinal Study of Life\n",
      "A Lovely Way to Spend\n",
      "A MAN FOR ALL SEASONS\n",
      "A MATHEMATICAL MODEL FOR THE\n",
      "A Manual of Historical Literature\n",
      "A Manual of Instruction in\n",
      "A Manual on the Manipulation\n",
      "('a', '253')\n",
      "('for', '376')\n",
      "('a', '253')\n",
      "('of', '253')\n",
      "('a', '253')\n",
      "('case', '447')\n",
      "('study', '447')\n",
      "('in', '284')\n",
      "('a', '253')\n",
      "('case', '447')\n",
      "('study', '447')\n",
      "('of', '253')\n",
      "('female', '447')\n",
      "('a', '253')\n",
      "('case', '447')\n",
      "('study', '447')\n",
      "('of', '253')\n",
      "('a', '253')\n",
      "('in', '284')\n",
      "('a', '253')\n",
      "('of', '253')\n",
      "('the', '253')\n",
      "('a', '253')\n",
      "('the', '253')\n",
      "('a', '253')\n",
      "('of', '253')\n",
      "('a', '253')\n",
      "('of', '253')\n",
      "('of', '253')\n",
      "('a', '253')\n",
      "('a', '253')\n",
      "('study', '447')\n",
      "('of', '253')\n",
      "('a', '253')\n",
      "('of', '253')\n",
      "('the', '253')\n",
      "('a', '253')\n",
      "('the', '253')\n",
      "('a', '253')\n",
      "('for', '376')\n",
      "('a', '253')\n",
      "('of', '253')\n",
      "('the', '253')\n",
      "('a', '253')\n",
      "('of', '253')\n",
      "('the', '253')\n",
      "('a', '253')\n",
      "('a', '253')\n",
      "('a', '253')\n",
      "('a', '253')\n",
      "('a', '253')\n",
      "('of', '253')\n",
      "('the', '253')\n",
      "('a', '253')\n",
      "('of', '253')\n",
      "('the', '253')\n",
      "('a', '253')\n",
      "('discovery', '253')\n",
      "('of', '253')\n",
      "('the', '253')\n",
      "('real', '253')\n",
      "('a', '253')\n",
      "('the', '253')\n",
      "('a', '253')\n",
      "('in', '284')\n",
      "('honour', '549')\n",
      "('of', '253')\n",
      "('a', '253')\n",
      "('a', '253')\n",
      "('of', '253')\n",
      "('a', '253')\n",
      "('a', '253')\n",
      "('theodolite', '61')\n",
      "('a', '253')\n",
      "('of', '253')\n",
      "('in', '284')\n",
      "('a', '253')\n",
      "('of', '253')\n",
      "('a', '253')\n",
      "('of', '253')\n",
      "('a', '253')\n",
      "('of', '253')\n",
      "('a', '253')\n",
      "('of', '253')\n",
      "('in', '284')\n",
      "('a', '253')\n",
      "('of', '253')\n",
      "('for', '376')\n",
      "('a', '253')\n",
      "('of', '253')\n",
      "('the', '253')\n",
      "('a', '253')\n",
      "('of', '253')\n",
      "('the', '253')\n",
      "('a', '253')\n",
      "('of', '253')\n",
      "('the', '253')\n",
      "('a', '253')\n",
      "('the', '253')\n",
      "('a', '253')\n",
      "('in', '284')\n",
      "('a', '253')\n",
      "('study', '447')\n",
      "('a', '253')\n",
      "('the', '253')\n",
      "('a', '253')\n",
      "('a', '253')\n",
      "('of', '253')\n",
      "('a', '253')\n",
      "('study', '447')\n",
      "('of', '253')\n",
      "('a', '253')\n",
      "('a', '253')\n",
      "('man', '376')\n",
      "('for', '376')\n",
      "('all', '376')\n",
      "('seasons', '376')\n",
      "('a', '253')\n",
      "('for', '376')\n",
      "('the', '253')\n",
      "('a', '253')\n",
      "('manual', '284')\n",
      "('of', '253')\n",
      "('a', '253')\n",
      "('manual', '284')\n",
      "('of', '253')\n",
      "('instruction', '284')\n",
      "('in', '284')\n",
      "('a', '253')\n",
      "('manual', '284')\n",
      "('the', '253')\n"
     ]
    }
   ],
   "source": [
    "#HW 4.3 - Driver Function\n",
    "from stripes import Stripes\n",
    "\n",
    "mr_job = Stripes(args=['testngrams.txt','--file','testwords.txt'])\n",
    "with mr_job.make_runner() as runner:\n",
    "    runner.run()\n",
    "    for line in runner.stream_output():\n",
    "        print mr_job.parse_output_line(line)\n"
   ]
  },
  {
   "cell_type": "code",
   "execution_count": null,
   "metadata": {
    "collapsed": true
   },
   "outputs": [],
   "source": [
    "%%writefile mapper.py\n",
    "#!/usr/bin/python\n",
    "\n",
    "#HW 3.5 - Mapper #1 Function Code\n",
    "import sys\n",
    "sys.stderr.write(\"reporter:counter:Mapper,Script Count,1\\n\") \n",
    "number_of_carts=0\n",
    "\n",
    "#Define data split for custom partitioner\n",
    "group1 = \"abcdefghijklm\"\n",
    "group2 = \"nopqrstuvwxyz\"\n",
    "\n",
    "for line in sys.stdin:\n",
    "    line=line.strip()\n",
    "    products=line.split() #split on whitespace\n",
    "    try:\n",
    "        products.sort() #This products against double-counting\n",
    "    except:\n",
    "        pass #don't bother sorting if there aren't any pairs\n",
    "    for i,product_a in enumerate(products):\n",
    "        line_output={}\n",
    "        for product_b in products[i+1:]:\n",
    "            try:\n",
    "                line_output[product_b]+=1\n",
    "            except KeyError: #If we haven't seen a product before, add it to the dictionary\n",
    "                line_output[product_b]=1\n",
    "        \n",
    "        if line_output.keys(): #only emit a record if we find more than one product in the cart\n",
    "            if product_a[0].lower() in group1:\n",
    "                print product_a+'\\t1\\t'+str(line_output)\n",
    "            else:\n",
    "                print product_a+'\\t2\\t'+str(line_output)\n",
    "            sys.stderr.write(\"reporter:counter:Mapper,Line Count,1\\n\") \n",
    "    number_of_carts+=1\n",
    "    \n",
    "    \n",
    "print '**Total'+'\\t1\\t{\"number_of_carts\":'+str(number_of_carts)+'}'\n",
    "print '**Total'+'\\t2\\t{\"number_of_carts\":'+str(number_of_carts)+'}'\n",
    "sys.stderr.write(\"reporter:counter:Mapper,Line Count,1\\n\")"
   ]
  },
  {
   "cell_type": "code",
   "execution_count": null,
   "metadata": {
    "collapsed": true
   },
   "outputs": [],
   "source": [
    "%%writefile reducer.py\n",
    "#!/usr/bin/python\n",
    "\n",
    "#HW 3.5 - Reducer #1 Function Code\n",
    "from __future__ import division\n",
    "import sys\n",
    "from collections import Counter, OrderedDict\n",
    "sys.stderr.write(\"reporter:counter:Reducer,Script Count,1\\n\") \n",
    "s=100 #cutoff for \"frequent\"\n",
    "current_product_dict=Counter({}) #Counters make tracking individual product counts easier\n",
    "current_product=None\n",
    "count = 0 #Running total of occurrances for the chosen product\n",
    "\n",
    "number_of_carts=0\n",
    "\n",
    "for line in sys.stdin:\n",
    "    #Parse line into fields\n",
    "    product,group,product_dict=line.strip().split('\\t')\n",
    "    #The dict is passed from the mapper as a string, so we need to convert it back to a dict\n",
    "    product_dict=Counter(eval(product_dict))  \n",
    "    \n",
    "    if product=='**Total': #Extract total products for order inversion\n",
    "        number_of_carts+=product_dict['number_of_carts']\n",
    "        continue\n",
    "  \n",
    "    if current_product==product:\n",
    "        #The counter is smart enough to increment keys when they exist, and create them when they don't\n",
    "        current_product_dict+=Counter(product_dict)\n",
    "    else:\n",
    "        if current_product and current_product!='**Total':\n",
    "            #Ordering the results ensures we maintain lexicographic sorting through the reducer\n",
    "            for i in OrderedDict(sorted(current_product_dict.items())):\n",
    "                if current_product_dict[i]>=s:\n",
    "                    sys.stderr.write(\"reporter:counter:Reducer,Line Count,1\\n\") \n",
    "                    print current_product+'\\t'+i+'\\t'+str(current_product_dict[i])+'\\t'+str(current_product_dict[i]/number_of_carts)\n",
    "        current_product=product\n",
    "        current_product_dict=product_dict\n",
    "\n",
    "#Make sure to emit final row\n",
    "if current_product and current_product!='**Total':\n",
    "    for i in OrderedDict(sorted(current_product_dict.items())):\n",
    "        if current_product_dict[i]>=s:\n",
    "            sys.stderr.write(\"reporter:counter:Reducer,Line Count,1\\n\") \n",
    "            print current_product+'\\t'+i+'\\t'+str(current_product_dict[i])+'\\t'+str(current_product_dict[i]/number_of_carts)"
   ]
  },
  {
   "cell_type": "markdown",
   "metadata": {},
   "source": [
    "## HW 5.5\n",
    "\n",
    "###Problem Statement\n",
    "In this part of the assignment you will evaluate the success of you synonym detector.\n",
    "Take the top 1,000 closest/most similar/correlative pairs of words as determined\n",
    "by your measure in (2), and use the synonyms function in the accompanying\n",
    "python code:\n",
    "\n",
    "nltk_synonyms.py\n",
    "\n",
    "For each (word1,word2) pair, check to see if word1 is in the list, \n",
    "synonyms(word2), and vice-versa. If one of the two is a synonym of the other, \n",
    "then consider this pair a 'hit', and then report the precision, recall, and F1 measure  of \n",
    "your detector across your 1,000 best guesses. Report the macro averages of these measures."
   ]
  },
  {
   "cell_type": "code",
   "execution_count": 2,
   "metadata": {
    "collapsed": true
   },
   "outputs": [],
   "source": [
    "#!/usr/bin/python2.7\n",
    "''' pass a string to this funciton ( eg 'car') and it will give you a list of\n",
    "words which is related to cat, called lemma of CAT. '''\n",
    "import nltk\n",
    "from nltk.corpus import wordnet as wn\n",
    "import sys\n",
    "#print all the synset element of an element\n",
    "def synonyms(string):\n",
    "    syndict = {}\n",
    "    for i,j in enumerate(wn.synsets(string)):\n",
    "        syns = j.lemma_names()\n",
    "        for syn in syns:\n",
    "            syndict.setdefault(syn,1)\n",
    "    return syndict.keys()\n"
   ]
  },
  {
   "cell_type": "markdown",
   "metadata": {},
   "source": [
    "###End of Submission"
   ]
  }
 ],
 "metadata": {
  "kernelspec": {
   "display_name": "Python 2",
   "language": "python",
   "name": "python2"
  },
  "language_info": {
   "codemirror_mode": {
    "name": "ipython",
    "version": 2
   },
   "file_extension": ".py",
   "mimetype": "text/x-python",
   "name": "python",
   "nbconvert_exporter": "python",
   "pygments_lexer": "ipython2",
   "version": "2.7.10"
  }
 },
 "nbformat": 4,
 "nbformat_minor": 0
}
