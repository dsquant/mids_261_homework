{
 "cells": [
  {
   "cell_type": "markdown",
   "metadata": {},
   "source": [
    "# Nick Hamlin\n",
    "## W261 Final\n",
    "## 4/27/2016"
   ]
  },
  {
   "cell_type": "code",
   "execution_count": 1,
   "metadata": {
    "collapsed": true
   },
   "outputs": [],
   "source": [
    "#Use this to make sure we reload the MrJob code when we make changes\n",
    "%load_ext autoreload\n",
    "%autoreload 2\n",
    "#Render matplotlib charts in notebook\n",
    "%matplotlib inline\n",
    "\n",
    "#Import some modules we know we'll use frequently\n",
    "import numpy as np\n",
    "import pylab as plt"
   ]
  },
  {
   "cell_type": "markdown",
   "metadata": {
    "collapsed": false
   },
   "source": [
    "#Only needed to start Spark locally, unnecessary in AWS \n",
    "import os\n",
    "import sys #current as of 9/26/2015\n",
    "spark_home = os.environ['SPARK_HOME'] = \\\n",
    "   '/Users/nicholashamlin/spark-1.6.1-bin-hadoop2.6/'\n",
    "\n",
    "if not spark_home:\n",
    "    raise ValueError('SPARK_HOME enviroment variable is not set')\n",
    "sys.path.insert(0,os.path.join(spark_home,'python'))\n",
    "sys.path.insert(0,os.path.join(spark_home,'python/lib/py4j-0.9-src.zip'))\n",
    "execfile(os.path.join(spark_home,'python/pyspark/shell.py'))"
   ]
  },
  {
   "cell_type": "markdown",
   "metadata": {},
   "source": [
    "# ET 10 - A/B Testing"
   ]
  },
  {
   "cell_type": "code",
   "execution_count": 95,
   "metadata": {
    "collapsed": false
   },
   "outputs": [],
   "source": [
    "#T-Test for revenue\n",
    "\n",
    "#Build datasets by combining known values with vectors of zeros until we get\n",
    "#100000 total points.  The order of the points doesn't matter, so we can put all \n",
    "#the revenue generating observations at the beginning to make data creation easier\n",
    "control=[0.5,0.5,3,3,3,3,3,4] \n",
    "treat=[1.5,.5,3,4] \n",
    "to_add_control=100000-len(control)\n",
    "to_add_treat=100000-len(treat)\n",
    "full_control=np.concatenate((np.array(control),np.zeros(to_add_control)))\n",
    "full_treat=np.concatenate((np.array(treat),np.zeros(to_add_treat)))"
   ]
  },
  {
   "cell_type": "code",
   "execution_count": 96,
   "metadata": {
    "collapsed": false
   },
   "outputs": [
    {
     "name": "stdout",
     "output_type": "stream",
     "text": [
      "1.16602334726\n",
      "0.243606599431\n"
     ]
    }
   ],
   "source": [
    "from scipy.stats import ttest_ind\n",
    "\n",
    "t,p=ttest_ind(full_control,full_treat,equal_var=False)\n",
    "print t\n",
    "print p"
   ]
  },
  {
   "cell_type": "code",
   "execution_count": 100,
   "metadata": {
    "collapsed": false
   },
   "outputs": [],
   "source": [
    "#T-Test for transactions ()\n",
    "\n",
    "#We can binarize our vectors from earlier to create a new dataset and rerun the test\n",
    "bin_control=np.ones(len(control))\n",
    "bin_treat=np.ones(len(treat))\n",
    "full_bin_control=np.concatenate((np.array(bin_control),np.zeros(to_add_control)))\n",
    "full_bin_treat=np.concatenate((np.array(bin_treat),np.zeros(to_add_treat)))"
   ]
  },
  {
   "cell_type": "code",
   "execution_count": 101,
   "metadata": {
    "collapsed": false
   },
   "outputs": [
    {
     "name": "stdout",
     "output_type": "stream",
     "text": [
      "1.15473325661\n",
      "0.248201209266\n"
     ]
    }
   ],
   "source": [
    "t,p=ttest_ind(full_bin_control,full_bin_treat,equal_var=False)\n",
    "print t\n",
    "print p"
   ]
  },
  {
   "cell_type": "markdown",
   "metadata": {},
   "source": [
    "Both results are not statistically significant at p=0.01, which makes sense given that we have only a handful of nonzero results among 100,000 transactions."
   ]
  },
  {
   "cell_type": "markdown",
   "metadata": {},
   "source": [
    "# ET 13 - Inner Join"
   ]
  },
  {
   "cell_type": "code",
   "execution_count": 10,
   "metadata": {
    "collapsed": false
   },
   "outputs": [],
   "source": [
    "data1={(1, 2), (3, 4), (3, 6)}\n",
    "data2={(3, 9),(3, 6)}"
   ]
  },
  {
   "cell_type": "code",
   "execution_count": 11,
   "metadata": {
    "collapsed": false
   },
   "outputs": [],
   "source": [
    "RDD1=sc.parallelize(data1)\n",
    "RDD2=sc.parallelize(data2)"
   ]
  },
  {
   "cell_type": "code",
   "execution_count": 14,
   "metadata": {
    "collapsed": false
   },
   "outputs": [
    {
     "data": {
      "text/plain": [
       "[(3, (4, 9)), (3, (4, 6)), (3, (6, 9)), (3, (6, 6))]"
      ]
     },
     "execution_count": 14,
     "metadata": {},
     "output_type": "execute_result"
    }
   ],
   "source": [
    "RDD1.join(RDD2).collect()"
   ]
  },
  {
   "cell_type": "markdown",
   "metadata": {},
   "source": [
    "# ET15-18: Loading the Beer Data Notebook Code"
   ]
  },
  {
   "cell_type": "code",
   "execution_count": 15,
   "metadata": {
    "collapsed": false
   },
   "outputs": [
    {
     "name": "stdout",
     "output_type": "stream",
     "text": [
      "Writing callsign_tbl_sorted.txt\n"
     ]
    }
   ],
   "source": [
    "%%writefile callsign_tbl_sorted.txt\n",
    "3AZ, Monaco (Principality of)\n",
    "3BZ, Mauritius (Republic of)\n",
    "3CZ, Equatorial Guinea (Republic of)\n",
    "3DM, Swaziland (Kingdom of)\n",
    "3DZ, Fiji (Republic of)\n",
    "3FZ, Panama (Republic of)\n",
    "3GZ, Chile\n",
    "3UZ, China (People's Republic of)\n",
    "3VZ, Tunisia\n",
    "3WZ, Viet Nam (Socialist Republic of)\n",
    "3XZ, Guinea (Republic of)\n",
    "3YZ, Norway\n",
    "3ZZ, Poland (Republic of)\n",
    "4CZ, Mexico\n",
    "4IZ, Philippines (Republic of the)\n",
    "4KZ, Azerbaijani Republic\n",
    "4LZ, Georgia (Republic of)\n",
    "4MZ, Venezuela (Republic of)\n",
    "4OZ, Montenegro (Republic of)                    \t(WRC-07)\n",
    "4SZ, Sri Lanka (Democratic Socialist Republic of)\n",
    "4TZ, Peru\n",
    "4UZ, United Nations\n",
    "4VZ, Haiti (Republic of)\n",
    "4WZ, Democratic Republic of Timor-Leste   (WRC-03)\n",
    "4XZ, Israel (State of)\n",
    "4YZ, International Civil Aviation Organization\n",
    "4ZZ, Israel (State of)\n",
    "5AZ, Libya (Socialist People's Libyan Arab Jamahiriya)\n",
    "5BZ, Cyprus (Republic of)\n",
    "5GZ, Morocco (Kingdom of)\n",
    "5IZ, Tanzania (United Republic of)\n",
    "5KZ, Colombia (Republic of)\n",
    "5MZ, Liberia (Republic of)\n",
    "5OZ, Nigeria (Federal Republic of)\n",
    "5QZ, Denmark\n",
    "5SZ, Madagascar (Republic of)\n",
    "5TZ, Mauritania (Islamic Republic of)\n",
    "5UZ, Niger (Republic of the)\n",
    "5VZ, Togolese Republic\n",
    "5WZ, Samoa (Independent State of)\n",
    "5XZ, Uganda (Republic of)\n",
    "5ZZ, Kenya (Republic of)\n",
    "6BZ, Egypt (Arab Republic of)\n",
    "6CZ, Syrian Arab Republic\n",
    "6JZ, Mexico\n",
    "6NZ, Korea (Republic of)\n",
    "6OZ, Somali Democratic Republic\n",
    "6SZ, Pakistan (Islamic Republic of)\n",
    "6UZ, Sudan (Republic of the)\n",
    "6WZ, Senegal (Republic of)\n",
    "6XZ, Madagascar (Republic of)\n",
    "6YZ, Jamaica\n",
    "6ZZ, Liberia (Republic of)\n",
    "7IZ, Indonesia (Republic of)\n",
    "7NZ, Japan\n",
    "7OZ, Yemen (Republic of)\n",
    "7PZ, Lesotho (Kingdom of)\n",
    "7QZ, Malawi\n",
    "7RZ, Algeria (People's Democratic Republic of)\n",
    "7SZ, Sweden\n",
    "7YZ, Algeria (People's Democratic Republic of)\n",
    "7ZZ, Saudi Arabia (Kingdom of)\n",
    "8IZ, Indonesia (Republic of)\n",
    "8NZ, Japan\n",
    "8OZ, Botswana (Republic of)\n",
    "8PZ, Barbados\n",
    "8QZ, Maldives (Republic of)\n",
    "8RZ, Guyana\n",
    "8SZ, Sweden\n",
    "8YZ, India (Republic of)\n",
    "8ZZ, Saudi Arabia (Kingdom of)\n",
    "9AZ, Croatia (Republic of)\n",
    "9DZ, Iran (Islamic Republic of)\n",
    "9FZ, Ethiopia (Federal Democratic Republic of)\n",
    "9GZ, Ghana\n",
    "9HZ, Malta\n",
    "9JZ, Zambia (Republic of)\n",
    "9KZ, Kuwait (State of)\n",
    "9LZ, Sierra Leone\n",
    "9MZ, Malaysia\n",
    "9NZ, Nepal\n",
    "9TZ, Democratic Republic of the Congo\n",
    "9UZ, Burundi (Republic of)\n",
    "9VZ, Singapore (Republic of)\n",
    "9WZ, Malaysia\n",
    "9XZ, Rwandese Republic\n",
    "9ZZ, Trinidad and Tobago\n",
    "A2Z, Botswana (Republic of)\n",
    "A3Z, Tonga (Kingdom of)\n",
    "A4Z, Oman (Sultanate of)\n",
    "A5Z, Bhutan (Kingdom of)\n",
    "A6Z, United Arab Emirates\n",
    "A7Z, Qatar (State of)\n",
    "A8Z, Liberia (Republic of)\n",
    "A9Z, Bahrain (State of)\n",
    "ALZ, United States of America\n",
    "AOZ, Spain\n",
    "ASZ, Pakistan (Islamic Republic of)\n",
    "AWZ, India (Republic of)\n",
    "AXZ, Australia\n",
    "AZZ, Argentine Republic\n",
    "BZZ, China (People's Republic of)\n",
    "C2Z, Nauru (Republic of)\n",
    "C3Z, Andorra (Principality of)\n",
    "C4Z, Cyprus (Republic of)\n",
    "C5Z, Gambia (Republic of the)\n",
    "C6Z, Bahamas (Commonwealth of the)\n",
    "C7Z, World Meteorological Organization\n",
    "C9Z, Mozambique (Republic of)\n",
    "CEZ, Chile\n",
    "CKZ, Canada\n",
    "CMZ, Cuba\n",
    "CNZ, Morocco (Kingdom of)\n",
    "COZ, Cuba\n",
    "CPZ, Bolivia (Republic of)\n",
    "CUZ, Portugal\n",
    "CXZ, Uruguay (Eastern Republic of)\n",
    "CZZ, Canada\n",
    "D3Z, Angola (Republic of)\n",
    "D4Z, Cape Verde (Republic of)\n",
    "D5Z, Liberia (Republic of)\n",
    "D6Z, Comoros (Islamic Federal Republic of the)\n",
    "D9Z, Korea (Republic of)\n",
    "DRZ, Germany (Federal Republic of)\n",
    "DTZ, Korea (Republic of)\n",
    "DZZ, Philippines (Republic of the)\n",
    "E2Z, Thailand\n",
    "E3Z, Eritrea\n",
    "E4Z, Palestinian Authority\n",
    "E5Z, New Zealand - Cook Islands                      \t(WRC-07)\n",
    "E6Z, New Zealand - Niue\n",
    "E7Z, Bosnia and Herzegovina (Republic of)         \t(WRC-07)\n",
    "EHZ, Spain\n",
    "EJZ, Ireland\n",
    "EKZ, Armenia (Republic of)\n",
    "ELZ, Liberia (Republic of)\n",
    "EOZ, Ukraine\n",
    "EQZ, Iran (Islamic Republic of)\n",
    "ERZ, Moldova (Republic of)\n",
    "ESZ, Estonia (Republic of)\n",
    "ETZ, Ethiopia (Federal Democratic Republic of)\n",
    "EWZ, Belarus (Republic of)\n",
    "EXZ, Kyrgyz Republic\n",
    "EYZ, Tajikistan (Republic of)\n",
    "EZZ, Turkmenistan\n",
    "FZZ, France\n",
    "GZZ, United Kingdom of Great Britain and Northern Ireland\n",
    "H2Z, Cyprus (Republic of)\n",
    "H3Z, Panama (Republic of)\n",
    "H4Z, Solomon Islands\n",
    "H7Z, Nicaragua\n",
    "H9Z, Panama (Republic of)\n",
    "HAZ, Hungary (Republic of)\n",
    "HBZ, Switzerland (Confederation of)\n",
    "HDZ, Ecuador\n",
    "HEZ, Switzerland (Confederation of)\n",
    "HFZ, Poland (Republic of)\n",
    "HGZ, Hungary (Republic of)\n",
    "HHZ, Haiti (Republic of)\n",
    "HIZ, Dominican Republic\n",
    "HKZ, Colombia (Republic of)\n",
    "HLZ, Korea (Republic of)\n",
    "HMZ, Democratic People's Republic of Korea\n",
    "HNZ, Iraq (Republic of)\n",
    "HPZ, Panama (Republic of)\n",
    "HRZ, Honduras (Republic of)\n",
    "HSZ, Thailand\n",
    "HTZ, Nicaragua\n",
    "HUZ, El Salvador (Republic of)\n",
    "HVZ, Vatican City State\n",
    "HYZ, France\n",
    "HZZ, Saudi Arabia (Kingdom of)\n",
    "IZZ, Italy\n",
    "J2Z, Djibouti (Republic of)\n",
    "J3Z, Grenada\n",
    "J4Z, Greece\n",
    "J5Z, Guinea-Bissau (Republic of)\n",
    "J6Z, Saint Lucia\n",
    "J7Z, Dominica (Commonwealth of)\n",
    "J8Z, Saint Vincent and the Grenadines\n",
    "JSZ, Japan\n",
    "JVZ, Mongolia\n",
    "JXZ, Norway\n",
    "JYZ, Jordan (Hashemite Kingdom of)\n",
    "JZZ, Indonesia (Republic of)\n",
    "KZZ, United States of America\n",
    "L9Z, Argentine Republic\n",
    "LNZ, Norway\n",
    "LWZ, Argentine Republic\n",
    "LXZ, Luxembourg\n",
    "LYZ, Lithuania (Republic of)\n",
    "LZZ, Bulgaria (Republic of)\n",
    "MZZ, United Kingdom of Great Britain and Northern Ireland\n",
    "NZZ, United States of America\n",
    "OCZ, Peru\n",
    "ODZ, Lebanon\n",
    "OEZ, Austria\n",
    "OJZ, Finland\n",
    "OLZ, Czech Republic\n",
    "OMZ, Slovak Republic\n",
    "OTZ, Belgium\n",
    "OZZ, Denmark\n",
    "P2Z, Papua New Guinea\n",
    "P3Z, Cyprus (Republic of)\n",
    "P4Z, Netherlands (Kingdom of the) - Aruba\n",
    "P9Z, Democratic People's Republic of Korea\n",
    "PIZ, Netherlands (Kingdom of the)\n",
    "PJZ, Netherlands (Kingdom of the) - Netherlands Caribbean\n",
    "POZ, Indonesia (Republic of)\n",
    "PYZ, Brazil (Federative Republic of)\n",
    "PZZ, Suriname (Republic of)\n",
    "RZZ, Russian Federation\n",
    "S3Z, Bangladesh (People's Republic of)\n",
    "S5Z, Slovenia (Republic of)\n",
    "S6Z, Singapore (Republic of)\n",
    "S7Z, Seychelles (Republic of)\n",
    "S8Z, South Africa (Republic of)\n",
    "S9Z, Sao Tome and Principe (Democratic Republic of)\n",
    "SMZ, Sweden\n",
    "SRZ, Poland (Republic of)\n",
    "SSM, Egypt (Arab Republic of)\n",
    "STZ, Sudan (Republic of the)\n",
    "SUZ, Egypt (Arab Republic of)\n",
    "SZZ, Greece\n",
    "T2Z, Tuvalu\n",
    "T3Z, Kiribati (Republic of)\n",
    "T4Z, Cuba\n",
    "T5Z, Somali Democratic Republic\n",
    "T6Z, Afghanistan (Islamic State of)\n",
    "T7Z, San Marino (Republic of)\n",
    "T8Z, Palau (Republic of)\n",
    "TCZ, Turkey\n",
    "TDZ, Guatemala (Republic of)\n",
    "TEZ, Costa Rica\n",
    "TFZ, Iceland\n",
    "TGZ, Guatemala (Republic of)\n",
    "THZ, France\n",
    "TIZ, Costa Rica\n",
    "TJZ, Cameroon (Republic of)\n",
    "TKZ, France\n",
    "TLZ, Central African Republic\n",
    "TMZ, France\n",
    "TNZ, Congo (Republic of the)\n",
    "TQZ, France\n",
    "TRZ, Gabonese Republic\n",
    "TSZ, Tunisia\n",
    "TTZ, Chad (Republic of)\n",
    "TUZ, Côte d'Ivoire (Republic of)\n",
    "TXZ, France\n",
    "TYZ, Benin (Republic of)\n",
    "TZZ, Mali (Republic of)\n",
    "UIZ, Russian Federation\n",
    "UMZ, Uzbekistan (Republic of)\n",
    "UQZ, Kazakhstan (Republic of)\n",
    "UZZ, Ukraine\n",
    "V2Z, Antigua and Barbuda\n",
    "V3Z, Belize\n",
    "V4Z, Saint Kitts and Nevis\n",
    "V5Z, Namibia (Republic of)\n",
    "V6Z, Micronesia (Federated States of)\n",
    "V7Z, Marshall Islands (Republic of the)\n",
    "V8Z, Brunei Darussalam\n",
    "VGZ, Canada\n",
    "VNZ, Australia\n",
    "VOZ, Canada\n",
    "VQZ, United Kingdom of Great Britain and Northern Ireland\n",
    "VRZ, China (People's Republic of) - Hong Kong\n",
    "VSZ, United Kingdom of Great Britain and Northern Ireland\n",
    "VWZ, India (Republic of)\n",
    "VYZ, Canada\n",
    "VZZ, Australia\n",
    "WZZ, United States of America\n",
    "XIZ, Mexico\n",
    "XOZ, Canada\n",
    "XPZ, Denmark\n",
    "XRZ, Chile\n",
    "XSZ, China (People's Republic of)\n",
    "XTZ, Burkina Faso\n",
    "XUZ, Cambodia (Kingdom of)\n",
    "XVZ, Viet Nam (Socialist Republic of)\n",
    "XWZ, Lao People's Democratic Republic\n",
    "XXZ, China (People's Republic of) - Macao         \t(WRC-07)\n",
    "XZZ, Myanmar (Union of)\n",
    "Y9Z, Germany (Federal Republic of)\n",
    "YAZ, Afghanistan (Islamic State of)\n",
    "YHZ, Indonesia (Republic of)\n",
    "YIZ, Iraq (Republic of)\n",
    "YJZ, Vanuatu (Republic of)\n",
    "YKZ, Syrian Arab Republic\n",
    "YLZ, Latvia (Republic of)\n",
    "YMZ, Turkey\n",
    "YNZ, Nicaragua\n",
    "YRZ, Romania\n",
    "YSZ, El Salvador (Republic of)\n",
    "YUZ, Serbia (Republic of)                                   \t(WRC-07)\n",
    "YYZ, Venezuela (Republic of)\n",
    "Z2Z, Zimbabwe (Republic of)\n",
    "Z3Z, The Former Yugoslav Republic of Macedonia\n",
    "Z8Z, South Sudan (Republic of)\n",
    "ZAZ, Albania (Republic of)\n",
    "ZJZ, United Kingdom of Great Britain and Northern Ireland\n",
    "ZMZ, New Zealand\n",
    "ZOZ, United Kingdom of Great Britain and Northern Ireland\n",
    "ZPZ, Paraguay (Republic of)\n",
    "ZQZ, United Kingdom of Great Britain and Northern Ireland\n",
    "ZUZ, South Africa (Republic of)\n",
    "ZZZ, Brazil (Federative Republic of)"
   ]
  },
  {
   "cell_type": "code",
   "execution_count": 16,
   "metadata": {
    "collapsed": true
   },
   "outputs": [],
   "source": [
    "#..... Other code...\n",
    "#Country lookup code\n",
    "\n",
    "# Helper functions for looking up the call signs\n",
    "\n",
    "def lookupCountry(sign, prefixes):\n",
    "    pos = bisect.bisect_left(prefixes, sign)\n",
    "    return prefixes[pos].split(\",\")[1]\n",
    "\n",
    "\n",
    "def loadCallSignTable():\n",
    "    f = open(\"callsign_tbl_sorted.txt\", \"r\")\n",
    "    return f.readlines()\n",
    "\n",
    "# Lookup the locations of the call signs on the\n",
    "# RDD contactCounts. We load a list of call sign\n",
    "# prefixes to country code to support this lookup.\n",
    "signPrefixes = loadCallSignTable()\n",
    "\n",
    "\n",
    "def processSignCount(sign_count, signPrefixes):\n",
    "    country = lookupCountry(sign_count[0], signPrefixes)\n",
    "    count = sign_count[1]\n",
    "    return (country, count)\n",
    "\n",
    "contactCounts = sc.parallelize([[\"ZMZ\", 1], [\"ZMZ\", 3]])\n",
    "\n",
    "countryContactCounts = (contactCounts\n",
    "                        .map(lambda signCount: processSignCount(signCount, signPrefixes))\n",
    "                        .reduceByKey((lambda x, y: x + y)))\n",
    "\n",
    "#countryContactCounts.saveAsTextFile(\"tmp/countries.txt\")\n",
    "\n"
   ]
  },
  {
   "cell_type": "code",
   "execution_count": 28,
   "metadata": {
    "collapsed": false
   },
   "outputs": [
    {
     "name": "stdout",
     "output_type": "stream",
     "text": [
      "Overwriting beerSales.txt\n"
     ]
    }
   ],
   "source": [
    "%%writefile beerSales.txt\n",
    "Week\tPRICE12PK\tPRICE18PK\tPRICE30PK\tCASES12PK\tCASES18PK\tCASES30PK\n",
    "1\t19.98\t14.10\t15.19\t223.5\t439\t55.00\n",
    "2\t19.98\t18.65\t15.19\t215.0\t98\t66.75\n",
    "3\t19.98\t18.65\t13.87\t227.5\t70\t242.00\n",
    "4\t19.98\t18.65\t12.83\t244.5\t52\t488.50\n",
    "5\t19.98\t18.65\t13.16\t313.5\t64\t308.75\n",
    "6\t19.98\t18.65\t15.19\t279.0\t72\t111.75\n",
    "7\t19.98\t18.65\t13.92\t238.0\t47\t252.50\n",
    "8\t20.10\t18.73\t14.42\t315.5\t85\t221.25\n",
    "9\t20.12\t18.75\t13.83\t217.0\t59\t245.25\n",
    "10\t20.13\t18.75\t14.50\t209.5\t63\t148.50\n",
    "11\t20.14\t18.75\t13.87\t227.0\t57\t229.75\n",
    "12\t20.12\t18.75\t13.64\t216.5\t54\t312.00\n",
    "13\t20.12\t13.87\t14.31\t169.0\t404\t96.75\n",
    "14\t20.13\t14.27\t13.85\t178.0\t380\t123.25\n",
    "15\t20.14\t18.76\t14.20\t301.5\t65\t200.50\n",
    "16\t20.14\t18.77\t13.64\t266.5\t40\t359.75\n",
    "17\t20.13\t13.87\t14.33\t182.5\t456\t113.50\n",
    "18\t20.13\t14.14\t13.14\t159.0\t176\t136.50\n",
    "19\t20.13\t18.76\t13.81\t285.5\t61\t225.50\n",
    "20\t20.13\t18.72\t15.19\t360.0\t91\t122.25\n",
    "21\t20.13\t18.76\t13.13\t263.0\t59\t443.75\n",
    "22\t19.18\t18.76\t13.63\t443.5\t83\t322.75\n",
    "23\t14.78\t18.74\t15.19\t1101.5\t41\t53.00\n",
    "24\t16.04\t18.75\t13.89\t814.0\t47\t140.75\n",
    "25\t20.12\t18.75\t14.28\t365.0\t84\t210.75\n",
    "26\t19.75\t18.75\t15.19\t510.0\t85\t110.50\n",
    "27\t19.65\t18.75\t13.12\t580.5\t116\t568.25\n",
    "28\t19.69\t13.79\t13.78\t251.0\t544\t115.50\n",
    "29\t20.12\t13.49\t15.19\t237.0\t890\t58.75\n",
    "30\t20.12\t14.89\t15.19\t302.5\t371\t77.25\n",
    "31\t20.13\t13.94\t15.19\t229.5\t557\t66.25\n",
    "32\t20.14\t13.67\t15.19\t188.5\t775\t50.00\n",
    "33\t15.14\t14.43\t15.19\t795.5\t236\t46.50\n",
    "34\t14.33\t18.75\t15.19\t1556.5\t43\t65.75\n",
    "35\t16.24\t18.22\t13.14\t807.5\t63\t252.75\n",
    "36\t19.93\t14.06\t13.45\t243.0\t469\t179.00\n",
    "37\t21.06\t14.43\t13.00\t201.5\t335\t226.25\n",
    "38\t21.19\t19.48\t13.60\t294.0\t75\t288.50\n",
    "39\t21.23\t15.15\t14.46\t220.5\t461\t114.25\n",
    "40\t20.12\t13.79\t14.94\t255.5\t817\t70.00\n",
    "41\t14.73\t14.31\t15.19\t920.5\t200\t47.75\n",
    "42\t14.57\t19.50\t15.19\t730.0\t32\t98.75\n",
    "43\t15.94\t13.85\t15.19\t262.5\t460\t77.00\n",
    "44\t20.70\t14.23\t13.43\t209.5\t751\t160.50\n",
    "45\t19.57\t19.31\t14.37\t283.0\t70\t143.50\n",
    "46\t19.60\t19.29\t15.19\t262.5\t80\t133.00\n",
    "47\t19.94\t13.76\t15.19\t310.0\t523\t68.75\n",
    "48\t21.28\t13.45\t15.19\t278.5\t741\t81.75\n",
    "49\t14.56\t15.13\t15.19\t741.5\t130\t56.25\n",
    "50\t14.39\t19.43\t15.19\t1316.0\t69\t68.75\n",
    "51\t16.81\t13.26\t15.19\t449.0\t493\t49.25\n",
    "52\t19.86\t13.92\t15.19\t505.0\t814\t76.50"
   ]
  },
  {
   "cell_type": "code",
   "execution_count": 29,
   "metadata": {
    "collapsed": true
   },
   "outputs": [],
   "source": [
    "df=sc.textFile(\"beerSales.txt\")"
   ]
  },
  {
   "cell_type": "markdown",
   "metadata": {},
   "source": [
    "# ET 15 Mean Model MAPE"
   ]
  },
  {
   "cell_type": "markdown",
   "metadata": {},
   "source": [
    "The mean absolute percentage error (MAPE), also known as mean absolute percentage deviation (MAPD), is a measure of prediction accuracy of a model for say a forecasting method in statistics, \n",
    "for example in trend estimation. It usually expresses accuracy as a percentage, and is defined by the formula:\n",
    "\n",
    "MAPE = average over all examples (100*Abs(Actual - Predicted) / Actual)) \n",
    "\n",
    "Note when Actual is zero that test row is dropped from the evaluation.\n",
    "\n",
    "Construct a mean model for target variable CASES18PK. Calculate the MAPE for the mean model over the training set. Select the closest answer.\n",
    "\n",
    "(a) 200%\n",
    "(b) 250%\n",
    "(c) 20%\n",
    "(d) 180%"
   ]
  },
  {
   "cell_type": "code",
   "execution_count": 81,
   "metadata": {
    "collapsed": false
   },
   "outputs": [
    {
     "data": {
      "text/plain": [
       "200.4442233299054"
      ]
     },
     "execution_count": 81,
     "metadata": {},
     "output_type": "execute_result"
    }
   ],
   "source": [
    "from __future__ import division\n",
    "\n",
    "CASES18PK=df.map(lambda x: float(x.split('\\t')[5]))\n",
    "num_records=CASES18PK.count()\n",
    "pred_mean=CASES18PK.sum()/num_records\n",
    "#print pred_mean\n",
    "\n",
    "CASES18PK.map(lambda x: 100*abs((x-pred_mean)/x)).mean()"
   ]
  },
  {
   "cell_type": "markdown",
   "metadata": {},
   "source": [
    "# ET 16 Mean Model MAPE after Log Transform"
   ]
  },
  {
   "cell_type": "markdown",
   "metadata": {},
   "source": [
    "===== ET:16\n",
    "Use Spark and the following notebook, https://www.dropbox.com/s/6s5ph41h74bggwi/Linear-Regression-on-Beer-Data.ipynb?dl=0 to answer this question.\n",
    "\n",
    "The target variable CASES18PK is skewed, so take the log of it (and make it more normally distributed) and compute the MAPE of the mean model for CASES18PK\n",
    "Select the closest answer to your calculated MAPE.\n",
    "\n",
    "(a) 200%\n",
    "(b) 30%\n",
    "(c) 20%\n",
    "(d) 10%"
   ]
  },
  {
   "cell_type": "code",
   "execution_count": 80,
   "metadata": {
    "collapsed": false
   },
   "outputs": [
    {
     "data": {
      "text/plain": [
       "19.584934289630702"
      ]
     },
     "execution_count": 80,
     "metadata": {},
     "output_type": "execute_result"
    }
   ],
   "source": [
    "from __future__ import division\n",
    "from math import log\n",
    "\n",
    "log_CASES18PK=df.map(lambda x: log(float(x.split('\\t')[5])))\n",
    "num_records=log_CASES18PK.count()\n",
    "pred_mean=log_CASES18PK.sum()/num_records\n",
    "#print pred_mean\n",
    "\n",
    "log_CASES18PK.map(lambda x: 100*abs((x-pred_mean)/x)).mean()"
   ]
  },
  {
   "cell_type": "markdown",
   "metadata": {},
   "source": [
    "# ET 17 Linear Regression Model MAPE \n",
    "(also post log-transform)"
   ]
  },
  {
   "cell_type": "markdown",
   "metadata": {},
   "source": [
    "\n",
    "===== ET:17\n",
    "Use Spark and the following notebook, https://www.dropbox.com/s/6s5ph41h74bggwi/Linear-Regression-on-Beer-Data.ipynb?dl=0 to answer this question.\n",
    "\n",
    "Build a linear regression model using the following variables:\n",
    "\n",
    "Log(CASES18PK)  ~  log(PRICE12PK), \tlog(PRICE18PK),\tlog(PRICE30PK)\n",
    "\n",
    "Calculate MAPE over the test set and select the closest answer.\n",
    "\n",
    "(a) 4.3%\n",
    "(b) 4.6%\n",
    "(c) 3.5%\n",
    "(d) 3.9%"
   ]
  },
  {
   "cell_type": "code",
   "execution_count": 78,
   "metadata": {
    "collapsed": false
   },
   "outputs": [
    {
     "name": "stdout",
     "output_type": "stream",
     "text": [
      "19.89080517\n"
     ]
    }
   ],
   "source": [
    "from __future__ import division\n",
    "from pyspark.mllib.regression import LabeledPoint, LinearRegressionWithSGD, LinearRegressionModel\n",
    "\n",
    "# Load and parse the data\n",
    "def parsePoint(line):\n",
    "    x=line.split('\\t')\n",
    "    log_CASES18PK=log(float(x[5]))\n",
    "    log_PRICE12PK=log(float(x[1]))\n",
    "    log_PRICE18PK=log(float(x[2]))\n",
    "    log_PRICE30PK=log(float(x[3]))\n",
    "    return LabeledPoint(log_CASES18PK, [log_PRICE12PK,log_PRICE18PK,log_PRICE30PK])\n",
    "\n",
    "parsedData = df.map(parsePoint)\n",
    "\n",
    "# Build the model\n",
    "model = LinearRegressionWithSGD.train(parsedData, iterations=100, step=0.1, intercept=True)\n",
    "\n",
    "# Evaluate the model on training data\n",
    "#MAPE = average over all examples (100*Abs(Actual - Predicted) / Actual)) \n",
    "valuesAndPreds = parsedData.map(lambda p: (p.label, model.predict(p.features)))\n",
    "mape=valuesAndPreds.map(lambda (v, p): 100*abs((v-p)/v)).mean()\n",
    "print mape"
   ]
  },
  {
   "cell_type": "markdown",
   "metadata": {},
   "source": [
    "### Discussion"
   ]
  },
  {
   "cell_type": "markdown",
   "metadata": {},
   "source": [
    "This seems high given the problem choices.  I checked that my parsePoint function was returning the right results, and I believe the MAPE calculation is correct based on the results of the previous two problems appearing to make sense.  Initially I'd had the intercept parameter of my linear regression set to False, which gave me really bad results.  Turning it to True helped.  The problem specifically says linear regression (rather than ridge or lasso regression, so I've deliberately not tried to add any regularization here to help improve the results.  Examining the model weights and the predicted values themselves (which we can get away with here via collect() because we have a small dataset) doesn't reveal anything that looks too far out of the ordinary. "
   ]
  },
  {
   "cell_type": "markdown",
   "metadata": {},
   "source": [
    "### Inspecting our results"
   ]
  },
  {
   "cell_type": "code",
   "execution_count": 70,
   "metadata": {
    "collapsed": false
   },
   "outputs": [
    {
     "data": {
      "text/plain": [
       "(weights=[0.587570137179,0.25046028733,0.520347526034], intercept=1.1841889459215373)"
      ]
     },
     "execution_count": 70,
     "metadata": {},
     "output_type": "execute_result"
    }
   ],
   "source": [
    "model"
   ]
  },
  {
   "cell_type": "code",
   "execution_count": 71,
   "metadata": {
    "collapsed": false
   },
   "outputs": [
    {
     "data": {
      "text/plain": [
       "[(6.0844994130751715, 5.0222425017358532),\n",
       " (4.584967478670572, 5.0922890680905777),\n",
       " (4.248495242049359, 5.0449847520316959),\n",
       " (3.9512437185814275, 5.0044277961746388),\n",
       " (4.1588830833596715, 5.0176424104381656),\n",
       " (4.276666119016055, 5.0922890680905777),\n",
       " (3.8501476017100584, 5.0468571812778853),\n",
       " (4.442651256490317, 5.0698104306639831),\n",
       " (4.07753744390572, 5.0489240560591915),\n",
       " (4.143134726391533, 5.073832879268406),\n",
       " (4.04305126783455, 5.0510106414870508),\n",
       " (3.9889840465642745, 5.0417258320642429),\n",
       " (6.0014148779611505, 4.9911723657309945),\n",
       " (5.940171252720432, 4.9815837093341964),\n",
       " (4.174387269895637, 5.0633794960778697),\n",
       " (3.6888794541139363, 5.0425766229650559),\n",
       " (6.1224928095143865, 4.9921910685265409),\n",
       " (5.170483995038151, 4.9519086716685861),\n",
       " (4.110873864173311, 5.0485965239683983),\n",
       " (4.51085950651685, 5.0976220848334552),\n",
       " (4.07753744390572, 5.0223224711040038),\n",
       " (4.418840607796598, 5.0133647060889484),\n",
       " (3.713572066704308, 4.9163677694215622),\n",
       " (3.8501476017100584, 4.9180163647781736),\n",
       " (4.430816798843313, 5.0655854856192706),\n",
       " (4.442651256490317, 5.0868253784390873),\n",
       " (4.7535901911063645, 5.007612112896437),\n",
       " (6.298949246855942, 4.9573919376551414),\n",
       " (6.7912214627261855, 5.0152683640132025),\n",
       " (5.916202062607435, 5.0399991074447215),\n",
       " (6.322565239927284, 5.0237788618605119),\n",
       " (6.652863029353347, 5.0191719858856665),\n",
       " (5.4638318050256105, 4.8650498176176615),\n",
       " (3.7612001156935624, 4.8983339069694907),\n",
       " (4.143134726391533, 4.8892321880077425),\n",
       " (6.150602768446279, 4.9567541788151903),\n",
       " (5.814130531825066, 4.9779568354689072),\n",
       " (4.31748811353631, 5.0802088238648295),\n",
       " (6.133398042996649, 5.0502601217641097),\n",
       " (6.705639094860003, 5.0121420050076706),\n",
       " (5.298317366548036, 4.8468271182064271),\n",
       " (3.4657359027997265, 4.9179163127807124),\n",
       " (6.131226489483141, 4.8850297235456885),\n",
       " (6.621405651764134, 4.9812633691837043),\n",
       " (4.248495242049359, 5.0599401522416718),\n",
       " (4.382026634673881, 5.0894571253137251),\n",
       " (6.259581464064923, 5.0149515297198946),\n",
       " (6.608000625296087, 5.0474598625937821),\n",
       " (4.867534450455582, 4.8539623749616201),\n",
       " (4.23410650459726, 4.9097114642237356),\n",
       " (6.20050917404269, 4.9053511870328839),\n",
       " (6.70196036600254, 5.0154849624353073)]"
      ]
     },
     "execution_count": 71,
     "metadata": {},
     "output_type": "execute_result"
    }
   ],
   "source": [
    "valuesAndPreds.collect()"
   ]
  },
  {
   "cell_type": "markdown",
   "metadata": {},
   "source": [
    "# Write txt file with all answers as per submission guidelines"
   ]
  },
  {
   "cell_type": "code",
   "execution_count": 102,
   "metadata": {
    "collapsed": false
   },
   "outputs": [
    {
     "name": "stdout",
     "output_type": "stream",
     "text": [
      "Writing nick_hamlin_261_final_answers.txt\n"
     ]
    }
   ],
   "source": [
    "%%writefile nick_hamlin_261_final_answers.txt\n",
    "Nick Hamlin w261 Final Exam Answers\n",
    "ET1:C\n",
    "ET2:A\n",
    "ET3:C\n",
    "ET4:A\n",
    "ET5:A,C\n",
    "ET6:A\n",
    "ET7:C\n",
    "ET8:A,C\n",
    "ET9:B,C\n",
    "ET10:A,B,C\n",
    "ET11:B\n",
    "ET12:B,D\n",
    "ET13:B\n",
    "ET14:A\n",
    "ET15:A\n",
    "ET16:C\n",
    "ET17:B\n",
    "ET18:A"
   ]
  },
  {
   "cell_type": "code",
   "execution_count": null,
   "metadata": {
    "collapsed": true
   },
   "outputs": [],
   "source": []
  }
 ],
 "metadata": {
  "kernelspec": {
   "display_name": "Python 2",
   "language": "python",
   "name": "python2"
  },
  "language_info": {
   "codemirror_mode": {
    "name": "ipython",
    "version": 2
   },
   "file_extension": ".py",
   "mimetype": "text/x-python",
   "name": "python",
   "nbconvert_exporter": "python",
   "pygments_lexer": "ipython2",
   "version": "2.7.11"
  }
 },
 "nbformat": 4,
 "nbformat_minor": 0
}
