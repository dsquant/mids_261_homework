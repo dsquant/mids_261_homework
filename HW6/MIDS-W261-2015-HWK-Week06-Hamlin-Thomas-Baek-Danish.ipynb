{
 "cells": [
  {
   "cell_type": "markdown",
   "metadata": {},
   "source": [
    "#DATASCI W261: Machine Learning at Scale\n",
    "\n",
    "**Nick Hamlin** (nickhamlin@gmail.com)  \n",
    "**Tigi Thomas** (tgthomas@berkeley.edu)  \n",
    "**Rock Baek** (rockb1017@gmail.com)  \n",
    "**Hussein Danish** (husseindanish@gmail.com)  \n",
    "  \n",
    "Time of Submission: 9:23 PM EST, Wednesday, Feb 24, 2016  \n",
    "W261-3, Spring 2016  \n",
    "Week 6 Homework\n",
    "\n",
    "###Submission Notes:\n",
    "- For each problem, we've included a summary of the question as posed in the instructions.  In many cases, we have not included the full text to keep the final submission as uncluttered as possible.  For reference, we've included a link to the original instructions in the \"Useful Reference\" below.\n",
    "- Problem statements are listed in *italics*, while our responses are shown in plain text. \n",
    "- We've included the full output of the mapreduce jobs in our responses so that counter results are shown.  However, these don't always render nicely into PDF form.  In these situations, please reference [the complete rendered notebook on Github](https://github.com/nickhamlin/mids_261_homework/blob/master/HW4/MIDS-W261-2015-HWK-Week06-Hamlin-Thomas-Baek-Danish.ipynb)\n",
    "\n",
    "###Useful References:\n",
    "- **[Original Assignment Instructions](https://www.dropbox.com/sh/5bex8l871t0bg3a/AABXfLW7xv9OUAzY01fMa29za/HW6-Questions.txt?dl=0)**\n",
    "- **[Linear Regression in MRJob](http://nbviewer.jupyter.org/urls/dl.dropbox.com/s/kritdm3mo1daolj/MrJobLinearRegressionGD.ipynb)\n"
   ]
  },
  {
   "cell_type": "code",
   "execution_count": 5,
   "metadata": {
    "collapsed": true
   },
   "outputs": [],
   "source": [
    "#Use this to make sure we reload the MrJob code when we make changes\n",
    "%load_ext autoreload\n",
    "%autoreload 2\n",
    "#Render matplotlib charts in notebook\n",
    "%matplotlib inline\n",
    "\n",
    "#Import some modules we know we'll use frequently\n",
    "import numpy as np\n",
    "import pylab as plt"
   ]
  },
  {
   "cell_type": "markdown",
   "metadata": {},
   "source": [
    "## HW 6.0\n",
    "\n",
    "*In mathematics, computer science, economics, or management science what is mathematical optimization? Give an example of a optimization problem that you have worked with directly or that your organization has worked on. Please describe the objective function and the decision variables. Was the project successful (deployed in the real world)? Describe.*\n",
    "\n"
   ]
  },
  {
   "cell_type": "markdown",
   "metadata": {},
   "source": [
    "##HW6.1 \n",
    "\n",
    "### HW 6.1 Problem Statement\n",
    "Optimization theory: \n",
    "For unconstrained univariate optimization what are the first order necessary Conditions for Optimality (FOC).  What are the second order optimality conditions (SOC)? Give a mathematical defintion. Also in python, plot the univartiate function \n",
    "X^3 -12x^2-6 defined over the real  domain -6 to +6. \n",
    "\n",
    "Also plot its corresponding first and second derivative functions. Eyeballing these graphs, identify candidate optimal points and then classify them as local minimums or maximums. Highlight and label these points in your graphs. Justify your responses using the FOC and SOC.\n",
    "\n",
    "For unconstrained multi-variate optimization what are the first order  Necessary Conditions for Optimality (FOC).  What are the second order optimality conditions (SOC)? Give a mathematical defintion. What is the Hessian matrix in this context?"
   ]
  },
  {
   "cell_type": "code",
   "execution_count": 21,
   "metadata": {
    "collapsed": false
   },
   "outputs": [
    {
     "data": {
      "image/png": "[encoded data removed]",
      "text/plain": [
       "<matplotlib.figure.Figure at 0x10627b810>"
      ]
     },
     "metadata": {},
     "output_type": "display_data"
    }
   ],
   "source": [
    "import numpy as np\n",
    "import pylab as plt\n",
    "\n",
    "def f(x):\n",
    "    \"\"\"The function in question\"\"\"\n",
    "    return x**3-12*x**2-6\n",
    "\n",
    "def dev1f(x):\n",
    "    \"\"\"The first derivative of our function\"\"\"\n",
    "    return 3*x**2-24*x\n",
    "\n",
    "def dev2f(x):\n",
    "    \"\"\"The second derivative of our function\"\"\"\n",
    "    return 6*x-24\n",
    "\n",
    "x=np.arange(-6,6,.1)\n",
    "y0=f(x)\n",
    "y1=dev1f(x)\n",
    "y2=dev2f(x)\n",
    "\n",
    "plt.plot(x,y0)\n",
    "plt.plot(x,y1)\n",
    "plt.plot(x,y2)\n",
    "\n",
    "plt.annotate('Approx. local max', xy=(0, 0), xytext=(2, 200),\n",
    "            arrowprops=dict(facecolor='black', shrink=0.05),\n",
    "            )\n",
    "plt.show()\n"
   ]
  },
  {
   "cell_type": "markdown",
   "metadata": {},
   "source": [
    "##HW6.2\n",
    "\n",
    "### HW 6.2 Problem Statement\n",
    "Taking x=1 as the first approximation(xt1) of a root of X^3 + 2x -4 = 0, use the Newton-Raphson method to calculate the second approximation (denoted as xt2) of this root. (Hint the solution is xt2=1.2)"
   ]
  },
  {
   "cell_type": "code",
   "execution_count": 4,
   "metadata": {
    "collapsed": false
   },
   "outputs": [
    {
     "data": {
      "text/plain": [
       "1.2"
      ]
     },
     "execution_count": 4,
     "metadata": {},
     "output_type": "execute_result"
    }
   ],
   "source": [
    "from __future__ import division\n",
    "\n",
    "def f(x):\n",
    "    \"\"\"Calculate the value of our function\"\"\"\n",
    "    return x**3+2*x-4\n",
    "\n",
    "def dev1f(x):\n",
    "    \"\"\"Calculate the value of our function's derivative\"\"\"\n",
    "    return 3*x**2+2\n",
    "\n",
    "def iterate_nr_method(xt1):\n",
    "    \"\"\"Calculate a single iteration of the Newton-Raphson method for our function\"\"\"\n",
    "    xt2=xt1-(f(xt1)/dev1f(xt1))\n",
    "    return xt2\n",
    "\n",
    "iterate_nr_method(1)\n"
   ]
  },
  {
   "cell_type": "markdown",
   "metadata": {},
   "source": [
    "##HW6.3 \n",
    "\n",
    "### HW 6.3 Problem Statement\n",
    "Convex optimization \n",
    "What makes an optimization problem convex? What are the first order  Necessary Conditions for Optimality in convex optimization.  What are the second order optimality conditions for convex optimization? Are both necessary to determine the maximum or minimum of candidate optimal solutions?\n",
    "\n",
    "Fill in the BLANKS here:\n",
    "Convex minimization, a subfield of optimization, studies the problem of minimizing BLANK functions over BLANK sets. The BLANK property can make optimization in some sense \"easier\" than the general case - for example, any local minimum must be a global minimum."
   ]
  },
  {
   "cell_type": "markdown",
   "metadata": {},
   "source": [
    "##HW 6.4\n",
    "The learning objective function for weighted ordinary least squares (WOLS) (aka weight linear regression) is defined as follows:\n",
    "\n",
    "0.5\\* sumOverTrainingExample i (weight_i \\* (W \\* X_i - y_i)^2)\n",
    "\n",
    "Where training set consists of input variables X ( in vector form) and a target variable y, and W is the vector of coefficients for the linear regression model.\n",
    "\n",
    "Derive the gradient for this weighted OLS by hand; showing each step and also explaining each step."
   ]
  },
  {
   "cell_type": "markdown",
   "metadata": {},
   "source": [
    "##HW 6.5\n",
    "\n",
    "### HW 6.5 Problem Statement\n",
    "Write a MapReduce job in MRJob to do the training at scale of a weighted OLS model using gradient descent.\n",
    "\n",
    "Generate one million datapoints just like in the following notebook:  http://nbviewer.ipython.org/urls/dl.dropbox.com/s/kritdm3mo1daolj/MrJobLinearRegressionGD.ipynb\n",
    "\n",
    "Weight each example as follows: \n",
    "\n",
    "weight(x)= abs(1/x)\n",
    "\n",
    "Sample 1% of the data in MapReduce and use the sampled dataset to train a (weighted if available in SciKit-Learn) [linear regression model locally using  SciKit-Learn](http://scikit-learn.org/stable/modules/generated/sklearn.linear_model.LinearRegression.html)\n",
    "\n",
    "Plot the resulting weighted linear regression model versus the original model that you used to generate the data. Comment on your findings."
   ]
  },
  {
   "cell_type": "markdown",
   "metadata": {},
   "source": [
    "#TODO: This is the (slightly edited, so it actually runs) code from Jimi's notebook.  Need to modify to accept the weight listed above"
   ]
  },
  {
   "cell_type": "code",
   "execution_count": 77,
   "metadata": {
    "collapsed": false
   },
   "outputs": [],
   "source": [
    "size = 10000\n",
    "x = np.random.uniform(-4, 4, size)\n",
    "y = x * 1.0 - 4 + np.random.normal(0,0.5,size)\n",
    "data = zip(y,x) #NOTICE THAT THE Y-VALUE COMES FIRST!\n",
    "np.savetxt('LinearRegression.csv',data,delimiter = \",\")"
   ]
  },
  {
   "cell_type": "code",
   "execution_count": 78,
   "metadata": {
    "collapsed": false
   },
   "outputs": [
    {
     "name": "stdout",
     "output_type": "stream",
     "text": [
      "Overwriting MrJobBatchGDUpdate_LinearRegression.py\n"
     ]
    }
   ],
   "source": [
    "%%writefile MrJobBatchGDUpdate_LinearRegression.py\n",
    "from mrjob.step import MRStep\n",
    "from mrjob.job import MRJob\n",
    "\n",
    "# This MrJob calculates the gradient of the entire training set \n",
    "#     Mapper: calculate partial gradient for each example  \n",
    "#     \n",
    "class MrJobBatchGDUpdate_LinearRegression(MRJob):\n",
    "    # run before the mapper processes any input\n",
    "    def read_weightsfile(self):\n",
    "        # Read weights file\n",
    "        with open('weights.txt', 'r') as f:\n",
    "            self.weights = [float(v) for v in f.readline().split(',')]\n",
    "        # Initialze gradient for this iteration\n",
    "        self.partial_Gradient = [0]*len(self.weights)\n",
    "        self.partial_count = 0\n",
    "    \n",
    "    # Calculate partial gradient for each example \n",
    "    def partial_gradient(self, _, line):\n",
    "        D = (map(float,line.split(',')))\n",
    "        # y_hat is the predicted value given current weights\n",
    "        y_hat = self.weights[0]+self.weights[1]*D[1]\n",
    "        # Update parial gradient vector with gradient form current example\n",
    "        self.partial_Gradient =  [self.partial_Gradient[0]+ D[0]-y_hat, self.partial_Gradient[1]+(D[0]-y_hat)*D[1]]\n",
    "        self.partial_count = self.partial_count + 1\n",
    "        #yield None, (D[0]-y_hat,(D[0]-y_hat)*D[1],1)\n",
    "    \n",
    "    # Finally emit in-memory partial gradient and partial count\n",
    "    def partial_gradient_emit(self):\n",
    "        yield None, (self.partial_Gradient,self.partial_count)\n",
    "        \n",
    "    # Accumulate partial gradient from mapper and emit total gradient \n",
    "    # Output: key = None, Value = gradient vector\n",
    "    def gradient_accumulater(self, _, partial_Gradient_Record): \n",
    "        total_gradient = [0]*2\n",
    "        total_count = 0\n",
    "        for partial_Gradient,partial_count in partial_Gradient_Record:\n",
    "            total_count = total_count + partial_count\n",
    "            total_gradient[0] = total_gradient[0] + partial_Gradient[0]\n",
    "            total_gradient[1] = total_gradient[1] + partial_Gradient[1]\n",
    "        yield None, [v/total_count for v in total_gradient]\n",
    "    \n",
    "    def steps(self):\n",
    "        return [MRStep(mapper_init=self.read_weightsfile,\n",
    "                       mapper=self.partial_gradient,\n",
    "                       mapper_final=self.partial_gradient_emit,\n",
    "                       reducer=self.gradient_accumulater)] \n",
    "    \n",
    "if __name__ == '__main__':\n",
    "    MrJobBatchGDUpdate_LinearRegression.run()"
   ]
  },
  {
   "cell_type": "code",
   "execution_count": 79,
   "metadata": {
    "collapsed": false
   },
   "outputs": [
    {
     "name": "stdout",
     "output_type": "stream",
     "text": [
      "iteration =0  weights = [ 2.53361522  0.33900531]\n",
      "iteration =1  weights = [ 2.20725614  0.514381  ]\n",
      "iteration =2  weights = [ 1.89718811  0.64308105]\n",
      "iteration =3  weights = [ 1.60260376  0.73753885]\n",
      "iteration =4  weights = [ 1.32273414  0.80687525]\n",
      "iteration =5  weights = [ 1.05684737  0.85778113]\n",
      "iteration =6  weights = [ 0.80424713  0.89516483]\n",
      "iteration =7  weights = [ 0.56427117  0.92262705]\n",
      "iteration =8  weights = [ 0.3362898   0.94280926]\n",
      "iteration =9  weights = [ 0.11970441  0.95764924]\n",
      "iteration =10  weights = [-0.086054    0.96856858]\n",
      "iteration =11  weights = [-0.28152615  0.97661021]\n",
      "iteration =12  weights = [-0.46722593  0.98253927]\n",
      "iteration =13  weights = [-0.64364164  0.98691711]\n",
      "iteration =14  weights = [-0.81123722  0.9901556 ]\n",
      "iteration =15  weights = [-0.97045353  0.99255696]\n",
      "iteration =16  weights = [-1.12170939  0.99434292]\n",
      "iteration =17  weights = [-1.26540272  0.99567624]\n",
      "iteration =18  weights = [-1.4019116   0.99667636]\n",
      "iteration =19  weights = [-1.53159519  0.99743094]\n",
      "iteration =20  weights = [-1.65479471  0.99800436]\n",
      "iteration =21  weights = [-1.77183434  0.9984439 ]\n",
      "iteration =22  weights = [-1.88302206  0.99878427]\n",
      "iteration =23  weights = [-1.98865045  0.99905101]\n",
      "iteration =24  weights = [-2.08899746  0.99926287]\n",
      "iteration =25  weights = [-2.18432715  0.99943368]\n",
      "iteration =26  weights = [-2.27489038  0.99957359]\n",
      "iteration =27  weights = [-2.36092547  0.99969011]\n",
      "iteration =28  weights = [-2.44265882  0.99978878]\n",
      "iteration =29  weights = [-2.52030552  0.99987369]\n",
      "iteration =30  weights = [-2.5940699   0.99994789]\n",
      "iteration =31  weights = [-2.66414608  1.00001362]\n",
      "iteration =32  weights = [-2.73071845  1.00007259]\n",
      "iteration =33  weights = [-2.79396221  1.00012605]\n",
      "iteration =34  weights = [-2.8540438   1.00017497]\n",
      "iteration =35  weights = [-2.91112131  1.00022007]\n",
      "iteration =36  weights = [-2.96534495  1.0002619 ]\n",
      "iteration =37  weights = [-3.01685742  1.0003009 ]\n",
      "iteration =38  weights = [-3.06579427  1.00033741]\n",
      "iteration =39  weights = [-3.11228429  1.00037169]\n",
      "iteration =40  weights = [-3.1564498   1.00040397]\n",
      "iteration =41  weights = [-3.19840705  1.00043442]\n",
      "iteration =42  weights = [-3.23826644  1.00046319]\n",
      "iteration =43  weights = [-3.27613287  1.00049041]\n",
      "iteration =44  weights = [-3.31210597  1.00051618]\n",
      "iteration =45  weights = [-3.34628043  1.0005406 ]\n",
      "iteration =46  weights = [-3.37874617  1.00056376]\n",
      "iteration =47  weights = [-3.40958862  1.00058572]\n",
      "iteration =48  weights = [-3.43888895  1.00060656]\n",
      "iteration =49  weights = [-3.46672427  1.00062634]\n",
      "iteration =50  weights = [-3.49316783  1.00064512]\n",
      "iteration =51  weights = [-3.51828921  1.00066295]\n",
      "iteration =52  weights = [-3.54215453  1.00067988]\n",
      "iteration =53  weights = [-3.56482658  1.00069596]\n",
      "iteration =54  weights = [-3.58636504  1.00071123]\n",
      "iteration =55  weights = [-3.60682657  1.00072574]\n",
      "iteration =56  weights = [-3.62626503  1.00073951]\n",
      "iteration =57  weights = [-3.64473157  1.0007526 ]\n",
      "iteration =58  weights = [-3.66227478  1.00076503]\n",
      "iteration =59  weights = [-3.67894083  1.00077684]\n",
      "iteration =60  weights = [-3.69477359  1.00078806]\n",
      "iteration =61  weights = [-3.7098147   1.00079872]\n",
      "iteration =62  weights = [-3.72410376  1.00080884]\n",
      "iteration =63  weights = [-3.73767838  1.00081846]\n",
      "iteration =64  weights = [-3.75057426  1.0008276 ]\n",
      "iteration =65  weights = [-3.76282535  1.00083628]\n",
      "iteration =66  weights = [-3.77446388  1.00084452]\n",
      "iteration =67  weights = [-3.78552049  1.00085236]\n",
      "iteration =68  weights = [-3.79602428  1.0008598 ]\n",
      "iteration =69  weights = [-3.80600287  1.00086687]\n",
      "iteration =70  weights = [-3.81548253  1.00087358]\n",
      "iteration =71  weights = [-3.82448822  1.00087996]\n",
      "iteration =72  weights = [-3.83304362  1.00088602]\n",
      "iteration =73  weights = [-3.84117125  1.00089178]\n",
      "iteration =74  weights = [-3.8488925   1.00089725]\n",
      "iteration =75  weights = [-3.85622769  1.00090245]\n",
      "iteration =76  weights = [-3.86319611  1.00090739]\n",
      "iteration =77  weights = [-3.86981612  1.00091208]\n",
      "iteration =78  weights = [-3.87610513  1.00091653]\n",
      "iteration =79  weights = [-3.88207969  1.00092076]\n",
      "iteration =80  weights = [-3.88775552  1.00092478]\n",
      "iteration =81  weights = [-3.89314757  1.0009286 ]\n",
      "iteration =82  weights = [-3.89827     1.00093223]\n",
      "iteration =83  weights = [-3.90313632  1.00093568]\n",
      "iteration =84  weights = [-3.90775933  1.00093896]\n",
      "iteration =85  weights = [-3.91215118  1.00094207]\n",
      "iteration =86  weights = [-3.91632344  1.00094502]\n",
      "iteration =87  weights = [-3.92028709  1.00094783]\n",
      "iteration =88  weights = [-3.92405255  1.0009505 ]\n",
      "iteration =89  weights = [-3.92762975  1.00095303]\n",
      "iteration =90  weights = [-3.93102808  1.00095544]\n",
      "iteration =91  weights = [-3.9342565   1.00095773]\n",
      "iteration =92  weights = [-3.9373235  1.0009599]\n",
      "iteration =93  weights = [-3.94023715  1.00096197]\n",
      "iteration =94  weights = [-3.94300511  1.00096393]\n",
      "iteration =95  weights = [-3.94563468  1.00096579]\n",
      "iteration =96  weights = [-3.94813277  1.00096756]\n",
      "iteration =97  weights = [-3.95050595  1.00096924]\n",
      "iteration =98  weights = [-3.95276048  1.00097084]\n",
      "Final weights\n",
      "\n",
      "[-3.95490228  1.00097235]\n"
     ]
    }
   ],
   "source": [
    "from numpy import random,array\n",
    "from MrJobBatchGDUpdate_LinearRegression import MrJobBatchGDUpdate_LinearRegression\n",
    "\n",
    "learning_rate = 0.05\n",
    "stop_criteria = 0.000005\n",
    "\n",
    "# Generate random values as inital weights\n",
    "weights = array([random.uniform(-3,3),random.uniform(-3,3)])\n",
    "# Write the weights to the files\n",
    "with open('weights.txt', 'w+') as f:\n",
    "    f.writelines(','.join(str(j) for j in weights))\n",
    "\n",
    "# create a mrjob instance for batch gradient descent update over all data\n",
    "mr_job = MrJobBatchGDUpdate_LinearRegression(args=['LinearRegression.csv','--file',\n",
    "                                                   'weights.txt','--no-strict-protocols'])\n",
    "# Update centroids iteratively\n",
    "i = 0\n",
    "while(1):\n",
    "    print \"iteration =\"+str(i)+\"  weights =\",weights\n",
    "    # Save weights from previous iteration\n",
    "    weights_old = weights\n",
    "    with mr_job.make_runner() as runner: \n",
    "        runner.run()\n",
    "        # stream_output: get access of the output \n",
    "        for line in runner.stream_output():\n",
    "            # value is the gradient value\n",
    "            key,value =  mr_job.parse_output_line(line)\n",
    "            # Update weights\n",
    "            weights = weights + learning_rate*array(value)\n",
    "    i = i + 1\n",
    "    # Write the updated weights to file \n",
    "    with open('weights.txt', 'w+') as f:\n",
    "        f.writelines(','.join(str(j) for j in weights))\n",
    "    # Stop if weights get converged\n",
    "    if(sum((weights_old-weights)**2)<stop_criteria):\n",
    "        break\n",
    "        \n",
    "print \"Final weights\\n\"\n",
    "print weights"
   ]
  },
  {
   "cell_type": "code",
   "execution_count": 98,
   "metadata": {
    "collapsed": false
   },
   "outputs": [
    {
     "data": {
      "image/png": "[encoded data removed]",
      "text/plain": [
       "<matplotlib.figure.Figure at 0x10a53dd10>"
      ]
     },
     "metadata": {},
     "output_type": "display_data"
    }
   ],
   "source": [
    "from sklearn.linear_model import LinearRegression\n",
    "import pandas as pd\n",
    "import random as rand #avoid namespace collisions\n",
    "\n",
    "#Randomly sample 1% of our data\n",
    "n = 10000 #number of records in file\n",
    "s = int(n*0.01) #desired sample size\n",
    "filename = \"LinearRegression.csv\"\n",
    "skip = sorted(rand.sample(xrange(n),n-s))\n",
    "df = pd.read_csv(filename, skiprows=skip, header=None)\n",
    "\n",
    "#Set up background stuff to plot mapreduce data\n",
    "floor_x=min(df[1])\n",
    "ceiling_x=max(df[1])\n",
    "step_x=(ceiling_x-floor_x)/s\n",
    "pred_x=np.arange(floor_x,ceiling_x,step_x)\n",
    "\n",
    "def get_line(x,m,b):\n",
    "    return m*x+b\n",
    "\n",
    "mr_intercept=weights[0]\n",
    "mr_slope=weights[1]\n",
    "pred_y_mr=get_line(pred_x,mr_slope,mr_intercept)\n",
    "\n",
    "#Build Sklearn model\n",
    "sklearn_model=LinearRegression()\n",
    "sklearn_model.fit(df[1].reshape(-1,1),df[0])\n",
    "sk_slope=sklearn_model.coef_\n",
    "sk_intercept=sklearn_model.intercept_\n",
    "\n",
    "pred_y_sk=get_line(pred_x,sk_slope,sk_intercept)\n",
    "\n",
    "#Actually make the plots\n",
    "plt.plot(df[1],df[0],'ro') #Plot data points\n",
    "plt.plot(pred_x,pred_y_mr) #Plot Mapreduce line\n",
    "plt.plot(pred_x,pred_y_sk) #Plot Sklearn line\n",
    "plt.show()"
   ]
  },
  {
   "cell_type": "markdown",
   "metadata": {},
   "source": [
    "\n",
    "##HW6.6\n",
    "Clean up notebook for GMM via EM\n",
    "\n",
    "Using the following notebook as a starting point:\n",
    "\n",
    "http://nbviewer.jupyter.org/urls/dl.dropbox.com/s/0t7985e40fovlkw/EM-GMM-MapReduce%20Design%201.ipynb \n",
    "\n",
    "Improve this notebook as follows:\n",
    "-- Add in equations into the notebook (not images of equations) \n",
    "-- Number the equations\n",
    "-- Make sure the equation notation matches the code and the code and comments refer to the equations numbers\n",
    "-- Comment the code\n",
    "-- Rename/Reorganize the code to make it more readable\n",
    "-- Rerun the examples similar graphics (or possibly better graphics)"
   ]
  },
  {
   "cell_type": "markdown",
   "metadata": {},
   "source": [
    "##HW6.7 \n",
    "Implement Bernoulli Mixture Model via EM\n",
    "Implement the EM clustering algorithm to determine Bernoulli Mixture Model for discrete data in MRJob.\n",
    "\n",
    "As a unit test:\n",
    "\n",
    "\n",
    "As a test: use the same dataset from HW 4.5, the Tweet Dataset. \n",
    "Using this data, you will implement a 1000-dimensional EM-based Bernoulli Mixture Model  algorithm in MrJob on the users\n",
    "by their 1000-dimensional word stripes/vectors using K = 4.  Repeat this experiment using your KMeans MRJob implementation fron HW4.\n",
    "Report the rand index score using the class code as ground truth label for both algorithms and comment on your findings.\n",
    "\n",
    "Here is some more information on the Tweet Dataset.\n",
    "\n",
    "Here you will use a different dataset consisting of word-frequency distributions \n",
    "for 1,000 Twitter users. These Twitter users use language in very different ways,\n",
    "and were classified by hand according to the criteria:\n",
    "\n",
    "0: Human, where only basic human-human communication is observed.\n",
    "\n",
    "1: Cyborg, where language is primarily borrowed from other sources\n",
    "(e.g., jobs listings, classifieds postings, advertisements, etc...).\n",
    "\n",
    "2: Robot, where language is formulaically derived from unrelated sources\n",
    "(e.g., weather/seismology, police/fire event logs, etc...).\n",
    "\n",
    "3: Spammer, where language is replicated to high multiplicity\n",
    "(e.g., celebrity obsessions, personal promotion, etc... )\n",
    "\n",
    "Check out the preprints of  recent research,\n",
    "which spawned this dataset:\n",
    "\n",
    "http://arxiv.org/abs/1505.04342\n",
    "http://arxiv.org/abs/1508.01843\n",
    "\n",
    "The main data lie in the accompanying file:\n",
    "\n",
    "topUsers_Apr-Jul_2014_1000-words.txt\n",
    "\n",
    "and are of the form:\n",
    "\n",
    "USERID,CODE,TOTAL,WORD1_COUNT,WORD2_COUNT,...\n",
    ".\n",
    ".\n",
    "\n",
    "where\n",
    "\n",
    "USERID = unique user identifier\n",
    "CODE = 0/1/2/3 class code\n",
    "TOTAL = sum of the word counts\n",
    "\n",
    "Using this data, you will implement a 1000-dimensional K-means algorithm in MrJob on the users\n",
    "by their 1000-dimensional word stripes/vectors using several \n",
    "centroid initializations and values of K."
   ]
  },
  {
   "cell_type": "code",
   "execution_count": null,
   "metadata": {
    "collapsed": true
   },
   "outputs": [],
   "source": []
  }
 ],
 "metadata": {
  "kernelspec": {
   "display_name": "Python 2",
   "language": "python",
   "name": "python2"
  },
  "language_info": {
   "codemirror_mode": {
    "name": "ipython",
    "version": 2
   },
   "file_extension": ".py",
   "mimetype": "text/x-python",
   "name": "python",
   "nbconvert_exporter": "python",
   "pygments_lexer": "ipython2",
   "version": "2.7.10"
  }
 },
 "nbformat": 4,
 "nbformat_minor": 0
}
