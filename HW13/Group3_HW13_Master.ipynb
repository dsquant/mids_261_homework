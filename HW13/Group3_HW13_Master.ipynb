{
 "cells": [
  {
   "cell_type": "markdown",
   "metadata": {},
   "source": [
    "# DATASCI W261: Machine Learning at Scale\n",
    "\n",
    "### Group 3, Homework 13\n",
    "\n",
    "**Konniam Chan** (konniam.chan@berkeley.edu)  \n",
    "**Nick Hamlin** (nickhamlin@gmail.com)  \n",
    "**Tigi Thomas** (tgthomas@berkeley.edu)  \n",
    "**Angela Gunn** (angela@egunn.com)  \n",
    "**Jaime Villalpando** (jaimegvl@hotmail.com)  \n",
    "**Safyre Anderson** (think2wice.saf@gmail.com)   \n",
    "**Karthik Chepudira** (kchepudira@berkeley.edu)   \n",
    "**Jing Xu** (jing.xu@ischool.berkeley.edu)  \n",
    "**Yi Jin** (yjin@ischool.berkeley.edu)  \n",
    "**Vamsi Sakhamuri** (vamsi@ischool.berkeley.edu)  \n",
    "**Howard Wen** (howard_wen@ischool.berkeley.edu>)  \n",
    "**Prabhakar Gundugola** (prabhakar@ischool.berkeley.edu  \n",
    "\n",
    "  \n",
    "Time of Submission: 9:00 AM EST/6:00 AM PST, Friday, April 29, 2016  \n",
    "W261-3, Spring 2016  \n",
    "\n",
    "\n",
    "### Useful References and Notebook Setup:\n",
    "- **[Original Assignment Instructions](https://www.dropbox.com/s/gsti4plbst7ena3/MIDS-MLS-HW-13.txt?dl=0)**\n",
    "\n",
    "### Subnotebooks\n",
    "We've taken a divide and conquer approach on this assignment, so the different portions of the assignment are available via the linked notebooks below:\n",
    "- [13.1-13.3: Pagerank Local Content (in Jupyter)](https://github.com/KonniamChan/machine-learning-at-scale/blob/master/Week_13/MIDS-W261-2016-HWK-Week13-Group3_PageRank.ipynb)\n",
    "- [13.1-13.3: Pagerank EMR Content (in Zeppelin)](https://www.zeppelinhub.com/viewer/notebooks/aHR0cHM6Ly9yYXcuZ2l0aHVidXNlcmNvbnRlbnQuY29tL0tvbm5pYW1DaGFuL21hY2hpbmUtbGVhcm5pbmctYXQtc2NhbGUvbWFzdGVyL1dlZWtfMTMvbm90ZS5qc29u)\n",
    "- [13.4-13.5 Criteo (in Jupyter)](https://github.com/nickhamlin/mids_261_homework/blob/master/HW13/Group3_HW13_Criteo.ipynb)\n",
    "- [13.6 (OPTIONAL) HHH Problem (in Jupyter)](http://nbviewer.jupyter.org/urls/dl.dropbox.com/s/hyliycz9dv8mso7/MIDS_W261_HW13_Angela_Gunn.ipynb)"
   ]
  },
  {
   "cell_type": "code",
   "execution_count": null,
   "metadata": {
    "collapsed": true
   },
   "outputs": [],
   "source": []
  }
 ],
 "metadata": {
  "kernelspec": {
   "display_name": "Python 2",
   "language": "python",
   "name": "python2"
  },
  "language_info": {
   "codemirror_mode": {
    "name": "ipython",
    "version": 2
   },
   "file_extension": ".py",
   "mimetype": "text/x-python",
   "name": "python",
   "nbconvert_exporter": "python",
   "pygments_lexer": "ipython2",
   "version": "2.7.11"
  }
 },
 "nbformat": 4,
 "nbformat_minor": 0
}
