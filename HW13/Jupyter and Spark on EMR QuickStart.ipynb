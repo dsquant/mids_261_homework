{
 "cells": [
  {
   "cell_type": "markdown",
   "metadata": {},
   "source": [
    "## 1. Spin up cluster"
   ]
  },
  {
   "cell_type": "code",
   "execution_count": 20,
   "metadata": {
    "collapsed": false
   },
   "outputs": [
    {
     "name": "stderr",
     "output_type": "stream",
     "text": [
      "usage: aws [options] <command> <subcommand> [parameters]\n",
      "aws: error: argument --ami-version is required\n",
      "bash: line 4: --service-role: command not found\n"
     ]
    }
   ],
   "source": [
    "%%bash\n",
    "aws emr create-cluster \\\n",
    "    --applications Name=Hadoop Name=Spark \\\n",
    "    --ec2-attributes '{\"KeyName\":\"nick_key_pair\",\"InstanceProfile\":\"EMR_EC2_DefaultRole\",\"SubnetId\":\"subnet-0d43037a\",\"EmrManagedSlaveSecurityGroup\":\"sg-d7bd4baf\",\"EmrManagedMasterSecurityGroup\":\"sg-d5bd4bad\"}'\n",
    "    --service-role EMR_DefaultRole \\\n",
    "    --enable-debugging \\\n",
    "    --release-label emr-4.6.0 \\\n",
    "    --log-uri 's3n://hamlin-mids-261/logs/' \\\n",
    "    --name 'My cluster' \\\n",
    "    --instance-groups '[{\"InstanceCount\":1,\"BidPrice\":\"0.05\",\"InstanceGroupType\":\"MASTER\",\"InstanceType\":\"m3.xlarge\",\"Name\":\"Master instance group - 1\"}]' \\\n",
    "    --region us-east-1"
   ]
  },
  {
   "cell_type": "markdown",
   "metadata": {},
   "source": [
    "## 2. Make sure that your EC2 security group allows SSH on port 22 on EMR master node"
   ]
  },
  {
   "cell_type": "markdown",
   "metadata": {},
   "source": [
    "## 3. SSH to master node and install stuff"
   ]
  },
  {
   "cell_type": "code",
   "execution_count": 57,
   "metadata": {
    "collapsed": true
   },
   "outputs": [],
   "source": [
    "#Fill these in\n",
    "path_to_key_pair='./nick_key_pair.pem'\n",
    "cluster_public_dns='ec2-52-201-246-11.compute-1.amazonaws.com'"
   ]
  },
  {
   "cell_type": "code",
   "execution_count": 58,
   "metadata": {
    "collapsed": false
   },
   "outputs": [
    {
     "name": "stdout",
     "output_type": "stream",
     "text": [
      "ssh -i ./nick_key_pair.pem hadoop@ec2-52-201-246-11.compute-1.amazonaws.com\n"
     ]
    }
   ],
   "source": [
    "#Connect to master node\n",
    "print \"ssh -i {0} hadoop@{1}\".format(path_to_key_pair,cluster_public_dns)"
   ]
  },
  {
   "cell_type": "code",
   "execution_count": 53,
   "metadata": {
    "collapsed": false
   },
   "outputs": [
    {
     "name": "stdout",
     "output_type": "stream",
     "text": [
      "sudo pip install ipython jupyter\n",
      "\n",
      "PYSPARK_DRIVER_PYTHON=jupyter PYSPARK_DRIVER_PYTHON_OPTS=\"notebook --no-browser --port=7777\" pyspark\n"
     ]
    }
   ],
   "source": [
    "#install stuff\n",
    "print \"sudo pip install ipython jupyter\"\n",
    "\n",
    "print \"\"\n",
    "#Start the notebook\n",
    "print 'PYSPARK_DRIVER_PYTHON=jupyter PYSPARK_DRIVER_PYTHON_OPTS=\"notebook --no-browser --port=7777\" pyspark'"
   ]
  },
  {
   "cell_type": "markdown",
   "metadata": {},
   "source": [
    "## 4. Forward the port"
   ]
  },
  {
   "cell_type": "code",
   "execution_count": 59,
   "metadata": {
    "collapsed": false,
    "scrolled": true
   },
   "outputs": [
    {
     "name": "stdout",
     "output_type": "stream",
     "text": [
      "ssh -i ./nick_key_pair.pem -N -f -L localhost:7776:localhost:7777 hadoop@ec2-52-201-246-11.compute-1.amazonaws.com\n"
     ]
    }
   ],
   "source": [
    "# Forward the local port\n",
    "# ssh -i .ssh/EMR.pem -N -f -L localhost:7776:localhost:7777 hadoop@public-dns\n",
    "print \"ssh -i {0} -N -f -L localhost:7776:localhost:7777 hadoop@{1}\".format(path_to_key_pair,cluster_public_dns)"
   ]
  },
  {
   "cell_type": "markdown",
   "metadata": {},
   "source": [
    "## 5. Open http://localhost:7776/ in a local browser to access the notebook"
   ]
  },
  {
   "cell_type": "markdown",
   "metadata": {},
   "source": [
    "## 6. Move local files back and forth"
   ]
  },
  {
   "cell_type": "code",
   "execution_count": null,
   "metadata": {
    "collapsed": true
   },
   "outputs": [],
   "source": [
    "# FROM CLUSTER TO LOCAL\n",
    "# scp your_username@remotehost.edu:foobar.txt /your/local/directory\n",
    "#scp -i ~/.ssh/EMR.pem hadoop@ec2-54-187-11-233.us-west-2.compute.amazonaws.com: /home/hadoop/a13.ipynb a13.ipynb\n",
    "\n",
    "# FROM LOCAL TO CLUSTER\n",
    "# scp foobar.txt your_username@remotehost.edu:/some/remote/directory\n",
    "#scp -i ~/.ssh/EMR.pem hadoop@ec2-54-187-11-233.us-west-2.compute.amazonaws.com: a13.ipynb /home/hadoop/a13.ipynb"
   ]
  },
  {
   "cell_type": "code",
   "execution_count": 55,
   "metadata": {
    "collapsed": true
   },
   "outputs": [],
   "source": [
    "#filename=\"MIDS-W261-2015-HWK-Week13-Hamlin-Criteo.ipynb\"\n",
    "filename=\"test.ipynb\""
   ]
  },
  {
   "cell_type": "code",
   "execution_count": 60,
   "metadata": {
    "collapsed": false
   },
   "outputs": [
    {
     "name": "stdout",
     "output_type": "stream",
     "text": [
      "FROM CLUSTER TO LOCAL\n",
      "scp -i ./nick_key_pair.pem hadoop@ec2-52-201-246-11.compute-1.amazonaws.com:/home/hadoop/test.ipynb ./test.ipynb \n",
      "\n",
      "FROM LOCAL TO CLUSTER\n",
      "scp -i ./nick_key_pair.pem ./test.ipynb hadoop@ec2-52-201-246-11.compute-1.amazonaws.com:/home/hadoop/test.ipynb\n",
      "\n"
     ]
    }
   ],
   "source": [
    "print \"FROM CLUSTER TO LOCAL\"\n",
    "print \"scp -i {0} hadoop@{1}:/home/hadoop/{2} ./{2} \".format(path_to_key_pair,cluster_public_dns,filename)\n",
    "print \"\"\n",
    "print \"FROM LOCAL TO CLUSTER\"\n",
    "print \"scp -i {0} ./{2} hadoop@{1}:/home/hadoop/{2}\".format(path_to_key_pair,cluster_public_dns,filename)\n",
    "print \"\""
   ]
  },
  {
   "cell_type": "markdown",
   "metadata": {},
   "source": [
    "## Useful References"
   ]
  },
  {
   "cell_type": "markdown",
   "metadata": {},
   "source": [
    "http://docs.aws.amazon.com/ElasticMapReduce/latest/DeveloperGuide/emr-connect-master-node.html\n",
    "http://docs.aws.amazon.com/AWSEC2/latest/UserGuide/using-network-security.html#default-security-group\n",
    "http://blogs.aws.amazon.com/bigdata/post/TxX4BY5T1PQ7BQ/Using-IPython-Notebook-to-Analyze-Data-with-Amazon-EMR\n",
    "https://blogs.aws.amazon.com/bigdata/post/Tx15AY5C50K70RV/Installing-Apache-Spark-on-an-Amazon-EMR-Cluster"
   ]
  }
 ],
 "metadata": {
  "kernelspec": {
   "display_name": "Python 2",
   "language": "python",
   "name": "python2"
  },
  "language_info": {
   "codemirror_mode": {
    "name": "ipython",
    "version": 2
   },
   "file_extension": ".py",
   "mimetype": "text/x-python",
   "name": "python",
   "nbconvert_exporter": "python",
   "pygments_lexer": "ipython2",
   "version": "2.7.11"
  }
 },
 "nbformat": 4,
 "nbformat_minor": 0
}
